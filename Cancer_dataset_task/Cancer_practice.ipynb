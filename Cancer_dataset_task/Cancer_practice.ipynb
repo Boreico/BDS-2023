{
 "cells": [
  {
   "cell_type": "markdown",
   "metadata": {},
   "source": [
    "# Analysis of the Cancer dataset\n",
    "\n",
    "### The task is to infer the relationship between types of cancer and the features of the dataset.\n",
    "\n",
    "### The main challenge is to use only relevant and useful features."
   ]
  },
  {
   "cell_type": "code",
   "execution_count": 1,
   "metadata": {},
   "outputs": [],
   "source": [
    "import pandas as pd\n",
    "import numpy as np\n",
    "import matplotlib.pyplot as plt\n",
    "import seaborn as sns\n",
    "from sklearn.decomposition import PCA\n",
    "from sklearn.preprocessing import StandardScaler\n",
    "import plotly.express as px"
   ]
  },
  {
   "cell_type": "markdown",
   "metadata": {},
   "source": [
    "### Loading the data"
   ]
  },
  {
   "cell_type": "code",
   "execution_count": 2,
   "metadata": {},
   "outputs": [],
   "source": [
    "df_donor_info = pd.read_excel('pcawg_donor_clinical_August2016_v9.xlsx')"
   ]
  },
  {
   "cell_type": "code",
   "execution_count": 3,
   "metadata": {},
   "outputs": [],
   "source": [
    "df_rel = pd.read_csv('pcawg_sample_sheet.tsv', sep='\\t')"
   ]
  },
  {
   "cell_type": "code",
   "execution_count": 4,
   "metadata": {},
   "outputs": [],
   "source": [
    "df_transcription = pd.read_csv('pcawg_rnaseq_gene_expr_tpm.tsv.gz', sep='\\t', compression='gzip', header='infer')"
   ]
  },
  {
   "cell_type": "code",
   "execution_count": 5,
   "metadata": {},
   "outputs": [],
   "source": [
    "df_driver_mutations = pd.read_csv('TableS3_panorama_driver_mutations_ICGC_samples.public.tsv.gz', sep='\\t', compression='gzip', header='infer')"
   ]
  },
  {
   "cell_type": "code",
   "execution_count": 6,
   "metadata": {},
   "outputs": [],
   "source": [
    "df_signature = pd.read_csv('SignatureAnalyzer_COMPOSITE.SBS.txt.gz', sep='\\t', compression='gzip', header='infer')"
   ]
  },
  {
   "cell_type": "markdown",
   "metadata": {},
   "source": [
    "### Take a look at the data"
   ]
  },
  {
   "cell_type": "code",
   "execution_count": 7,
   "metadata": {},
   "outputs": [
    {
     "data": {
      "text/html": [
       "<div>\n",
       "<style scoped>\n",
       "    .dataframe tbody tr th:only-of-type {\n",
       "        vertical-align: middle;\n",
       "    }\n",
       "\n",
       "    .dataframe tbody tr th {\n",
       "        vertical-align: top;\n",
       "    }\n",
       "\n",
       "    .dataframe thead th {\n",
       "        text-align: right;\n",
       "    }\n",
       "</style>\n",
       "<table border=\"1\" class=\"dataframe\">\n",
       "  <thead>\n",
       "    <tr style=\"text-align: right;\">\n",
       "      <th></th>\n",
       "      <th>signature</th>\n",
       "      <th>feature</th>\n",
       "      <th>Biliary_AdenoCA__SP117655</th>\n",
       "      <th>Biliary_AdenoCA__SP117556</th>\n",
       "      <th>Biliary_AdenoCA__SP117627</th>\n",
       "      <th>Biliary_AdenoCA__SP117775</th>\n",
       "      <th>Biliary_AdenoCA__SP117332</th>\n",
       "      <th>Biliary_AdenoCA__SP117712</th>\n",
       "      <th>Biliary_AdenoCA__SP117017</th>\n",
       "      <th>Biliary_AdenoCA__SP117031</th>\n",
       "      <th>...</th>\n",
       "      <th>Skin_Melanoma__SP104056</th>\n",
       "      <th>Skin_Melanoma__SP83083</th>\n",
       "      <th>Skin_Melanoma__SP82433</th>\n",
       "      <th>Skin_Melanoma__SP82780</th>\n",
       "      <th>Skin_Melanoma__SP83019</th>\n",
       "      <th>Skin_Melanoma__SP83099</th>\n",
       "      <th>Skin_Melanoma__SP83146</th>\n",
       "      <th>Skin_Melanoma__SP103866</th>\n",
       "      <th>Skin_Melanoma__SP83844</th>\n",
       "      <th>Skin_Melanoma__SP83027</th>\n",
       "    </tr>\n",
       "  </thead>\n",
       "  <tbody>\n",
       "    <tr>\n",
       "      <th>0</th>\n",
       "      <td>BI_COMPOSITE_SNV_SBS1_P</td>\n",
       "      <td>T&gt;G_at_TTT</td>\n",
       "      <td>0.023508</td>\n",
       "      <td>0.058562</td>\n",
       "      <td>0.098343</td>\n",
       "      <td>0.054648</td>\n",
       "      <td>0.066848</td>\n",
       "      <td>0.014144</td>\n",
       "      <td>0.098530</td>\n",
       "      <td>0.055715</td>\n",
       "      <td>...</td>\n",
       "      <td>0.000860</td>\n",
       "      <td>0.004672</td>\n",
       "      <td>0.017219</td>\n",
       "      <td>0.006761</td>\n",
       "      <td>0.003202</td>\n",
       "      <td>0.012528</td>\n",
       "      <td>0.001080</td>\n",
       "      <td>0.003147</td>\n",
       "      <td>0.002654</td>\n",
       "      <td>0.036375</td>\n",
       "    </tr>\n",
       "    <tr>\n",
       "      <th>1</th>\n",
       "      <td>BI_COMPOSITE_SNV_SBS1_P</td>\n",
       "      <td>T&gt;G_at_GTT</td>\n",
       "      <td>0.004766</td>\n",
       "      <td>0.016927</td>\n",
       "      <td>0.031589</td>\n",
       "      <td>0.013261</td>\n",
       "      <td>0.018877</td>\n",
       "      <td>0.003355</td>\n",
       "      <td>0.036790</td>\n",
       "      <td>0.011522</td>\n",
       "      <td>...</td>\n",
       "      <td>0.000149</td>\n",
       "      <td>0.000932</td>\n",
       "      <td>0.001993</td>\n",
       "      <td>0.000872</td>\n",
       "      <td>0.000482</td>\n",
       "      <td>0.002394</td>\n",
       "      <td>0.000175</td>\n",
       "      <td>0.000545</td>\n",
       "      <td>0.000454</td>\n",
       "      <td>0.009805</td>\n",
       "    </tr>\n",
       "    <tr>\n",
       "      <th>2</th>\n",
       "      <td>BI_COMPOSITE_SNV_SBS1_P</td>\n",
       "      <td>T&gt;G_at_CTT</td>\n",
       "      <td>0.000024</td>\n",
       "      <td>0.000088</td>\n",
       "      <td>0.000164</td>\n",
       "      <td>0.000076</td>\n",
       "      <td>0.000140</td>\n",
       "      <td>0.000017</td>\n",
       "      <td>0.000195</td>\n",
       "      <td>0.000058</td>\n",
       "      <td>...</td>\n",
       "      <td>0.000005</td>\n",
       "      <td>0.000024</td>\n",
       "      <td>0.000053</td>\n",
       "      <td>0.000032</td>\n",
       "      <td>0.000012</td>\n",
       "      <td>0.000044</td>\n",
       "      <td>0.000005</td>\n",
       "      <td>0.000012</td>\n",
       "      <td>0.000011</td>\n",
       "      <td>0.000082</td>\n",
       "    </tr>\n",
       "    <tr>\n",
       "      <th>3</th>\n",
       "      <td>BI_COMPOSITE_SNV_SBS1_P</td>\n",
       "      <td>T&gt;G_at_ATT</td>\n",
       "      <td>0.024124</td>\n",
       "      <td>0.067120</td>\n",
       "      <td>0.099988</td>\n",
       "      <td>0.057556</td>\n",
       "      <td>0.067954</td>\n",
       "      <td>0.014029</td>\n",
       "      <td>0.126438</td>\n",
       "      <td>0.062543</td>\n",
       "      <td>...</td>\n",
       "      <td>0.001364</td>\n",
       "      <td>0.008305</td>\n",
       "      <td>0.013511</td>\n",
       "      <td>0.006454</td>\n",
       "      <td>0.004417</td>\n",
       "      <td>0.017503</td>\n",
       "      <td>0.001853</td>\n",
       "      <td>0.004373</td>\n",
       "      <td>0.003429</td>\n",
       "      <td>0.044664</td>\n",
       "    </tr>\n",
       "    <tr>\n",
       "      <th>4</th>\n",
       "      <td>BI_COMPOSITE_SNV_SBS1_P</td>\n",
       "      <td>T&gt;G_at_TTG</td>\n",
       "      <td>0.017716</td>\n",
       "      <td>0.040233</td>\n",
       "      <td>0.082326</td>\n",
       "      <td>0.031971</td>\n",
       "      <td>0.029459</td>\n",
       "      <td>0.007126</td>\n",
       "      <td>0.063224</td>\n",
       "      <td>0.040027</td>\n",
       "      <td>...</td>\n",
       "      <td>0.000902</td>\n",
       "      <td>0.004680</td>\n",
       "      <td>0.005584</td>\n",
       "      <td>0.003231</td>\n",
       "      <td>0.003003</td>\n",
       "      <td>0.011053</td>\n",
       "      <td>0.001184</td>\n",
       "      <td>0.002245</td>\n",
       "      <td>0.002447</td>\n",
       "      <td>0.014844</td>\n",
       "    </tr>\n",
       "    <tr>\n",
       "      <th>...</th>\n",
       "      <td>...</td>\n",
       "      <td>...</td>\n",
       "      <td>...</td>\n",
       "      <td>...</td>\n",
       "      <td>...</td>\n",
       "      <td>...</td>\n",
       "      <td>...</td>\n",
       "      <td>...</td>\n",
       "      <td>...</td>\n",
       "      <td>...</td>\n",
       "      <td>...</td>\n",
       "      <td>...</td>\n",
       "      <td>...</td>\n",
       "      <td>...</td>\n",
       "      <td>...</td>\n",
       "      <td>...</td>\n",
       "      <td>...</td>\n",
       "      <td>...</td>\n",
       "      <td>...</td>\n",
       "      <td>...</td>\n",
       "      <td>...</td>\n",
       "    </tr>\n",
       "    <tr>\n",
       "      <th>5755</th>\n",
       "      <td>BI_COMPOSITE_SNV_SBS83_P</td>\n",
       "      <td>C&gt;T_at_GCT</td>\n",
       "      <td>0.000000</td>\n",
       "      <td>0.000000</td>\n",
       "      <td>0.000000</td>\n",
       "      <td>0.000000</td>\n",
       "      <td>0.000000</td>\n",
       "      <td>0.000000</td>\n",
       "      <td>0.000000</td>\n",
       "      <td>0.000000</td>\n",
       "      <td>...</td>\n",
       "      <td>0.000000</td>\n",
       "      <td>0.000000</td>\n",
       "      <td>0.000000</td>\n",
       "      <td>0.000000</td>\n",
       "      <td>0.000000</td>\n",
       "      <td>0.000000</td>\n",
       "      <td>0.000000</td>\n",
       "      <td>0.000000</td>\n",
       "      <td>0.000000</td>\n",
       "      <td>0.000000</td>\n",
       "    </tr>\n",
       "    <tr>\n",
       "      <th>5756</th>\n",
       "      <td>BI_COMPOSITE_SNV_SBS83_P</td>\n",
       "      <td>C&gt;T_at_TCA</td>\n",
       "      <td>0.000000</td>\n",
       "      <td>0.000000</td>\n",
       "      <td>0.000000</td>\n",
       "      <td>0.000000</td>\n",
       "      <td>0.000000</td>\n",
       "      <td>0.000000</td>\n",
       "      <td>0.000000</td>\n",
       "      <td>0.000000</td>\n",
       "      <td>...</td>\n",
       "      <td>0.000000</td>\n",
       "      <td>0.000000</td>\n",
       "      <td>0.000000</td>\n",
       "      <td>0.000000</td>\n",
       "      <td>0.000000</td>\n",
       "      <td>0.000000</td>\n",
       "      <td>0.000000</td>\n",
       "      <td>0.000000</td>\n",
       "      <td>0.000000</td>\n",
       "      <td>0.000000</td>\n",
       "    </tr>\n",
       "    <tr>\n",
       "      <th>5757</th>\n",
       "      <td>BI_COMPOSITE_SNV_SBS83_P</td>\n",
       "      <td>C&gt;T_at_TCC</td>\n",
       "      <td>0.000000</td>\n",
       "      <td>0.000000</td>\n",
       "      <td>0.000000</td>\n",
       "      <td>0.000000</td>\n",
       "      <td>0.000000</td>\n",
       "      <td>0.000000</td>\n",
       "      <td>0.000000</td>\n",
       "      <td>0.000000</td>\n",
       "      <td>...</td>\n",
       "      <td>0.000000</td>\n",
       "      <td>0.000000</td>\n",
       "      <td>0.000000</td>\n",
       "      <td>0.000000</td>\n",
       "      <td>0.000000</td>\n",
       "      <td>0.000000</td>\n",
       "      <td>0.000000</td>\n",
       "      <td>0.000000</td>\n",
       "      <td>0.000000</td>\n",
       "      <td>0.000000</td>\n",
       "    </tr>\n",
       "    <tr>\n",
       "      <th>5758</th>\n",
       "      <td>BI_COMPOSITE_SNV_SBS83_P</td>\n",
       "      <td>C&gt;T_at_TCG</td>\n",
       "      <td>0.000000</td>\n",
       "      <td>0.000000</td>\n",
       "      <td>0.000000</td>\n",
       "      <td>0.000000</td>\n",
       "      <td>0.000000</td>\n",
       "      <td>0.000000</td>\n",
       "      <td>0.000000</td>\n",
       "      <td>0.000000</td>\n",
       "      <td>...</td>\n",
       "      <td>0.000000</td>\n",
       "      <td>0.000000</td>\n",
       "      <td>0.000000</td>\n",
       "      <td>0.000000</td>\n",
       "      <td>0.000000</td>\n",
       "      <td>0.000000</td>\n",
       "      <td>0.000000</td>\n",
       "      <td>0.000000</td>\n",
       "      <td>0.000000</td>\n",
       "      <td>0.000000</td>\n",
       "    </tr>\n",
       "    <tr>\n",
       "      <th>5759</th>\n",
       "      <td>BI_COMPOSITE_SNV_SBS83_P</td>\n",
       "      <td>C&gt;T_at_TCT</td>\n",
       "      <td>0.000000</td>\n",
       "      <td>0.000000</td>\n",
       "      <td>0.000000</td>\n",
       "      <td>0.000000</td>\n",
       "      <td>0.000000</td>\n",
       "      <td>0.000000</td>\n",
       "      <td>0.000000</td>\n",
       "      <td>0.000000</td>\n",
       "      <td>...</td>\n",
       "      <td>0.000000</td>\n",
       "      <td>0.000000</td>\n",
       "      <td>0.000000</td>\n",
       "      <td>0.000000</td>\n",
       "      <td>0.000000</td>\n",
       "      <td>0.000000</td>\n",
       "      <td>0.000000</td>\n",
       "      <td>0.000000</td>\n",
       "      <td>0.000000</td>\n",
       "      <td>0.000000</td>\n",
       "    </tr>\n",
       "  </tbody>\n",
       "</table>\n",
       "<p>5760 rows × 2782 columns</p>\n",
       "</div>"
      ],
      "text/plain": [
       "                     signature     feature  Biliary_AdenoCA__SP117655  \\\n",
       "0      BI_COMPOSITE_SNV_SBS1_P  T>G_at_TTT                   0.023508   \n",
       "1      BI_COMPOSITE_SNV_SBS1_P  T>G_at_GTT                   0.004766   \n",
       "2      BI_COMPOSITE_SNV_SBS1_P  T>G_at_CTT                   0.000024   \n",
       "3      BI_COMPOSITE_SNV_SBS1_P  T>G_at_ATT                   0.024124   \n",
       "4      BI_COMPOSITE_SNV_SBS1_P  T>G_at_TTG                   0.017716   \n",
       "...                        ...         ...                        ...   \n",
       "5755  BI_COMPOSITE_SNV_SBS83_P  C>T_at_GCT                   0.000000   \n",
       "5756  BI_COMPOSITE_SNV_SBS83_P  C>T_at_TCA                   0.000000   \n",
       "5757  BI_COMPOSITE_SNV_SBS83_P  C>T_at_TCC                   0.000000   \n",
       "5758  BI_COMPOSITE_SNV_SBS83_P  C>T_at_TCG                   0.000000   \n",
       "5759  BI_COMPOSITE_SNV_SBS83_P  C>T_at_TCT                   0.000000   \n",
       "\n",
       "      Biliary_AdenoCA__SP117556  Biliary_AdenoCA__SP117627  \\\n",
       "0                      0.058562                   0.098343   \n",
       "1                      0.016927                   0.031589   \n",
       "2                      0.000088                   0.000164   \n",
       "3                      0.067120                   0.099988   \n",
       "4                      0.040233                   0.082326   \n",
       "...                         ...                        ...   \n",
       "5755                   0.000000                   0.000000   \n",
       "5756                   0.000000                   0.000000   \n",
       "5757                   0.000000                   0.000000   \n",
       "5758                   0.000000                   0.000000   \n",
       "5759                   0.000000                   0.000000   \n",
       "\n",
       "      Biliary_AdenoCA__SP117775  Biliary_AdenoCA__SP117332  \\\n",
       "0                      0.054648                   0.066848   \n",
       "1                      0.013261                   0.018877   \n",
       "2                      0.000076                   0.000140   \n",
       "3                      0.057556                   0.067954   \n",
       "4                      0.031971                   0.029459   \n",
       "...                         ...                        ...   \n",
       "5755                   0.000000                   0.000000   \n",
       "5756                   0.000000                   0.000000   \n",
       "5757                   0.000000                   0.000000   \n",
       "5758                   0.000000                   0.000000   \n",
       "5759                   0.000000                   0.000000   \n",
       "\n",
       "      Biliary_AdenoCA__SP117712  Biliary_AdenoCA__SP117017  \\\n",
       "0                      0.014144                   0.098530   \n",
       "1                      0.003355                   0.036790   \n",
       "2                      0.000017                   0.000195   \n",
       "3                      0.014029                   0.126438   \n",
       "4                      0.007126                   0.063224   \n",
       "...                         ...                        ...   \n",
       "5755                   0.000000                   0.000000   \n",
       "5756                   0.000000                   0.000000   \n",
       "5757                   0.000000                   0.000000   \n",
       "5758                   0.000000                   0.000000   \n",
       "5759                   0.000000                   0.000000   \n",
       "\n",
       "      Biliary_AdenoCA__SP117031  ...  Skin_Melanoma__SP104056  \\\n",
       "0                      0.055715  ...                 0.000860   \n",
       "1                      0.011522  ...                 0.000149   \n",
       "2                      0.000058  ...                 0.000005   \n",
       "3                      0.062543  ...                 0.001364   \n",
       "4                      0.040027  ...                 0.000902   \n",
       "...                         ...  ...                      ...   \n",
       "5755                   0.000000  ...                 0.000000   \n",
       "5756                   0.000000  ...                 0.000000   \n",
       "5757                   0.000000  ...                 0.000000   \n",
       "5758                   0.000000  ...                 0.000000   \n",
       "5759                   0.000000  ...                 0.000000   \n",
       "\n",
       "      Skin_Melanoma__SP83083  Skin_Melanoma__SP82433  Skin_Melanoma__SP82780  \\\n",
       "0                   0.004672                0.017219                0.006761   \n",
       "1                   0.000932                0.001993                0.000872   \n",
       "2                   0.000024                0.000053                0.000032   \n",
       "3                   0.008305                0.013511                0.006454   \n",
       "4                   0.004680                0.005584                0.003231   \n",
       "...                      ...                     ...                     ...   \n",
       "5755                0.000000                0.000000                0.000000   \n",
       "5756                0.000000                0.000000                0.000000   \n",
       "5757                0.000000                0.000000                0.000000   \n",
       "5758                0.000000                0.000000                0.000000   \n",
       "5759                0.000000                0.000000                0.000000   \n",
       "\n",
       "      Skin_Melanoma__SP83019  Skin_Melanoma__SP83099  Skin_Melanoma__SP83146  \\\n",
       "0                   0.003202                0.012528                0.001080   \n",
       "1                   0.000482                0.002394                0.000175   \n",
       "2                   0.000012                0.000044                0.000005   \n",
       "3                   0.004417                0.017503                0.001853   \n",
       "4                   0.003003                0.011053                0.001184   \n",
       "...                      ...                     ...                     ...   \n",
       "5755                0.000000                0.000000                0.000000   \n",
       "5756                0.000000                0.000000                0.000000   \n",
       "5757                0.000000                0.000000                0.000000   \n",
       "5758                0.000000                0.000000                0.000000   \n",
       "5759                0.000000                0.000000                0.000000   \n",
       "\n",
       "      Skin_Melanoma__SP103866  Skin_Melanoma__SP83844  Skin_Melanoma__SP83027  \n",
       "0                    0.003147                0.002654                0.036375  \n",
       "1                    0.000545                0.000454                0.009805  \n",
       "2                    0.000012                0.000011                0.000082  \n",
       "3                    0.004373                0.003429                0.044664  \n",
       "4                    0.002245                0.002447                0.014844  \n",
       "...                       ...                     ...                     ...  \n",
       "5755                 0.000000                0.000000                0.000000  \n",
       "5756                 0.000000                0.000000                0.000000  \n",
       "5757                 0.000000                0.000000                0.000000  \n",
       "5758                 0.000000                0.000000                0.000000  \n",
       "5759                 0.000000                0.000000                0.000000  \n",
       "\n",
       "[5760 rows x 2782 columns]"
      ]
     },
     "execution_count": 7,
     "metadata": {},
     "output_type": "execute_result"
    }
   ],
   "source": [
    "df_signature"
   ]
  },
  {
   "cell_type": "code",
   "execution_count": 8,
   "metadata": {},
   "outputs": [
    {
     "data": {
      "text/html": [
       "<div>\n",
       "<style scoped>\n",
       "    .dataframe tbody tr th:only-of-type {\n",
       "        vertical-align: middle;\n",
       "    }\n",
       "\n",
       "    .dataframe tbody tr th {\n",
       "        vertical-align: top;\n",
       "    }\n",
       "\n",
       "    .dataframe thead th {\n",
       "        text-align: right;\n",
       "    }\n",
       "</style>\n",
       "<table border=\"1\" class=\"dataframe\">\n",
       "  <thead>\n",
       "    <tr style=\"text-align: right;\">\n",
       "      <th></th>\n",
       "      <th>sample_id</th>\n",
       "      <th>ttype</th>\n",
       "      <th>chr</th>\n",
       "      <th>pos</th>\n",
       "      <th>ref</th>\n",
       "      <th>alt</th>\n",
       "      <th>gene</th>\n",
       "      <th>driver</th>\n",
       "      <th>driver_statement</th>\n",
       "      <th>category</th>\n",
       "      <th>top_category</th>\n",
       "      <th>biallelic</th>\n",
       "    </tr>\n",
       "  </thead>\n",
       "  <tbody>\n",
       "    <tr>\n",
       "      <th>0</th>\n",
       "      <td>03c3c692-8a86-4843-85ae-e045f0fa6f88</td>\n",
       "      <td>Panc-AdenoCA</td>\n",
       "      <td>x</td>\n",
       "      <td>x</td>\n",
       "      <td>x</td>\n",
       "      <td>x</td>\n",
       "      <td>TSC1</td>\n",
       "      <td>known</td>\n",
       "      <td>known</td>\n",
       "      <td>coding_tsg_breakpoint</td>\n",
       "      <td>SV</td>\n",
       "      <td>no</td>\n",
       "    </tr>\n",
       "    <tr>\n",
       "      <th>1</th>\n",
       "      <td>09497b9b-6fca-48cb-af97-161a3e434a51</td>\n",
       "      <td>Eso-AdenoCa</td>\n",
       "      <td>x</td>\n",
       "      <td>x</td>\n",
       "      <td>x</td>\n",
       "      <td>x</td>\n",
       "      <td>NOTCH1</td>\n",
       "      <td>known</td>\n",
       "      <td>known</td>\n",
       "      <td>coding_tsg_breakpoint</td>\n",
       "      <td>SV</td>\n",
       "      <td>no</td>\n",
       "    </tr>\n",
       "    <tr>\n",
       "      <th>2</th>\n",
       "      <td>0bfd1043-8170-e3e4-e050-11ac0c4860c5</td>\n",
       "      <td>Prost-AdenoCA</td>\n",
       "      <td>x</td>\n",
       "      <td>x</td>\n",
       "      <td>x</td>\n",
       "      <td>x</td>\n",
       "      <td>CBLB</td>\n",
       "      <td>known</td>\n",
       "      <td>known</td>\n",
       "      <td>coding_tsg_breakpoint</td>\n",
       "      <td>SV</td>\n",
       "      <td>no</td>\n",
       "    </tr>\n",
       "    <tr>\n",
       "      <th>3</th>\n",
       "      <td>0bfd1043-8183-e3e4-e050-11ac0c4860c5</td>\n",
       "      <td>Prost-AdenoCA</td>\n",
       "      <td>x</td>\n",
       "      <td>x</td>\n",
       "      <td>x</td>\n",
       "      <td>x</td>\n",
       "      <td>PTEN</td>\n",
       "      <td>known</td>\n",
       "      <td>known</td>\n",
       "      <td>coding_tsg_breakpoint</td>\n",
       "      <td>SV</td>\n",
       "      <td>no</td>\n",
       "    </tr>\n",
       "    <tr>\n",
       "      <th>4</th>\n",
       "      <td>0e872e0d-4711-4364-a5d0-6beeb6fd3ff2</td>\n",
       "      <td>Eso-AdenoCa</td>\n",
       "      <td>x</td>\n",
       "      <td>x</td>\n",
       "      <td>x</td>\n",
       "      <td>x</td>\n",
       "      <td>ASXL1</td>\n",
       "      <td>known</td>\n",
       "      <td>known</td>\n",
       "      <td>coding_tsg_breakpoint</td>\n",
       "      <td>SV</td>\n",
       "      <td>no</td>\n",
       "    </tr>\n",
       "    <tr>\n",
       "      <th>...</th>\n",
       "      <td>...</td>\n",
       "      <td>...</td>\n",
       "      <td>...</td>\n",
       "      <td>...</td>\n",
       "      <td>...</td>\n",
       "      <td>...</td>\n",
       "      <td>...</td>\n",
       "      <td>...</td>\n",
       "      <td>...</td>\n",
       "      <td>...</td>\n",
       "      <td>...</td>\n",
       "      <td>...</td>\n",
       "    </tr>\n",
       "    <tr>\n",
       "      <th>8464</th>\n",
       "      <td>fca07e09-1fd2-9ef5-e040-11ac0d485bbd</td>\n",
       "      <td>Breast-AdenoCa</td>\n",
       "      <td>x</td>\n",
       "      <td>x</td>\n",
       "      <td>x</td>\n",
       "      <td>x</td>\n",
       "      <td>DEPDC1B</td>\n",
       "      <td>known</td>\n",
       "      <td>known</td>\n",
       "      <td>coding_tsg_breakpoint</td>\n",
       "      <td>SV</td>\n",
       "      <td>SDeletion/SSV</td>\n",
       "    </tr>\n",
       "    <tr>\n",
       "      <th>8465</th>\n",
       "      <td>fca07e09-1fd2-9ef5-e040-11ac0d485bbd</td>\n",
       "      <td>Breast-AdenoCa</td>\n",
       "      <td>x</td>\n",
       "      <td>x</td>\n",
       "      <td>x</td>\n",
       "      <td>x</td>\n",
       "      <td>FBXW7</td>\n",
       "      <td>known</td>\n",
       "      <td>known</td>\n",
       "      <td>coding_tsg_breakpoint</td>\n",
       "      <td>SV</td>\n",
       "      <td>SDeletion/SSV</td>\n",
       "    </tr>\n",
       "    <tr>\n",
       "      <th>8466</th>\n",
       "      <td>fca07e09-1fd2-9ef5-e040-11ac0d485bbd</td>\n",
       "      <td>Breast-AdenoCa</td>\n",
       "      <td>x</td>\n",
       "      <td>x</td>\n",
       "      <td>x</td>\n",
       "      <td>x</td>\n",
       "      <td>PTEN</td>\n",
       "      <td>known</td>\n",
       "      <td>known</td>\n",
       "      <td>coding_tsg_breakpoint</td>\n",
       "      <td>SV</td>\n",
       "      <td>SDeletion/SSV</td>\n",
       "    </tr>\n",
       "    <tr>\n",
       "      <th>8467</th>\n",
       "      <td>fca07e09-1fd2-9ef5-e040-11ac0d485bbd</td>\n",
       "      <td>Breast-AdenoCa</td>\n",
       "      <td>x</td>\n",
       "      <td>x</td>\n",
       "      <td>x</td>\n",
       "      <td>x</td>\n",
       "      <td>RAD51B</td>\n",
       "      <td>known</td>\n",
       "      <td>known</td>\n",
       "      <td>coding_tsg_breakpoint</td>\n",
       "      <td>SV</td>\n",
       "      <td>SDeletion/SSV</td>\n",
       "    </tr>\n",
       "    <tr>\n",
       "      <th>8468</th>\n",
       "      <td>fca6150f-d555-a29e-e040-11ac0d4873b2</td>\n",
       "      <td>Breast-AdenoCa</td>\n",
       "      <td>x</td>\n",
       "      <td>x</td>\n",
       "      <td>x</td>\n",
       "      <td>x</td>\n",
       "      <td>UVSSA</td>\n",
       "      <td>known</td>\n",
       "      <td>known</td>\n",
       "      <td>coding_tsg_breakpoint</td>\n",
       "      <td>SV</td>\n",
       "      <td>SDeletion/SSV</td>\n",
       "    </tr>\n",
       "  </tbody>\n",
       "</table>\n",
       "<p>8469 rows × 12 columns</p>\n",
       "</div>"
      ],
      "text/plain": [
       "                                 sample_id           ttype chr pos ref alt  \\\n",
       "0     03c3c692-8a86-4843-85ae-e045f0fa6f88    Panc-AdenoCA   x   x   x   x   \n",
       "1     09497b9b-6fca-48cb-af97-161a3e434a51     Eso-AdenoCa   x   x   x   x   \n",
       "2     0bfd1043-8170-e3e4-e050-11ac0c4860c5   Prost-AdenoCA   x   x   x   x   \n",
       "3     0bfd1043-8183-e3e4-e050-11ac0c4860c5   Prost-AdenoCA   x   x   x   x   \n",
       "4     0e872e0d-4711-4364-a5d0-6beeb6fd3ff2     Eso-AdenoCa   x   x   x   x   \n",
       "...                                    ...             ...  ..  ..  ..  ..   \n",
       "8464  fca07e09-1fd2-9ef5-e040-11ac0d485bbd  Breast-AdenoCa   x   x   x   x   \n",
       "8465  fca07e09-1fd2-9ef5-e040-11ac0d485bbd  Breast-AdenoCa   x   x   x   x   \n",
       "8466  fca07e09-1fd2-9ef5-e040-11ac0d485bbd  Breast-AdenoCa   x   x   x   x   \n",
       "8467  fca07e09-1fd2-9ef5-e040-11ac0d485bbd  Breast-AdenoCa   x   x   x   x   \n",
       "8468  fca6150f-d555-a29e-e040-11ac0d4873b2  Breast-AdenoCa   x   x   x   x   \n",
       "\n",
       "         gene driver driver_statement               category top_category  \\\n",
       "0        TSC1  known            known  coding_tsg_breakpoint           SV   \n",
       "1      NOTCH1  known            known  coding_tsg_breakpoint           SV   \n",
       "2        CBLB  known            known  coding_tsg_breakpoint           SV   \n",
       "3        PTEN  known            known  coding_tsg_breakpoint           SV   \n",
       "4       ASXL1  known            known  coding_tsg_breakpoint           SV   \n",
       "...       ...    ...              ...                    ...          ...   \n",
       "8464  DEPDC1B  known            known  coding_tsg_breakpoint           SV   \n",
       "8465    FBXW7  known            known  coding_tsg_breakpoint           SV   \n",
       "8466     PTEN  known            known  coding_tsg_breakpoint           SV   \n",
       "8467   RAD51B  known            known  coding_tsg_breakpoint           SV   \n",
       "8468    UVSSA  known            known  coding_tsg_breakpoint           SV   \n",
       "\n",
       "          biallelic  \n",
       "0                no  \n",
       "1                no  \n",
       "2                no  \n",
       "3                no  \n",
       "4                no  \n",
       "...             ...  \n",
       "8464  SDeletion/SSV  \n",
       "8465  SDeletion/SSV  \n",
       "8466  SDeletion/SSV  \n",
       "8467  SDeletion/SSV  \n",
       "8468  SDeletion/SSV  \n",
       "\n",
       "[8469 rows x 12 columns]"
      ]
     },
     "execution_count": 8,
     "metadata": {},
     "output_type": "execute_result"
    }
   ],
   "source": [
    "df_driver_mutations"
   ]
  },
  {
   "cell_type": "code",
   "execution_count": 9,
   "metadata": {},
   "outputs": [
    {
     "data": {
      "text/html": [
       "<div>\n",
       "<style scoped>\n",
       "    .dataframe tbody tr th:only-of-type {\n",
       "        vertical-align: middle;\n",
       "    }\n",
       "\n",
       "    .dataframe tbody tr th {\n",
       "        vertical-align: top;\n",
       "    }\n",
       "\n",
       "    .dataframe thead th {\n",
       "        text-align: right;\n",
       "    }\n",
       "</style>\n",
       "<table border=\"1\" class=\"dataframe\">\n",
       "  <thead>\n",
       "    <tr style=\"text-align: right;\">\n",
       "      <th></th>\n",
       "      <th>Symbol</th>\n",
       "      <th>Gene</th>\n",
       "      <th>SA136091</th>\n",
       "      <th>SA138738</th>\n",
       "      <th>SA141272</th>\n",
       "      <th>SA144576</th>\n",
       "      <th>SA146105</th>\n",
       "      <th>SA151709</th>\n",
       "      <th>SA155940</th>\n",
       "      <th>SA164579</th>\n",
       "      <th>...</th>\n",
       "      <th>SA512386</th>\n",
       "      <th>SA442206</th>\n",
       "      <th>SA440047</th>\n",
       "      <th>SA441129</th>\n",
       "      <th>SA513126</th>\n",
       "      <th>SA511031</th>\n",
       "      <th>SA511841</th>\n",
       "      <th>SA443538</th>\n",
       "      <th>SA443538.1</th>\n",
       "      <th>SA551062</th>\n",
       "    </tr>\n",
       "  </thead>\n",
       "  <tbody>\n",
       "    <tr>\n",
       "      <th>0</th>\n",
       "      <td>A1BG</td>\n",
       "      <td>ENSG00000121410</td>\n",
       "      <td>13.28</td>\n",
       "      <td>6.02</td>\n",
       "      <td>6.51</td>\n",
       "      <td>2.25</td>\n",
       "      <td>11.39</td>\n",
       "      <td>6.82</td>\n",
       "      <td>1.53</td>\n",
       "      <td>6.13</td>\n",
       "      <td>...</td>\n",
       "      <td>0.52</td>\n",
       "      <td>0.27</td>\n",
       "      <td>2.37</td>\n",
       "      <td>5.67</td>\n",
       "      <td>1.88</td>\n",
       "      <td>0.43</td>\n",
       "      <td>0.89</td>\n",
       "      <td>0.96</td>\n",
       "      <td>0.72</td>\n",
       "      <td>10.50</td>\n",
       "    </tr>\n",
       "    <tr>\n",
       "      <th>1</th>\n",
       "      <td>A1CF</td>\n",
       "      <td>ENSG00000148584</td>\n",
       "      <td>0.02</td>\n",
       "      <td>0.06</td>\n",
       "      <td>0.01</td>\n",
       "      <td>0.02</td>\n",
       "      <td>0.02</td>\n",
       "      <td>0.07</td>\n",
       "      <td>0.06</td>\n",
       "      <td>0.05</td>\n",
       "      <td>...</td>\n",
       "      <td>5.76</td>\n",
       "      <td>0.75</td>\n",
       "      <td>0.49</td>\n",
       "      <td>20.99</td>\n",
       "      <td>0.45</td>\n",
       "      <td>3.85</td>\n",
       "      <td>6.66</td>\n",
       "      <td>3.76</td>\n",
       "      <td>0.03</td>\n",
       "      <td>0.04</td>\n",
       "    </tr>\n",
       "    <tr>\n",
       "      <th>2</th>\n",
       "      <td>A2M</td>\n",
       "      <td>ENSG00000175899</td>\n",
       "      <td>214.83</td>\n",
       "      <td>934.31</td>\n",
       "      <td>447.41</td>\n",
       "      <td>2113.66</td>\n",
       "      <td>173.22</td>\n",
       "      <td>1178.25</td>\n",
       "      <td>328.41</td>\n",
       "      <td>224.15</td>\n",
       "      <td>...</td>\n",
       "      <td>101.22</td>\n",
       "      <td>56.02</td>\n",
       "      <td>668.34</td>\n",
       "      <td>509.76</td>\n",
       "      <td>257.15</td>\n",
       "      <td>41.01</td>\n",
       "      <td>170.62</td>\n",
       "      <td>306.56</td>\n",
       "      <td>57.40</td>\n",
       "      <td>110.72</td>\n",
       "    </tr>\n",
       "    <tr>\n",
       "      <th>3</th>\n",
       "      <td>A2ML1</td>\n",
       "      <td>ENSG00000166535</td>\n",
       "      <td>0.38</td>\n",
       "      <td>0.74</td>\n",
       "      <td>1.08</td>\n",
       "      <td>5.66</td>\n",
       "      <td>2.33</td>\n",
       "      <td>1.35</td>\n",
       "      <td>0.87</td>\n",
       "      <td>1.05</td>\n",
       "      <td>...</td>\n",
       "      <td>0.59</td>\n",
       "      <td>0.80</td>\n",
       "      <td>0.65</td>\n",
       "      <td>0.69</td>\n",
       "      <td>0.76</td>\n",
       "      <td>0.64</td>\n",
       "      <td>1.03</td>\n",
       "      <td>91.97</td>\n",
       "      <td>1538.59</td>\n",
       "      <td>0.25</td>\n",
       "    </tr>\n",
       "    <tr>\n",
       "      <th>4</th>\n",
       "      <td>A3GALT2</td>\n",
       "      <td>ENSG00000184389</td>\n",
       "      <td>0.29</td>\n",
       "      <td>0.19</td>\n",
       "      <td>0.18</td>\n",
       "      <td>0.00</td>\n",
       "      <td>0.06</td>\n",
       "      <td>0.13</td>\n",
       "      <td>0.04</td>\n",
       "      <td>0.03</td>\n",
       "      <td>...</td>\n",
       "      <td>0.09</td>\n",
       "      <td>0.23</td>\n",
       "      <td>0.21</td>\n",
       "      <td>0.09</td>\n",
       "      <td>0.13</td>\n",
       "      <td>0.00</td>\n",
       "      <td>0.25</td>\n",
       "      <td>0.00</td>\n",
       "      <td>0.11</td>\n",
       "      <td>0.06</td>\n",
       "    </tr>\n",
       "    <tr>\n",
       "      <th>...</th>\n",
       "      <td>...</td>\n",
       "      <td>...</td>\n",
       "      <td>...</td>\n",
       "      <td>...</td>\n",
       "      <td>...</td>\n",
       "      <td>...</td>\n",
       "      <td>...</td>\n",
       "      <td>...</td>\n",
       "      <td>...</td>\n",
       "      <td>...</td>\n",
       "      <td>...</td>\n",
       "      <td>...</td>\n",
       "      <td>...</td>\n",
       "      <td>...</td>\n",
       "      <td>...</td>\n",
       "      <td>...</td>\n",
       "      <td>...</td>\n",
       "      <td>...</td>\n",
       "      <td>...</td>\n",
       "      <td>...</td>\n",
       "      <td>...</td>\n",
       "    </tr>\n",
       "    <tr>\n",
       "      <th>19616</th>\n",
       "      <td>ZYG11B</td>\n",
       "      <td>ENSG00000162378</td>\n",
       "      <td>13.94</td>\n",
       "      <td>8.59</td>\n",
       "      <td>9.35</td>\n",
       "      <td>15.32</td>\n",
       "      <td>9.67</td>\n",
       "      <td>12.02</td>\n",
       "      <td>13.68</td>\n",
       "      <td>13.24</td>\n",
       "      <td>...</td>\n",
       "      <td>9.02</td>\n",
       "      <td>10.19</td>\n",
       "      <td>13.38</td>\n",
       "      <td>15.89</td>\n",
       "      <td>13.12</td>\n",
       "      <td>9.72</td>\n",
       "      <td>11.24</td>\n",
       "      <td>9.60</td>\n",
       "      <td>7.99</td>\n",
       "      <td>9.68</td>\n",
       "    </tr>\n",
       "    <tr>\n",
       "      <th>19617</th>\n",
       "      <td>ZYX</td>\n",
       "      <td>ENSG00000159840</td>\n",
       "      <td>725.65</td>\n",
       "      <td>600.51</td>\n",
       "      <td>206.38</td>\n",
       "      <td>244.78</td>\n",
       "      <td>183.42</td>\n",
       "      <td>292.85</td>\n",
       "      <td>152.48</td>\n",
       "      <td>281.71</td>\n",
       "      <td>...</td>\n",
       "      <td>165.15</td>\n",
       "      <td>172.15</td>\n",
       "      <td>227.18</td>\n",
       "      <td>400.57</td>\n",
       "      <td>191.56</td>\n",
       "      <td>121.46</td>\n",
       "      <td>233.90</td>\n",
       "      <td>254.49</td>\n",
       "      <td>114.33</td>\n",
       "      <td>125.33</td>\n",
       "    </tr>\n",
       "    <tr>\n",
       "      <th>19618</th>\n",
       "      <td>ZZEF1</td>\n",
       "      <td>ENSG00000074755</td>\n",
       "      <td>8.29</td>\n",
       "      <td>7.76</td>\n",
       "      <td>6.76</td>\n",
       "      <td>8.69</td>\n",
       "      <td>4.06</td>\n",
       "      <td>20.99</td>\n",
       "      <td>7.87</td>\n",
       "      <td>7.53</td>\n",
       "      <td>...</td>\n",
       "      <td>19.09</td>\n",
       "      <td>12.34</td>\n",
       "      <td>24.18</td>\n",
       "      <td>12.50</td>\n",
       "      <td>26.81</td>\n",
       "      <td>10.94</td>\n",
       "      <td>12.43</td>\n",
       "      <td>13.35</td>\n",
       "      <td>10.17</td>\n",
       "      <td>6.67</td>\n",
       "    </tr>\n",
       "    <tr>\n",
       "      <th>19619</th>\n",
       "      <td>ZZZ3</td>\n",
       "      <td>ENSG00000036549</td>\n",
       "      <td>17.75</td>\n",
       "      <td>15.04</td>\n",
       "      <td>12.53</td>\n",
       "      <td>29.33</td>\n",
       "      <td>14.00</td>\n",
       "      <td>14.66</td>\n",
       "      <td>13.44</td>\n",
       "      <td>13.65</td>\n",
       "      <td>...</td>\n",
       "      <td>18.51</td>\n",
       "      <td>13.52</td>\n",
       "      <td>16.40</td>\n",
       "      <td>27.72</td>\n",
       "      <td>25.66</td>\n",
       "      <td>17.40</td>\n",
       "      <td>20.71</td>\n",
       "      <td>24.63</td>\n",
       "      <td>8.14</td>\n",
       "      <td>12.03</td>\n",
       "    </tr>\n",
       "    <tr>\n",
       "      <th>19620</th>\n",
       "      <td>hsa-mir-1199</td>\n",
       "      <td>ENSG00000141854</td>\n",
       "      <td>15.81</td>\n",
       "      <td>7.69</td>\n",
       "      <td>2.88</td>\n",
       "      <td>6.45</td>\n",
       "      <td>6.20</td>\n",
       "      <td>3.13</td>\n",
       "      <td>8.95</td>\n",
       "      <td>16.87</td>\n",
       "      <td>...</td>\n",
       "      <td>15.80</td>\n",
       "      <td>55.23</td>\n",
       "      <td>12.67</td>\n",
       "      <td>11.90</td>\n",
       "      <td>17.88</td>\n",
       "      <td>21.02</td>\n",
       "      <td>31.83</td>\n",
       "      <td>41.45</td>\n",
       "      <td>10.81</td>\n",
       "      <td>8.81</td>\n",
       "    </tr>\n",
       "  </tbody>\n",
       "</table>\n",
       "<p>19621 rows × 1361 columns</p>\n",
       "</div>"
      ],
      "text/plain": [
       "             Symbol             Gene  SA136091  SA138738  SA141272  SA144576  \\\n",
       "0              A1BG  ENSG00000121410     13.28      6.02      6.51      2.25   \n",
       "1              A1CF  ENSG00000148584      0.02      0.06      0.01      0.02   \n",
       "2               A2M  ENSG00000175899    214.83    934.31    447.41   2113.66   \n",
       "3             A2ML1  ENSG00000166535      0.38      0.74      1.08      5.66   \n",
       "4           A3GALT2  ENSG00000184389      0.29      0.19      0.18      0.00   \n",
       "...             ...              ...       ...       ...       ...       ...   \n",
       "19616        ZYG11B  ENSG00000162378     13.94      8.59      9.35     15.32   \n",
       "19617           ZYX  ENSG00000159840    725.65    600.51    206.38    244.78   \n",
       "19618         ZZEF1  ENSG00000074755      8.29      7.76      6.76      8.69   \n",
       "19619          ZZZ3  ENSG00000036549     17.75     15.04     12.53     29.33   \n",
       "19620  hsa-mir-1199  ENSG00000141854     15.81      7.69      2.88      6.45   \n",
       "\n",
       "       SA146105  SA151709  SA155940  SA164579  ...  SA512386  SA442206  \\\n",
       "0         11.39      6.82      1.53      6.13  ...      0.52      0.27   \n",
       "1          0.02      0.07      0.06      0.05  ...      5.76      0.75   \n",
       "2        173.22   1178.25    328.41    224.15  ...    101.22     56.02   \n",
       "3          2.33      1.35      0.87      1.05  ...      0.59      0.80   \n",
       "4          0.06      0.13      0.04      0.03  ...      0.09      0.23   \n",
       "...         ...       ...       ...       ...  ...       ...       ...   \n",
       "19616      9.67     12.02     13.68     13.24  ...      9.02     10.19   \n",
       "19617    183.42    292.85    152.48    281.71  ...    165.15    172.15   \n",
       "19618      4.06     20.99      7.87      7.53  ...     19.09     12.34   \n",
       "19619     14.00     14.66     13.44     13.65  ...     18.51     13.52   \n",
       "19620      6.20      3.13      8.95     16.87  ...     15.80     55.23   \n",
       "\n",
       "       SA440047  SA441129  SA513126  SA511031  SA511841  SA443538  SA443538.1  \\\n",
       "0          2.37      5.67      1.88      0.43      0.89      0.96        0.72   \n",
       "1          0.49     20.99      0.45      3.85      6.66      3.76        0.03   \n",
       "2        668.34    509.76    257.15     41.01    170.62    306.56       57.40   \n",
       "3          0.65      0.69      0.76      0.64      1.03     91.97     1538.59   \n",
       "4          0.21      0.09      0.13      0.00      0.25      0.00        0.11   \n",
       "...         ...       ...       ...       ...       ...       ...         ...   \n",
       "19616     13.38     15.89     13.12      9.72     11.24      9.60        7.99   \n",
       "19617    227.18    400.57    191.56    121.46    233.90    254.49      114.33   \n",
       "19618     24.18     12.50     26.81     10.94     12.43     13.35       10.17   \n",
       "19619     16.40     27.72     25.66     17.40     20.71     24.63        8.14   \n",
       "19620     12.67     11.90     17.88     21.02     31.83     41.45       10.81   \n",
       "\n",
       "       SA551062  \n",
       "0         10.50  \n",
       "1          0.04  \n",
       "2        110.72  \n",
       "3          0.25  \n",
       "4          0.06  \n",
       "...         ...  \n",
       "19616      9.68  \n",
       "19617    125.33  \n",
       "19618      6.67  \n",
       "19619     12.03  \n",
       "19620      8.81  \n",
       "\n",
       "[19621 rows x 1361 columns]"
      ]
     },
     "execution_count": 9,
     "metadata": {},
     "output_type": "execute_result"
    }
   ],
   "source": [
    "df_transcription"
   ]
  },
  {
   "cell_type": "code",
   "execution_count": 10,
   "metadata": {},
   "outputs": [
    {
     "data": {
      "text/html": [
       "<div>\n",
       "<style scoped>\n",
       "    .dataframe tbody tr th:only-of-type {\n",
       "        vertical-align: middle;\n",
       "    }\n",
       "\n",
       "    .dataframe tbody tr th {\n",
       "        vertical-align: top;\n",
       "    }\n",
       "\n",
       "    .dataframe thead th {\n",
       "        text-align: right;\n",
       "    }\n",
       "</style>\n",
       "<table border=\"1\" class=\"dataframe\">\n",
       "  <thead>\n",
       "    <tr style=\"text-align: right;\">\n",
       "      <th></th>\n",
       "      <th>donor_unique_id</th>\n",
       "      <th>donor_wgs_exclusion_white_gray</th>\n",
       "      <th>submitter_donor_id</th>\n",
       "      <th>icgc_donor_id</th>\n",
       "      <th>dcc_project_code</th>\n",
       "      <th>aliquot_id</th>\n",
       "      <th>submitter_specimen_id</th>\n",
       "      <th>icgc_specimen_id</th>\n",
       "      <th>submitter_sample_id</th>\n",
       "      <th>icgc_sample_id</th>\n",
       "      <th>dcc_specimen_type</th>\n",
       "      <th>library_strategy</th>\n",
       "    </tr>\n",
       "  </thead>\n",
       "  <tbody>\n",
       "    <tr>\n",
       "      <th>0</th>\n",
       "      <td>BLCA-US::096b4f32-10c1-4737-a0dd-cae04c54ee33</td>\n",
       "      <td>Whitelist</td>\n",
       "      <td>096b4f32-10c1-4737-a0dd-cae04c54ee33</td>\n",
       "      <td>DO804</td>\n",
       "      <td>BLCA-US</td>\n",
       "      <td>e0fccaf5-925a-41f9-b87c-cd5ee4aecb59</td>\n",
       "      <td>27461a27-26eb-4c2c-9c54-e16fbd32c615</td>\n",
       "      <td>SP1682</td>\n",
       "      <td>e0fccaf5-925a-41f9-b87c-cd5ee4aecb59</td>\n",
       "      <td>SA5237</td>\n",
       "      <td>Normal - solid tissue</td>\n",
       "      <td>WGS</td>\n",
       "    </tr>\n",
       "    <tr>\n",
       "      <th>1</th>\n",
       "      <td>BLCA-US::096b4f32-10c1-4737-a0dd-cae04c54ee33</td>\n",
       "      <td>Whitelist</td>\n",
       "      <td>096b4f32-10c1-4737-a0dd-cae04c54ee33</td>\n",
       "      <td>DO804</td>\n",
       "      <td>BLCA-US</td>\n",
       "      <td>301d6ce3-4099-4c1d-8e50-c04b7ce91450</td>\n",
       "      <td>52f538ef-b05d-4c76-9976-ce6d49158016</td>\n",
       "      <td>SP1677</td>\n",
       "      <td>301d6ce3-4099-4c1d-8e50-c04b7ce91450</td>\n",
       "      <td>SA5195</td>\n",
       "      <td>Primary tumour - solid tissue</td>\n",
       "      <td>WGS</td>\n",
       "    </tr>\n",
       "    <tr>\n",
       "      <th>2</th>\n",
       "      <td>BLCA-US::096b4f32-10c1-4737-a0dd-cae04c54ee33</td>\n",
       "      <td>Whitelist</td>\n",
       "      <td>096b4f32-10c1-4737-a0dd-cae04c54ee33</td>\n",
       "      <td>DO804</td>\n",
       "      <td>BLCA-US</td>\n",
       "      <td>22e154de-0e3b-443b-8420-48d68d6c1ce4</td>\n",
       "      <td>52f538ef-b05d-4c76-9976-ce6d49158016</td>\n",
       "      <td>SP1677</td>\n",
       "      <td>22e154de-0e3b-443b-8420-48d68d6c1ce4</td>\n",
       "      <td>SA5213</td>\n",
       "      <td>Primary tumour - solid tissue</td>\n",
       "      <td>RNA-Seq</td>\n",
       "    </tr>\n",
       "    <tr>\n",
       "      <th>3</th>\n",
       "      <td>BLCA-US::178b28cd-99c3-48dc-8d09-1ef71b4cee80</td>\n",
       "      <td>Whitelist</td>\n",
       "      <td>178b28cd-99c3-48dc-8d09-1ef71b4cee80</td>\n",
       "      <td>DO555</td>\n",
       "      <td>BLCA-US</td>\n",
       "      <td>c1da8eed-4919-4ba5-a735-3fba476c18a7</td>\n",
       "      <td>cd3cfb26-e66f-408e-81f6-3b61c247c976</td>\n",
       "      <td>SP1135</td>\n",
       "      <td>c1da8eed-4919-4ba5-a735-3fba476c18a7</td>\n",
       "      <td>SA1598</td>\n",
       "      <td>Normal - blood derived</td>\n",
       "      <td>WGS</td>\n",
       "    </tr>\n",
       "    <tr>\n",
       "      <th>4</th>\n",
       "      <td>BLCA-US::178b28cd-99c3-48dc-8d09-1ef71b4cee80</td>\n",
       "      <td>Whitelist</td>\n",
       "      <td>178b28cd-99c3-48dc-8d09-1ef71b4cee80</td>\n",
       "      <td>DO555</td>\n",
       "      <td>BLCA-US</td>\n",
       "      <td>4838b5a9-968c-4178-bffb-3fafe1f6dc09</td>\n",
       "      <td>59d6683f-5eb7-493d-8e8e-78b88be2cd70</td>\n",
       "      <td>SP1132</td>\n",
       "      <td>4838b5a9-968c-4178-bffb-3fafe1f6dc09</td>\n",
       "      <td>SA1556</td>\n",
       "      <td>Primary tumour - solid tissue</td>\n",
       "      <td>WGS</td>\n",
       "    </tr>\n",
       "    <tr>\n",
       "      <th>...</th>\n",
       "      <td>...</td>\n",
       "      <td>...</td>\n",
       "      <td>...</td>\n",
       "      <td>...</td>\n",
       "      <td>...</td>\n",
       "      <td>...</td>\n",
       "      <td>...</td>\n",
       "      <td>...</td>\n",
       "      <td>...</td>\n",
       "      <td>...</td>\n",
       "      <td>...</td>\n",
       "      <td>...</td>\n",
       "    </tr>\n",
       "    <tr>\n",
       "      <th>7250</th>\n",
       "      <td>UCEC-US::fba80122-d8b2-4d8d-a032-9767e8160f9f</td>\n",
       "      <td>Whitelist</td>\n",
       "      <td>fba80122-d8b2-4d8d-a032-9767e8160f9f</td>\n",
       "      <td>DO42544</td>\n",
       "      <td>UCEC-US</td>\n",
       "      <td>e54b7e44-82a3-4016-bc32-129799097b4c</td>\n",
       "      <td>ddd2f9e0-0aa3-425b-9d74-74fcc638cb08</td>\n",
       "      <td>SP92947</td>\n",
       "      <td>e54b7e44-82a3-4016-bc32-129799097b4c</td>\n",
       "      <td>SA462448</td>\n",
       "      <td>Primary tumour - solid tissue</td>\n",
       "      <td>RNA-Seq</td>\n",
       "    </tr>\n",
       "    <tr>\n",
       "      <th>7251</th>\n",
       "      <td>UCEC-US::fba80122-d8b2-4d8d-a032-9767e8160f9f</td>\n",
       "      <td>Whitelist</td>\n",
       "      <td>fba80122-d8b2-4d8d-a032-9767e8160f9f</td>\n",
       "      <td>DO42544</td>\n",
       "      <td>UCEC-US</td>\n",
       "      <td>ce5b0ba0-2777-4c92-ac50-483174cc5dca</td>\n",
       "      <td>cad6c89d-f722-470b-93bc-e8b24c033f0f</td>\n",
       "      <td>SP92955</td>\n",
       "      <td>ce5b0ba0-2777-4c92-ac50-483174cc5dca</td>\n",
       "      <td>SA462509</td>\n",
       "      <td>Normal - tissue adjacent to primary</td>\n",
       "      <td>RNA-Seq</td>\n",
       "    </tr>\n",
       "    <tr>\n",
       "      <th>7252</th>\n",
       "      <td>UCEC-US::ffaa98a0-2b69-46dc-aee5-c5c3f2abbc38</td>\n",
       "      <td>Whitelist</td>\n",
       "      <td>ffaa98a0-2b69-46dc-aee5-c5c3f2abbc38</td>\n",
       "      <td>DO42432</td>\n",
       "      <td>UCEC-US</td>\n",
       "      <td>47f826a1-96ed-4f4d-94e0-49f4460ef44f</td>\n",
       "      <td>2729ed97-f971-4d98-8baa-f99404dd2b9f</td>\n",
       "      <td>SP92731</td>\n",
       "      <td>47f826a1-96ed-4f4d-94e0-49f4460ef44f</td>\n",
       "      <td>SA461078</td>\n",
       "      <td>Normal - blood derived</td>\n",
       "      <td>WGS</td>\n",
       "    </tr>\n",
       "    <tr>\n",
       "      <th>7253</th>\n",
       "      <td>UCEC-US::ffaa98a0-2b69-46dc-aee5-c5c3f2abbc38</td>\n",
       "      <td>Whitelist</td>\n",
       "      <td>ffaa98a0-2b69-46dc-aee5-c5c3f2abbc38</td>\n",
       "      <td>DO42432</td>\n",
       "      <td>UCEC-US</td>\n",
       "      <td>712ba532-fb1a-43fa-a356-b446b509ceb7</td>\n",
       "      <td>8bb3a057-8958-4f62-af81-976da2e92df7</td>\n",
       "      <td>SP92723</td>\n",
       "      <td>712ba532-fb1a-43fa-a356-b446b509ceb7</td>\n",
       "      <td>SA461016</td>\n",
       "      <td>Primary tumour - solid tissue</td>\n",
       "      <td>WGS</td>\n",
       "    </tr>\n",
       "    <tr>\n",
       "      <th>7254</th>\n",
       "      <td>UCEC-US::ffaa98a0-2b69-46dc-aee5-c5c3f2abbc38</td>\n",
       "      <td>Whitelist</td>\n",
       "      <td>ffaa98a0-2b69-46dc-aee5-c5c3f2abbc38</td>\n",
       "      <td>DO42432</td>\n",
       "      <td>UCEC-US</td>\n",
       "      <td>ca81a393-ec7d-4538-a64a-417ed188a320</td>\n",
       "      <td>8bb3a057-8958-4f62-af81-976da2e92df7</td>\n",
       "      <td>SP92723</td>\n",
       "      <td>ca81a393-ec7d-4538-a64a-417ed188a320</td>\n",
       "      <td>SA461038</td>\n",
       "      <td>Primary tumour - solid tissue</td>\n",
       "      <td>RNA-Seq</td>\n",
       "    </tr>\n",
       "  </tbody>\n",
       "</table>\n",
       "<p>7255 rows × 12 columns</p>\n",
       "</div>"
      ],
      "text/plain": [
       "                                    donor_unique_id  \\\n",
       "0     BLCA-US::096b4f32-10c1-4737-a0dd-cae04c54ee33   \n",
       "1     BLCA-US::096b4f32-10c1-4737-a0dd-cae04c54ee33   \n",
       "2     BLCA-US::096b4f32-10c1-4737-a0dd-cae04c54ee33   \n",
       "3     BLCA-US::178b28cd-99c3-48dc-8d09-1ef71b4cee80   \n",
       "4     BLCA-US::178b28cd-99c3-48dc-8d09-1ef71b4cee80   \n",
       "...                                             ...   \n",
       "7250  UCEC-US::fba80122-d8b2-4d8d-a032-9767e8160f9f   \n",
       "7251  UCEC-US::fba80122-d8b2-4d8d-a032-9767e8160f9f   \n",
       "7252  UCEC-US::ffaa98a0-2b69-46dc-aee5-c5c3f2abbc38   \n",
       "7253  UCEC-US::ffaa98a0-2b69-46dc-aee5-c5c3f2abbc38   \n",
       "7254  UCEC-US::ffaa98a0-2b69-46dc-aee5-c5c3f2abbc38   \n",
       "\n",
       "     donor_wgs_exclusion_white_gray                    submitter_donor_id  \\\n",
       "0                         Whitelist  096b4f32-10c1-4737-a0dd-cae04c54ee33   \n",
       "1                         Whitelist  096b4f32-10c1-4737-a0dd-cae04c54ee33   \n",
       "2                         Whitelist  096b4f32-10c1-4737-a0dd-cae04c54ee33   \n",
       "3                         Whitelist  178b28cd-99c3-48dc-8d09-1ef71b4cee80   \n",
       "4                         Whitelist  178b28cd-99c3-48dc-8d09-1ef71b4cee80   \n",
       "...                             ...                                   ...   \n",
       "7250                      Whitelist  fba80122-d8b2-4d8d-a032-9767e8160f9f   \n",
       "7251                      Whitelist  fba80122-d8b2-4d8d-a032-9767e8160f9f   \n",
       "7252                      Whitelist  ffaa98a0-2b69-46dc-aee5-c5c3f2abbc38   \n",
       "7253                      Whitelist  ffaa98a0-2b69-46dc-aee5-c5c3f2abbc38   \n",
       "7254                      Whitelist  ffaa98a0-2b69-46dc-aee5-c5c3f2abbc38   \n",
       "\n",
       "     icgc_donor_id dcc_project_code                            aliquot_id  \\\n",
       "0            DO804          BLCA-US  e0fccaf5-925a-41f9-b87c-cd5ee4aecb59   \n",
       "1            DO804          BLCA-US  301d6ce3-4099-4c1d-8e50-c04b7ce91450   \n",
       "2            DO804          BLCA-US  22e154de-0e3b-443b-8420-48d68d6c1ce4   \n",
       "3            DO555          BLCA-US  c1da8eed-4919-4ba5-a735-3fba476c18a7   \n",
       "4            DO555          BLCA-US  4838b5a9-968c-4178-bffb-3fafe1f6dc09   \n",
       "...            ...              ...                                   ...   \n",
       "7250       DO42544          UCEC-US  e54b7e44-82a3-4016-bc32-129799097b4c   \n",
       "7251       DO42544          UCEC-US  ce5b0ba0-2777-4c92-ac50-483174cc5dca   \n",
       "7252       DO42432          UCEC-US  47f826a1-96ed-4f4d-94e0-49f4460ef44f   \n",
       "7253       DO42432          UCEC-US  712ba532-fb1a-43fa-a356-b446b509ceb7   \n",
       "7254       DO42432          UCEC-US  ca81a393-ec7d-4538-a64a-417ed188a320   \n",
       "\n",
       "                     submitter_specimen_id icgc_specimen_id  \\\n",
       "0     27461a27-26eb-4c2c-9c54-e16fbd32c615           SP1682   \n",
       "1     52f538ef-b05d-4c76-9976-ce6d49158016           SP1677   \n",
       "2     52f538ef-b05d-4c76-9976-ce6d49158016           SP1677   \n",
       "3     cd3cfb26-e66f-408e-81f6-3b61c247c976           SP1135   \n",
       "4     59d6683f-5eb7-493d-8e8e-78b88be2cd70           SP1132   \n",
       "...                                    ...              ...   \n",
       "7250  ddd2f9e0-0aa3-425b-9d74-74fcc638cb08          SP92947   \n",
       "7251  cad6c89d-f722-470b-93bc-e8b24c033f0f          SP92955   \n",
       "7252  2729ed97-f971-4d98-8baa-f99404dd2b9f          SP92731   \n",
       "7253  8bb3a057-8958-4f62-af81-976da2e92df7          SP92723   \n",
       "7254  8bb3a057-8958-4f62-af81-976da2e92df7          SP92723   \n",
       "\n",
       "                       submitter_sample_id icgc_sample_id  \\\n",
       "0     e0fccaf5-925a-41f9-b87c-cd5ee4aecb59         SA5237   \n",
       "1     301d6ce3-4099-4c1d-8e50-c04b7ce91450         SA5195   \n",
       "2     22e154de-0e3b-443b-8420-48d68d6c1ce4         SA5213   \n",
       "3     c1da8eed-4919-4ba5-a735-3fba476c18a7         SA1598   \n",
       "4     4838b5a9-968c-4178-bffb-3fafe1f6dc09         SA1556   \n",
       "...                                    ...            ...   \n",
       "7250  e54b7e44-82a3-4016-bc32-129799097b4c       SA462448   \n",
       "7251  ce5b0ba0-2777-4c92-ac50-483174cc5dca       SA462509   \n",
       "7252  47f826a1-96ed-4f4d-94e0-49f4460ef44f       SA461078   \n",
       "7253  712ba532-fb1a-43fa-a356-b446b509ceb7       SA461016   \n",
       "7254  ca81a393-ec7d-4538-a64a-417ed188a320       SA461038   \n",
       "\n",
       "                        dcc_specimen_type library_strategy  \n",
       "0                   Normal - solid tissue              WGS  \n",
       "1           Primary tumour - solid tissue              WGS  \n",
       "2           Primary tumour - solid tissue          RNA-Seq  \n",
       "3                  Normal - blood derived              WGS  \n",
       "4           Primary tumour - solid tissue              WGS  \n",
       "...                                   ...              ...  \n",
       "7250        Primary tumour - solid tissue          RNA-Seq  \n",
       "7251  Normal - tissue adjacent to primary          RNA-Seq  \n",
       "7252               Normal - blood derived              WGS  \n",
       "7253        Primary tumour - solid tissue              WGS  \n",
       "7254        Primary tumour - solid tissue          RNA-Seq  \n",
       "\n",
       "[7255 rows x 12 columns]"
      ]
     },
     "execution_count": 10,
     "metadata": {},
     "output_type": "execute_result"
    }
   ],
   "source": [
    "df_rel"
   ]
  },
  {
   "cell_type": "code",
   "execution_count": 11,
   "metadata": {},
   "outputs": [
    {
     "data": {
      "text/html": [
       "<div>\n",
       "<style scoped>\n",
       "    .dataframe tbody tr th:only-of-type {\n",
       "        vertical-align: middle;\n",
       "    }\n",
       "\n",
       "    .dataframe tbody tr th {\n",
       "        vertical-align: top;\n",
       "    }\n",
       "\n",
       "    .dataframe thead th {\n",
       "        text-align: right;\n",
       "    }\n",
       "</style>\n",
       "<table border=\"1\" class=\"dataframe\">\n",
       "  <thead>\n",
       "    <tr style=\"text-align: right;\">\n",
       "      <th></th>\n",
       "      <th># donor_unique_id</th>\n",
       "      <th>project_code</th>\n",
       "      <th>icgc_donor_id</th>\n",
       "      <th>submitted_donor_id</th>\n",
       "      <th>tcga_donor_uuid</th>\n",
       "      <th>donor_sex</th>\n",
       "      <th>donor_vital_status</th>\n",
       "      <th>donor_diagnosis_icd10</th>\n",
       "      <th>first_therapy_type</th>\n",
       "      <th>first_therapy_response</th>\n",
       "      <th>donor_age_at_diagnosis</th>\n",
       "      <th>donor_survival_time</th>\n",
       "      <th>donor_interval_of_last_followup</th>\n",
       "      <th>tobacco_smoking_history_indicator</th>\n",
       "      <th>tobacco_smoking_intensity</th>\n",
       "      <th>alcohol_history</th>\n",
       "      <th>alcohol_history_intensity</th>\n",
       "      <th>donor_wgs_included_excluded</th>\n",
       "    </tr>\n",
       "  </thead>\n",
       "  <tbody>\n",
       "    <tr>\n",
       "      <th>0</th>\n",
       "      <td>BRCA-UK::CGP_donor_1114930</td>\n",
       "      <td>BRCA-UK</td>\n",
       "      <td>DO1000</td>\n",
       "      <td>CGP_donor_1114930</td>\n",
       "      <td>NaN</td>\n",
       "      <td>female</td>\n",
       "      <td>alive</td>\n",
       "      <td>NaN</td>\n",
       "      <td>other therapy</td>\n",
       "      <td>NaN</td>\n",
       "      <td>61.0</td>\n",
       "      <td>NaN</td>\n",
       "      <td>NaN</td>\n",
       "      <td>Smoking history not documented</td>\n",
       "      <td>NaN</td>\n",
       "      <td>Don't know/Not sure</td>\n",
       "      <td>Not Documented</td>\n",
       "      <td>Included</td>\n",
       "    </tr>\n",
       "    <tr>\n",
       "      <th>1</th>\n",
       "      <td>BRCA-UK::CGP_donor_1069291</td>\n",
       "      <td>BRCA-UK</td>\n",
       "      <td>DO1001</td>\n",
       "      <td>CGP_donor_1069291</td>\n",
       "      <td>NaN</td>\n",
       "      <td>female</td>\n",
       "      <td>NaN</td>\n",
       "      <td>NaN</td>\n",
       "      <td>other therapy</td>\n",
       "      <td>NaN</td>\n",
       "      <td>41.0</td>\n",
       "      <td>NaN</td>\n",
       "      <td>NaN</td>\n",
       "      <td>Smoking history not documented</td>\n",
       "      <td>NaN</td>\n",
       "      <td>Don't know/Not sure</td>\n",
       "      <td>Not Documented</td>\n",
       "      <td>Included</td>\n",
       "    </tr>\n",
       "    <tr>\n",
       "      <th>2</th>\n",
       "      <td>BRCA-UK::CGP_donor_1114881</td>\n",
       "      <td>BRCA-UK</td>\n",
       "      <td>DO1002</td>\n",
       "      <td>CGP_donor_1114881</td>\n",
       "      <td>NaN</td>\n",
       "      <td>female</td>\n",
       "      <td>alive</td>\n",
       "      <td>NaN</td>\n",
       "      <td>other therapy</td>\n",
       "      <td>unknown</td>\n",
       "      <td>39.0</td>\n",
       "      <td>NaN</td>\n",
       "      <td>NaN</td>\n",
       "      <td>Smoking history not documented</td>\n",
       "      <td>NaN</td>\n",
       "      <td>Don't know/Not sure</td>\n",
       "      <td>Not Documented</td>\n",
       "      <td>Included</td>\n",
       "    </tr>\n",
       "    <tr>\n",
       "      <th>3</th>\n",
       "      <td>BRCA-UK::CGP_donor_1114929</td>\n",
       "      <td>BRCA-UK</td>\n",
       "      <td>DO1003</td>\n",
       "      <td>CGP_donor_1114929</td>\n",
       "      <td>NaN</td>\n",
       "      <td>female</td>\n",
       "      <td>alive</td>\n",
       "      <td>C50.4</td>\n",
       "      <td>chemotherapy</td>\n",
       "      <td>unknown</td>\n",
       "      <td>34.0</td>\n",
       "      <td>NaN</td>\n",
       "      <td>NaN</td>\n",
       "      <td>Smoking history not documented</td>\n",
       "      <td>NaN</td>\n",
       "      <td>Don't know/Not sure</td>\n",
       "      <td>Not Documented</td>\n",
       "      <td>Included</td>\n",
       "    </tr>\n",
       "    <tr>\n",
       "      <th>4</th>\n",
       "      <td>BRCA-UK::CGP_donor_1167078</td>\n",
       "      <td>BRCA-UK</td>\n",
       "      <td>DO1004</td>\n",
       "      <td>CGP_donor_1167078</td>\n",
       "      <td>NaN</td>\n",
       "      <td>female</td>\n",
       "      <td>deceased</td>\n",
       "      <td>NaN</td>\n",
       "      <td>other therapy</td>\n",
       "      <td>NaN</td>\n",
       "      <td>59.0</td>\n",
       "      <td>NaN</td>\n",
       "      <td>0.0</td>\n",
       "      <td>Smoking history not documented</td>\n",
       "      <td>NaN</td>\n",
       "      <td>Don't know/Not sure</td>\n",
       "      <td>Not Documented</td>\n",
       "      <td>Included</td>\n",
       "    </tr>\n",
       "    <tr>\n",
       "      <th>...</th>\n",
       "      <td>...</td>\n",
       "      <td>...</td>\n",
       "      <td>...</td>\n",
       "      <td>...</td>\n",
       "      <td>...</td>\n",
       "      <td>...</td>\n",
       "      <td>...</td>\n",
       "      <td>...</td>\n",
       "      <td>...</td>\n",
       "      <td>...</td>\n",
       "      <td>...</td>\n",
       "      <td>...</td>\n",
       "      <td>...</td>\n",
       "      <td>...</td>\n",
       "      <td>...</td>\n",
       "      <td>...</td>\n",
       "      <td>...</td>\n",
       "      <td>...</td>\n",
       "    </tr>\n",
       "    <tr>\n",
       "      <th>2829</th>\n",
       "      <td>COAD-US::b08b5f49-9434-4653-9772-097ec29b2ca3</td>\n",
       "      <td>COAD-US</td>\n",
       "      <td>DO9708</td>\n",
       "      <td>TCGA-D5-6540</td>\n",
       "      <td>b08b5f49-9434-4653-9772-097ec29b2ca3</td>\n",
       "      <td>male</td>\n",
       "      <td>alive</td>\n",
       "      <td>C18.0</td>\n",
       "      <td>NaN</td>\n",
       "      <td>NaN</td>\n",
       "      <td>66.0</td>\n",
       "      <td>NaN</td>\n",
       "      <td>186.0</td>\n",
       "      <td>NaN</td>\n",
       "      <td>NaN</td>\n",
       "      <td>NaN</td>\n",
       "      <td>NaN</td>\n",
       "      <td>GrayList</td>\n",
       "    </tr>\n",
       "    <tr>\n",
       "      <th>2830</th>\n",
       "      <td>COAD-US::bfb07784-693b-4c25-874e-4ad6e04a5d46</td>\n",
       "      <td>COAD-US</td>\n",
       "      <td>DO9732</td>\n",
       "      <td>TCGA-AA-3529</td>\n",
       "      <td>bfb07784-693b-4c25-874e-4ad6e04a5d46</td>\n",
       "      <td>female</td>\n",
       "      <td>deceased</td>\n",
       "      <td>C18.7</td>\n",
       "      <td>NaN</td>\n",
       "      <td>NaN</td>\n",
       "      <td>78.0</td>\n",
       "      <td>0.0</td>\n",
       "      <td>NaN</td>\n",
       "      <td>NaN</td>\n",
       "      <td>NaN</td>\n",
       "      <td>NaN</td>\n",
       "      <td>NaN</td>\n",
       "      <td>Included</td>\n",
       "    </tr>\n",
       "    <tr>\n",
       "      <th>2831</th>\n",
       "      <td>COAD-US::7d8eab0a-e6c8-4449-9ebf-50c41db94a06</td>\n",
       "      <td>COAD-US</td>\n",
       "      <td>DO9788</td>\n",
       "      <td>TCGA-A6-2681</td>\n",
       "      <td>7d8eab0a-e6c8-4449-9ebf-50c41db94a06</td>\n",
       "      <td>female</td>\n",
       "      <td>alive</td>\n",
       "      <td>C18.9</td>\n",
       "      <td>NaN</td>\n",
       "      <td>NaN</td>\n",
       "      <td>73.0</td>\n",
       "      <td>NaN</td>\n",
       "      <td>552.0</td>\n",
       "      <td>NaN</td>\n",
       "      <td>NaN</td>\n",
       "      <td>NaN</td>\n",
       "      <td>NaN</td>\n",
       "      <td>Included</td>\n",
       "    </tr>\n",
       "    <tr>\n",
       "      <th>2832</th>\n",
       "      <td>COAD-US::e457344d-76fb-46bf-b362-61a6e811d131</td>\n",
       "      <td>COAD-US</td>\n",
       "      <td>DO9876</td>\n",
       "      <td>TCGA-AA-A00N</td>\n",
       "      <td>e457344d-76fb-46bf-b362-61a6e811d131</td>\n",
       "      <td>male</td>\n",
       "      <td>deceased</td>\n",
       "      <td>C18.0</td>\n",
       "      <td>NaN</td>\n",
       "      <td>NaN</td>\n",
       "      <td>75.0</td>\n",
       "      <td>122.0</td>\n",
       "      <td>NaN</td>\n",
       "      <td>NaN</td>\n",
       "      <td>NaN</td>\n",
       "      <td>NaN</td>\n",
       "      <td>NaN</td>\n",
       "      <td>Included</td>\n",
       "    </tr>\n",
       "    <tr>\n",
       "      <th>2833</th>\n",
       "      <td>COAD-US::df228c56-89ac-4122-93b3-6c0740c4ec09</td>\n",
       "      <td>COAD-US</td>\n",
       "      <td>DO9940</td>\n",
       "      <td>TCGA-AA-3534</td>\n",
       "      <td>df228c56-89ac-4122-93b3-6c0740c4ec09</td>\n",
       "      <td>female</td>\n",
       "      <td>alive</td>\n",
       "      <td>C18.2</td>\n",
       "      <td>NaN</td>\n",
       "      <td>NaN</td>\n",
       "      <td>78.0</td>\n",
       "      <td>NaN</td>\n",
       "      <td>0.0</td>\n",
       "      <td>NaN</td>\n",
       "      <td>NaN</td>\n",
       "      <td>NaN</td>\n",
       "      <td>NaN</td>\n",
       "      <td>Included</td>\n",
       "    </tr>\n",
       "  </tbody>\n",
       "</table>\n",
       "<p>2834 rows × 18 columns</p>\n",
       "</div>"
      ],
      "text/plain": [
       "                                  # donor_unique_id project_code  \\\n",
       "0                        BRCA-UK::CGP_donor_1114930      BRCA-UK   \n",
       "1                        BRCA-UK::CGP_donor_1069291      BRCA-UK   \n",
       "2                        BRCA-UK::CGP_donor_1114881      BRCA-UK   \n",
       "3                        BRCA-UK::CGP_donor_1114929      BRCA-UK   \n",
       "4                        BRCA-UK::CGP_donor_1167078      BRCA-UK   \n",
       "...                                             ...          ...   \n",
       "2829  COAD-US::b08b5f49-9434-4653-9772-097ec29b2ca3      COAD-US   \n",
       "2830  COAD-US::bfb07784-693b-4c25-874e-4ad6e04a5d46      COAD-US   \n",
       "2831  COAD-US::7d8eab0a-e6c8-4449-9ebf-50c41db94a06      COAD-US   \n",
       "2832  COAD-US::e457344d-76fb-46bf-b362-61a6e811d131      COAD-US   \n",
       "2833  COAD-US::df228c56-89ac-4122-93b3-6c0740c4ec09      COAD-US   \n",
       "\n",
       "     icgc_donor_id submitted_donor_id                       tcga_donor_uuid  \\\n",
       "0           DO1000  CGP_donor_1114930                                   NaN   \n",
       "1           DO1001  CGP_donor_1069291                                   NaN   \n",
       "2           DO1002  CGP_donor_1114881                                   NaN   \n",
       "3           DO1003  CGP_donor_1114929                                   NaN   \n",
       "4           DO1004  CGP_donor_1167078                                   NaN   \n",
       "...            ...                ...                                   ...   \n",
       "2829        DO9708       TCGA-D5-6540  b08b5f49-9434-4653-9772-097ec29b2ca3   \n",
       "2830        DO9732       TCGA-AA-3529  bfb07784-693b-4c25-874e-4ad6e04a5d46   \n",
       "2831        DO9788       TCGA-A6-2681  7d8eab0a-e6c8-4449-9ebf-50c41db94a06   \n",
       "2832        DO9876       TCGA-AA-A00N  e457344d-76fb-46bf-b362-61a6e811d131   \n",
       "2833        DO9940       TCGA-AA-3534  df228c56-89ac-4122-93b3-6c0740c4ec09   \n",
       "\n",
       "     donor_sex donor_vital_status donor_diagnosis_icd10 first_therapy_type  \\\n",
       "0       female              alive                   NaN      other therapy   \n",
       "1       female                NaN                   NaN      other therapy   \n",
       "2       female              alive                   NaN      other therapy   \n",
       "3       female              alive                 C50.4       chemotherapy   \n",
       "4       female           deceased                   NaN      other therapy   \n",
       "...        ...                ...                   ...                ...   \n",
       "2829      male              alive                 C18.0                NaN   \n",
       "2830    female           deceased                 C18.7                NaN   \n",
       "2831    female              alive                 C18.9                NaN   \n",
       "2832      male           deceased                 C18.0                NaN   \n",
       "2833    female              alive                 C18.2                NaN   \n",
       "\n",
       "     first_therapy_response  donor_age_at_diagnosis  donor_survival_time  \\\n",
       "0                       NaN                    61.0                  NaN   \n",
       "1                       NaN                    41.0                  NaN   \n",
       "2                   unknown                    39.0                  NaN   \n",
       "3                   unknown                    34.0                  NaN   \n",
       "4                       NaN                    59.0                  NaN   \n",
       "...                     ...                     ...                  ...   \n",
       "2829                    NaN                    66.0                  NaN   \n",
       "2830                    NaN                    78.0                  0.0   \n",
       "2831                    NaN                    73.0                  NaN   \n",
       "2832                    NaN                    75.0                122.0   \n",
       "2833                    NaN                    78.0                  NaN   \n",
       "\n",
       "      donor_interval_of_last_followup tobacco_smoking_history_indicator  \\\n",
       "0                                 NaN    Smoking history not documented   \n",
       "1                                 NaN    Smoking history not documented   \n",
       "2                                 NaN    Smoking history not documented   \n",
       "3                                 NaN    Smoking history not documented   \n",
       "4                                 0.0    Smoking history not documented   \n",
       "...                               ...                               ...   \n",
       "2829                            186.0                               NaN   \n",
       "2830                              NaN                               NaN   \n",
       "2831                            552.0                               NaN   \n",
       "2832                              NaN                               NaN   \n",
       "2833                              0.0                               NaN   \n",
       "\n",
       "      tobacco_smoking_intensity      alcohol_history  \\\n",
       "0                           NaN  Don't know/Not sure   \n",
       "1                           NaN  Don't know/Not sure   \n",
       "2                           NaN  Don't know/Not sure   \n",
       "3                           NaN  Don't know/Not sure   \n",
       "4                           NaN  Don't know/Not sure   \n",
       "...                         ...                  ...   \n",
       "2829                        NaN                  NaN   \n",
       "2830                        NaN                  NaN   \n",
       "2831                        NaN                  NaN   \n",
       "2832                        NaN                  NaN   \n",
       "2833                        NaN                  NaN   \n",
       "\n",
       "     alcohol_history_intensity donor_wgs_included_excluded  \n",
       "0               Not Documented                    Included  \n",
       "1               Not Documented                    Included  \n",
       "2               Not Documented                    Included  \n",
       "3               Not Documented                    Included  \n",
       "4               Not Documented                    Included  \n",
       "...                        ...                         ...  \n",
       "2829                       NaN                    GrayList  \n",
       "2830                       NaN                    Included  \n",
       "2831                       NaN                    Included  \n",
       "2832                       NaN                    Included  \n",
       "2833                       NaN                    Included  \n",
       "\n",
       "[2834 rows x 18 columns]"
      ]
     },
     "execution_count": 11,
     "metadata": {},
     "output_type": "execute_result"
    }
   ],
   "source": [
    "df_donor_info"
   ]
  },
  {
   "cell_type": "markdown",
   "metadata": {},
   "source": [
    "### After basic exploration of the data, I concluded that the most efficient way to analise it is PCA of transcription levels.\n",
    "\n",
    "#### The ```df_transcription``` dataframe contains the transcription levels of around 20,000 genes for each sample. PCA will allow us to observe the relation between different types of cancer."
   ]
  },
  {
   "cell_type": "code",
   "execution_count": 15,
   "metadata": {},
   "outputs": [],
   "source": [
    "df_transcription_rest = df_transcription.drop(columns=['Symbol', 'Gene'])"
   ]
  },
  {
   "cell_type": "code",
   "execution_count": 13,
   "metadata": {},
   "outputs": [],
   "source": [
    "df_transcription_array = df_transcription_rest.to_numpy().transpose()   "
   ]
  },
  {
   "cell_type": "code",
   "execution_count": 16,
   "metadata": {},
   "outputs": [],
   "source": [
    "normed_matrix = StandardScaler().fit_transform(df_transcription_array)"
   ]
  },
  {
   "cell_type": "code",
   "execution_count": 17,
   "metadata": {},
   "outputs": [],
   "source": [
    "pca = PCA(n_components=3)\n",
    "pca_features = pca.fit_transform(normed_matrix)\n",
    "\n",
    "pca_df = pd.DataFrame(data = pca_features, columns = ['PC1', 'PC2', 'PC3'])"
   ]
  },
  {
   "cell_type": "markdown",
   "metadata": {},
   "source": [
    "### Connecting PCA of transcription levels with the types of cancer."
   ]
  },
  {
   "cell_type": "code",
   "execution_count": 18,
   "metadata": {},
   "outputs": [],
   "source": [
    "transaction_dict = dict(zip(df_rel['icgc_sample_id'], df_rel['dcc_project_code']))"
   ]
  },
  {
   "cell_type": "code",
   "execution_count": 19,
   "metadata": {},
   "outputs": [],
   "source": [
    "pca_df['samples'] = df_transcription.columns[2:]\n",
    "pca_df['cancer_type'] = pca_df['samples'].map(transaction_dict)"
   ]
  },
  {
   "cell_type": "code",
   "execution_count": 20,
   "metadata": {},
   "outputs": [
    {
     "data": {
      "text/html": [
       "<div>\n",
       "<style scoped>\n",
       "    .dataframe tbody tr th:only-of-type {\n",
       "        vertical-align: middle;\n",
       "    }\n",
       "\n",
       "    .dataframe tbody tr th {\n",
       "        vertical-align: top;\n",
       "    }\n",
       "\n",
       "    .dataframe thead th {\n",
       "        text-align: right;\n",
       "    }\n",
       "</style>\n",
       "<table border=\"1\" class=\"dataframe\">\n",
       "  <thead>\n",
       "    <tr style=\"text-align: right;\">\n",
       "      <th></th>\n",
       "      <th>PC1</th>\n",
       "      <th>PC2</th>\n",
       "      <th>PC3</th>\n",
       "      <th>samples</th>\n",
       "      <th>cancer_type</th>\n",
       "    </tr>\n",
       "  </thead>\n",
       "  <tbody>\n",
       "    <tr>\n",
       "      <th>0</th>\n",
       "      <td>29.093405</td>\n",
       "      <td>-64.995288</td>\n",
       "      <td>-36.259665</td>\n",
       "      <td>SA136091</td>\n",
       "      <td>GBM-US</td>\n",
       "    </tr>\n",
       "    <tr>\n",
       "      <th>1</th>\n",
       "      <td>7.918782</td>\n",
       "      <td>-34.429618</td>\n",
       "      <td>-14.369309</td>\n",
       "      <td>SA138738</td>\n",
       "      <td>GBM-US</td>\n",
       "    </tr>\n",
       "    <tr>\n",
       "      <th>2</th>\n",
       "      <td>11.502220</td>\n",
       "      <td>-46.810274</td>\n",
       "      <td>-30.764988</td>\n",
       "      <td>SA141272</td>\n",
       "      <td>GBM-US</td>\n",
       "    </tr>\n",
       "    <tr>\n",
       "      <th>3</th>\n",
       "      <td>21.022601</td>\n",
       "      <td>-54.168199</td>\n",
       "      <td>-11.752567</td>\n",
       "      <td>SA144576</td>\n",
       "      <td>GBM-US</td>\n",
       "    </tr>\n",
       "    <tr>\n",
       "      <th>4</th>\n",
       "      <td>-7.712671</td>\n",
       "      <td>-33.636717</td>\n",
       "      <td>-10.936530</td>\n",
       "      <td>SA146105</td>\n",
       "      <td>GBM-US</td>\n",
       "    </tr>\n",
       "    <tr>\n",
       "      <th>...</th>\n",
       "      <td>...</td>\n",
       "      <td>...</td>\n",
       "      <td>...</td>\n",
       "      <td>...</td>\n",
       "      <td>...</td>\n",
       "    </tr>\n",
       "    <tr>\n",
       "      <th>1354</th>\n",
       "      <td>0.180999</td>\n",
       "      <td>-13.531088</td>\n",
       "      <td>-2.575378</td>\n",
       "      <td>SA511031</td>\n",
       "      <td>STAD-US</td>\n",
       "    </tr>\n",
       "    <tr>\n",
       "      <th>1355</th>\n",
       "      <td>23.838257</td>\n",
       "      <td>-22.776924</td>\n",
       "      <td>-11.049217</td>\n",
       "      <td>SA511841</td>\n",
       "      <td>STAD-US</td>\n",
       "    </tr>\n",
       "    <tr>\n",
       "      <th>1356</th>\n",
       "      <td>-1.690245</td>\n",
       "      <td>-9.127438</td>\n",
       "      <td>-1.160509</td>\n",
       "      <td>SA443538</td>\n",
       "      <td>STAD-US</td>\n",
       "    </tr>\n",
       "    <tr>\n",
       "      <th>1357</th>\n",
       "      <td>-36.553516</td>\n",
       "      <td>1.510105</td>\n",
       "      <td>5.093141</td>\n",
       "      <td>SA443538.1</td>\n",
       "      <td>NaN</td>\n",
       "    </tr>\n",
       "    <tr>\n",
       "      <th>1358</th>\n",
       "      <td>-29.001544</td>\n",
       "      <td>5.207521</td>\n",
       "      <td>0.746777</td>\n",
       "      <td>SA551062</td>\n",
       "      <td>THCA-US</td>\n",
       "    </tr>\n",
       "  </tbody>\n",
       "</table>\n",
       "<p>1359 rows × 5 columns</p>\n",
       "</div>"
      ],
      "text/plain": [
       "            PC1        PC2        PC3     samples cancer_type\n",
       "0     29.093405 -64.995288 -36.259665    SA136091      GBM-US\n",
       "1      7.918782 -34.429618 -14.369309    SA138738      GBM-US\n",
       "2     11.502220 -46.810274 -30.764988    SA141272      GBM-US\n",
       "3     21.022601 -54.168199 -11.752567    SA144576      GBM-US\n",
       "4     -7.712671 -33.636717 -10.936530    SA146105      GBM-US\n",
       "...         ...        ...        ...         ...         ...\n",
       "1354   0.180999 -13.531088  -2.575378    SA511031     STAD-US\n",
       "1355  23.838257 -22.776924 -11.049217    SA511841     STAD-US\n",
       "1356  -1.690245  -9.127438  -1.160509    SA443538     STAD-US\n",
       "1357 -36.553516   1.510105   5.093141  SA443538.1         NaN\n",
       "1358 -29.001544   5.207521   0.746777    SA551062     THCA-US\n",
       "\n",
       "[1359 rows x 5 columns]"
      ]
     },
     "execution_count": 20,
     "metadata": {},
     "output_type": "execute_result"
    }
   ],
   "source": [
    "pca_df"
   ]
  },
  {
   "cell_type": "markdown",
   "metadata": {},
   "source": [
    "### Plotting the PCA of transcription levels"
   ]
  },
  {
   "cell_type": "code",
   "execution_count": 21,
   "metadata": {},
   "outputs": [
    {
     "data": {
      "application/vnd.plotly.v1+json": {
       "config": {
        "plotlyServerURL": "https://plot.ly"
       },
       "data": [
        {
         "customdata": [
          [
           "SA136091"
          ],
          [
           "SA138738"
          ],
          [
           "SA141272"
          ],
          [
           "SA144576"
          ],
          [
           "SA146105"
          ],
          [
           "SA151709"
          ],
          [
           "SA155940"
          ],
          [
           "SA164579"
          ],
          [
           "SA167349"
          ],
          [
           "SA167759"
          ],
          [
           "SA173009"
          ],
          [
           "SA174372"
          ],
          [
           "SA183702"
          ],
          [
           "SA184257"
          ],
          [
           "SA494057"
          ],
          [
           "SA131728"
          ],
          [
           "SA132368"
          ],
          [
           "SA139948"
          ],
          [
           "SA142043"
          ],
          [
           "SA146608"
          ],
          [
           "SA153016"
          ],
          [
           "SA158256"
          ],
          [
           "SA163620"
          ],
          [
           "SA164854"
          ],
          [
           "SA166804"
          ],
          [
           "SA176022"
          ],
          [
           "SA182882"
          ],
          [
           "SA165304"
          ]
         ],
         "hovertemplate": "cancer_type=GBM-US<br>PC1=%{x}<br>PC2=%{y}<br>PC3=%{z}<br>samples=%{customdata[0]}<extra></extra>",
         "legendgroup": "GBM-US",
         "marker": {
          "color": "#636efa",
          "symbol": "circle"
         },
         "mode": "markers",
         "name": "GBM-US",
         "scene": "scene",
         "showlegend": true,
         "type": "scatter3d",
         "x": [
          29.093405127105285,
          7.918781745410398,
          11.502219556084166,
          21.022601309361832,
          -7.7126711878429175,
          14.60881628393911,
          37.85110514371703,
          10.712378138124878,
          -13.567581619414506,
          -8.295241835779688,
          -9.373735574446307,
          -19.387366224844694,
          2.246122545330716,
          66.82010889453976,
          -11.711029472813069,
          25.405904394654527,
          16.292751933937325,
          31.32685013666994,
          18.86965671140709,
          -3.6190718480888173,
          37.08893724922038,
          26.002779284221987,
          21.332217422983042,
          46.81605526033016,
          28.042989196678054,
          6.708982954538523,
          50.56683339169498,
          20.40544535176558
         ],
         "y": [
          -64.99528752637009,
          -34.42961763482879,
          -46.81027420320466,
          -54.168199183481086,
          -33.6367174168999,
          -17.092889492666043,
          -65.8042512731047,
          -46.74016740358078,
          -25.075375146898658,
          -17.07184714922068,
          -40.038898688263174,
          -15.63999138369767,
          -38.15954332309864,
          -65.20908166780455,
          -22.832956627839717,
          -50.233912144542174,
          -59.70999515340897,
          -51.75544962145875,
          -47.68360471677923,
          -23.412395596498264,
          -52.86160898513027,
          -33.02401999707107,
          -42.73676775669906,
          -52.48523608296936,
          -37.333490181619304,
          -33.03826438429376,
          -50.2227650815057,
          -46.00187544547189
         ],
         "z": [
          -36.259665315469206,
          -14.3693086945244,
          -30.764987864224036,
          -11.752567113014702,
          -10.936530426024902,
          10.085788301390727,
          -36.38187708196344,
          -15.844255073060385,
          -14.171457115329268,
          -34.02372677520005,
          -36.16937571894365,
          -2.610602544795598,
          -36.37576582246551,
          -18.79722759137103,
          -2.0298598316604237,
          -19.385994680884053,
          -19.370802732256124,
          -26.562950529038623,
          -21.650512938900924,
          -2.7689308796265824,
          -26.55234031797591,
          -22.362378627778284,
          -32.32753964709577,
          -24.266055544940347,
          -20.331218264975817,
          -11.081666249858944,
          -38.460519081544646,
          -25.228395554078396
         ]
        },
        {
         "customdata": [
          [
           "SA261184"
          ],
          [
           "SA261595"
          ],
          [
           "SA262459"
          ],
          [
           "SA263853"
          ],
          [
           "SA266489"
          ],
          [
           "SA266786"
          ],
          [
           "SA261436"
          ],
          [
           "SA262126"
          ],
          [
           "SA262624"
          ],
          [
           "SA263196"
          ],
          [
           "SA264003"
          ],
          [
           "SA264069"
          ],
          [
           "SA264336"
          ],
          [
           "SA264474"
          ],
          [
           "SA264624"
          ],
          [
           "SA266579"
          ],
          [
           "SA266783"
          ],
          [
           "SA266828"
          ]
         ],
         "hovertemplate": "cancer_type=LGG-US<br>PC1=%{x}<br>PC2=%{y}<br>PC3=%{z}<br>samples=%{customdata[0]}<extra></extra>",
         "legendgroup": "LGG-US",
         "marker": {
          "color": "#EF553B",
          "symbol": "circle"
         },
         "mode": "markers",
         "name": "LGG-US",
         "scene": "scene",
         "showlegend": true,
         "type": "scatter3d",
         "x": [
          7.706890046441955,
          39.12894474400697,
          77.51722246874102,
          27.869543933618324,
          65.1944203131841,
          0.2830692668714209,
          38.25419330729489,
          55.52121774668966,
          27.341514688573,
          56.0946691398303,
          -0.014066206505257327,
          48.21343416075673,
          61.71652568688447,
          24.04742255565344,
          96.6449399698846,
          49.14534335008565,
          22.623135045226007,
          21.360560421072215
         ],
         "y": [
          -34.20733195297691,
          -56.946475220762295,
          -69.96518552922777,
          -52.36854731928872,
          -53.179733214937954,
          -35.66890956313162,
          -62.69185522631126,
          -75.5026604440835,
          -47.051656128500404,
          -83.85409650268876,
          -24.91163208439959,
          -78.98816141640746,
          -66.26041892311508,
          -54.43193738403497,
          -85.72941279744701,
          -55.4066725157158,
          -51.68051286430055,
          -50.950291073528014
         ],
         "z": [
          10.24298916571138,
          10.269388109808853,
          2.130204854260279,
          -1.3880786171882598,
          5.153088056060828,
          -17.748059638039923,
          7.002419324608957,
          14.567270316816728,
          7.557678564315808,
          14.50189774283463,
          4.751019413230144,
          -0.02453321667935568,
          -12.34531831991933,
          11.131261048849813,
          9.434249890720599,
          -1.873431256645488,
          4.747402215851722,
          -4.245582222099506
         ]
        },
        {
         "customdata": [
          [
           "SA491558"
          ],
          [
           "SA15776"
          ],
          [
           "SA18463"
          ],
          [
           "SA19615"
          ],
          [
           "SA20573"
          ],
          [
           "SA20975"
          ],
          [
           "SA491600"
          ],
          [
           "SA22515"
          ],
          [
           "SA491630"
          ],
          [
           "SA26895"
          ],
          [
           "SA27437"
          ],
          [
           "SA33121"
          ],
          [
           "SA33754"
          ],
          [
           "SA37556"
          ],
          [
           "SA46800"
          ],
          [
           "SA49664"
          ],
          [
           "SA50262"
          ],
          [
           "SA492021"
          ],
          [
           "SA492026"
          ],
          [
           "SA492027"
          ],
          [
           "SA492056"
          ],
          [
           "SA55071"
          ],
          [
           "SA57008"
          ],
          [
           "SA57479"
          ],
          [
           "SA60771"
          ],
          [
           "SA61837"
          ],
          [
           "SA61999"
          ],
          [
           "SA62815"
          ],
          [
           "SA63265"
          ],
          [
           "SA64373"
          ],
          [
           "SA65784"
          ],
          [
           "SA66217"
          ],
          [
           "SA67692"
          ],
          [
           "SA68015"
          ],
          [
           "SA68194"
          ],
          [
           "SA68521"
          ],
          [
           "SA70525"
          ],
          [
           "SA72642"
          ],
          [
           "SA74453"
          ],
          [
           "SA77461"
          ],
          [
           "SA78527"
          ],
          [
           "SA80884"
          ],
          [
           "SA81808"
          ],
          [
           "SA82372"
          ],
          [
           "SA82966"
          ],
          [
           "SA83134"
          ],
          [
           "SA10195"
          ],
          [
           "SA11798"
          ],
          [
           "SA12991"
          ],
          [
           "SA13738"
          ],
          [
           "SA14241"
          ],
          [
           "SA17443"
          ],
          [
           "SA18702"
          ],
          [
           "SA22443"
          ],
          [
           "SA23417"
          ],
          [
           "SA24487"
          ],
          [
           "SA26595"
          ],
          [
           "SA28475"
          ],
          [
           "SA28963"
          ],
          [
           "SA30223"
          ],
          [
           "SA32297"
          ],
          [
           "SA32713"
          ],
          [
           "SA33508"
          ],
          [
           "SA34768"
          ],
          [
           "SA38132"
          ],
          [
           "SA491668"
          ],
          [
           "SA491814"
          ],
          [
           "SA492388"
          ],
          [
           "SA40403"
          ],
          [
           "SA40999"
          ],
          [
           "SA43144"
          ],
          [
           "SA45294"
          ],
          [
           "SA46697"
          ],
          [
           "SA491910"
          ],
          [
           "SA48667"
          ],
          [
           "SA49610"
          ],
          [
           "SA53799"
          ],
          [
           "SA55269"
          ],
          [
           "SA492104"
          ],
          [
           "SA60252"
          ],
          [
           "SA61440"
          ],
          [
           "SA63181"
          ],
          [
           "SA492174"
          ],
          [
           "SA64750"
          ],
          [
           "SA70945"
          ],
          [
           "SA71810"
          ],
          [
           "SA72823"
          ],
          [
           "SA74051"
          ],
          [
           "SA75558"
          ],
          [
           "SA82918"
          ],
          [
           "SA84185"
          ]
         ],
         "hovertemplate": "cancer_type=BRCA-US<br>PC1=%{x}<br>PC2=%{y}<br>PC3=%{z}<br>samples=%{customdata[0]}<extra></extra>",
         "legendgroup": "BRCA-US",
         "marker": {
          "color": "#00cc96",
          "symbol": "circle"
         },
         "mode": "markers",
         "name": "BRCA-US",
         "scene": "scene",
         "showlegend": true,
         "type": "scatter3d",
         "x": [
          26.501519527500328,
          7.413065140573437,
          44.06010604223806,
          53.25804411009498,
          23.349413698220726,
          20.620140953024613,
          61.41070026697292,
          -16.37005555044256,
          46.28111330093577,
          -25.562352452319853,
          69.72079391898642,
          -0.29632734084535417,
          13.141810695409985,
          19.504284176828193,
          11.947626117012677,
          21.719272515903093,
          30.82979451853657,
          20.680859988623137,
          19.027371309475807,
          35.12929738836185,
          10.742278702020927,
          -12.610500886690488,
          17.892123676861665,
          -4.650150840803452,
          8.070938835446771,
          23.10431316167191,
          58.86976205059111,
          22.71099159681246,
          9.588252209691259,
          8.0674857969211,
          25.368674744238504,
          -11.862060315176432,
          -0.24131777304189342,
          34.36063252775337,
          41.23043355545184,
          -4.89973386186674,
          8.969643525417442,
          13.631496841051625,
          36.42627975183543,
          -20.308659368574215,
          2.570117674412617,
          26.373744603873057,
          24.07925711971372,
          -1.3696166289278882,
          33.95751679843603,
          16.665027038866356,
          21.11869726958814,
          21.05271311168654,
          16.382089870238836,
          1.6464731957885992,
          30.968799471827623,
          16.19022124884373,
          68.73928208806426,
          0.4345884281306863,
          -52.41999943140657,
          -9.93698655041804,
          -14.437681560507816,
          7.544483991912726,
          49.42864978942237,
          7.330149117238898,
          -15.828971721609005,
          39.26242491261631,
          10.625777680698388,
          0.616062867346815,
          23.054216124490722,
          -5.538638967054714,
          -20.964431553870146,
          -21.67155827196526,
          17.116623109883164,
          15.442716215754558,
          20.731928329271536,
          20.908063125924436,
          -7.061095786797308,
          30.468196392984733,
          31.643845989896764,
          21.072754627746324,
          -46.67153650545893,
          11.247897564480283,
          62.113811926381125,
          15.895219622562681,
          -18.45730001390361,
          1.103710661246704,
          7.735563035426732,
          17.609026117840862,
          7.9966166326168855,
          -17.06705729471622,
          3.316398269075096,
          7.101297173881976,
          -43.36705381411447,
          60.36918250206686,
          24.757539195817483
         ],
         "y": [
          -46.57125620743932,
          -26.142380915479706,
          -50.127821266867464,
          -49.6072140002496,
          -38.32553827128947,
          -34.25386456494273,
          -53.83440158530551,
          -14.087920167591449,
          -53.16031339724559,
          -10.609746736984896,
          -41.998988956394605,
          -24.448014240345152,
          -26.025523897537145,
          -30.398915128535815,
          -40.18893943106705,
          -36.36987559196537,
          -34.27565896624883,
          -39.7298131944973,
          -37.40809985886401,
          -39.24609255017232,
          -39.84557924797794,
          -26.302141428309213,
          -39.31960576628467,
          -0.30741057849206366,
          -35.762572049371194,
          -29.333102334296406,
          -58.31983613404472,
          -27.05445610421581,
          -32.997536913870604,
          -26.68254366779483,
          -29.288969196383242,
          -10.381754882448998,
          -35.99775623555378,
          -37.72548589216288,
          -37.652201528172945,
          -32.598093916069026,
          -29.03170877446778,
          -37.08920447998015,
          -53.78457072584641,
          -18.32843269147007,
          -32.22443653890649,
          -44.72780625813704,
          -33.91980755887009,
          -21.131861240238674,
          -41.1261263777013,
          -31.616227942681626,
          -31.681057065552093,
          -39.11056801440713,
          -32.71013914696949,
          -35.263449994649434,
          -31.807139997466184,
          -29.9752825241028,
          -49.74143095067125,
          -23.361586938467866,
          16.84054765284672,
          -5.325271370567306,
          -16.329248125605645,
          -21.002971811195344,
          -54.5459379655952,
          -33.04834237769343,
          -20.15562106798075,
          -43.51531617762753,
          -24.25670472510241,
          -28.502382333855476,
          -25.312259760543487,
          -28.764248689930515,
          -13.679594745356583,
          -15.95256383868076,
          -38.99871247734871,
          -30.123101830087894,
          -33.04332872683382,
          -39.48249059484596,
          -22.008483712868912,
          -29.1007823584734,
          -44.85570503551172,
          -39.988347925973684,
          10.946880792316525,
          -22.97973952033873,
          -54.23457820284621,
          -30.961927751028927,
          -8.07516284532095,
          -10.71984763272497,
          -33.10837077082206,
          1.2961821515712468,
          -37.59685205053113,
          -2.320098133781538,
          -23.63456941198795,
          -30.420166015735465,
          3.735723851646978,
          -33.873997617484434,
          -49.269642253404434
         ],
         "z": [
          3.390079947128482,
          -0.6220315743313961,
          -14.800193612568828,
          0.5825238768841428,
          -16.840531940100387,
          6.92334878787782,
          15.098816589856304,
          -17.374756800826336,
          -21.226750217706243,
          -17.641116520304777,
          38.27193455913983,
          -14.247435417674362,
          -8.329484284456813,
          2.6463389164276703,
          -15.954291756316131,
          -7.376842924893634,
          -4.753957230627901,
          -0.6640086010522732,
          -2.1325051933692802,
          -2.3229783565612636,
          -38.41428736473089,
          -26.834409733438523,
          -6.734623872762852,
          -15.353600582644761,
          -26.164492963482463,
          7.060485532254956,
          -24.243673988594235,
          13.749056626422899,
          -18.197414808538046,
          5.179456371551059,
          6.431161467714688,
          -7.839431158880922,
          -21.68228273041574,
          7.668587745969202,
          8.474924783301805,
          -27.05860509612945,
          -28.486311012950374,
          -31.430541884999364,
          -10.51637477913166,
          -39.57510176000923,
          4.583780076139764,
          -22.433330869756894,
          5.831414051422496,
          -0.34824992860653053,
          8.233594230794361,
          -6.9136408724144625,
          -17.61849963284287,
          -15.237503242398938,
          -13.777653302755077,
          -25.672020900211596,
          -0.11364248624508715,
          -6.804761583402322,
          16.155397196417244,
          -25.265276694925213,
          -9.739650569571928,
          -2.3943020941251554,
          -19.095980735385638,
          -1.456152908421075,
          1.0961375845876387,
          -13.943402090133263,
          -33.52262194705051,
          -9.506236018568128,
          -4.620696567920689,
          -20.190267638387194,
          23.28419509473425,
          -38.64294186338284,
          -43.477635882411285,
          -48.021335909806396,
          7.010547449605891,
          -10.064461327873556,
          -22.421811174426114,
          1.42844012626912,
          -34.21467202994689,
          12.719841377596797,
          -17.491020326561863,
          -15.79882507719245,
          -16.883180879807952,
          -7.336360281802763,
          11.496208975522167,
          -7.716004338319782,
          -11.863300614115424,
          -4.200640047038335,
          -16.151153740031464,
          -21.296686693849246,
          -9.164052692458633,
          -19.532533449056704,
          -22.88702320402397,
          -4.56314760043713,
          -2.881440092580771,
          8.141861622902708,
          -37.613865392014525
         ]
        },
        {
         "customdata": [
          [
           "SA492657"
          ],
          [
           "SA517453"
          ],
          [
           "SA517715"
          ],
          [
           "SA517802"
          ],
          [
           "SA517839"
          ],
          [
           "SA517730"
          ],
          [
           "SA517856"
          ],
          [
           "SA524949"
          ],
          [
           "SA524966"
          ],
          [
           "SA525036"
          ],
          [
           "SA525054"
          ],
          [
           "SA84360"
          ],
          [
           "SA84489"
          ],
          [
           "SA492581"
          ],
          [
           "SA84668"
          ],
          [
           "SA84896"
          ],
          [
           "SA534431"
          ],
          [
           "SA517532"
          ],
          [
           "SA534591"
          ],
          [
           "SA534389"
          ]
         ],
         "hovertemplate": "cancer_type=CESC-US<br>PC1=%{x}<br>PC2=%{y}<br>PC3=%{z}<br>samples=%{customdata[0]}<extra></extra>",
         "legendgroup": "CESC-US",
         "marker": {
          "color": "#FFA15A",
          "symbol": "circle"
         },
         "mode": "markers",
         "name": "CESC-US",
         "scene": "scene",
         "showlegend": true,
         "type": "scatter3d",
         "x": [
          -17.45214342567938,
          -36.74818563739188,
          -42.19140310531494,
          -25.834255224551463,
          -15.780973465227465,
          9.037181420169095,
          -3.8147702511219097,
          -27.0999550042683,
          -19.29976216863031,
          6.413586868878041,
          -15.358674444807011,
          42.32424990327496,
          5.660004377529144,
          14.946811096019383,
          -37.43468834216866,
          4.433969521454562,
          10.56405850935054,
          -61.969547066804815,
          -73.53385811538114,
          -21.756127164948925
         ],
         "y": [
          -21.954702091962968,
          10.105342313778644,
          -4.956689157412251,
          -9.933816368699349,
          -21.744583785824254,
          -26.416766416708153,
          -24.251547403197183,
          -8.376976853726404,
          -16.775691090993735,
          -35.080654877714984,
          -29.680735922170943,
          -40.711316478077116,
          -31.907582950529697,
          -38.354271771732776,
          -0.6088859729996041,
          -24.916343474238918,
          -28.696940754412694,
          16.446539322083186,
          8.684021246594936,
          -8.288032180239636
         ],
         "z": [
          -33.71265621110866,
          -14.230152126458222,
          -32.665447847252814,
          -12.765235309858154,
          -49.79267366858464,
          -29.430255723666054,
          -30.903709642291727,
          -18.617531167271608,
          -14.887117633548758,
          -31.881203029178483,
          -34.59393263697404,
          -34.31858913954102,
          -30.216070514061432,
          -52.01144818197186,
          -44.50998354519281,
          -26.836466789243275,
          -19.16954389318512,
          -25.31987180319207,
          -53.051006053304896,
          -34.99661581097201
         ]
        },
        {
         "customdata": [
          [
           "SA112902"
          ],
          [
           "SA121680"
          ],
          [
           "SA126265"
          ],
          [
           "SA491162"
          ],
          [
           "SA491195"
          ],
          [
           "SA491215"
          ],
          [
           "SA491106"
          ],
          [
           "SA491122"
          ],
          [
           "SA491143"
          ],
          [
           "SA491175"
          ],
          [
           "SA491186"
          ],
          [
           "SA491205"
          ],
          [
           "SA491225"
          ],
          [
           "SA92158"
          ],
          [
           "SA93146"
          ],
          [
           "SA93904"
          ],
          [
           "SA95373"
          ],
          [
           "SA100712"
          ],
          [
           "SA101371"
          ],
          [
           "SA102816"
          ],
          [
           "SA108597"
          ],
          [
           "SA111218"
          ],
          [
           "SA119548"
          ],
          [
           "SA121657"
          ],
          [
           "SA125187"
          ],
          [
           "SA126289"
          ],
          [
           "SA129949"
          ],
          [
           "SA130321"
          ],
          [
           "SA87265"
          ],
          [
           "SA88004"
          ],
          [
           "SA90162"
          ],
          [
           "SA100232"
          ],
          [
           "SA100868"
          ],
          [
           "SA102536"
          ],
          [
           "SA105050"
          ],
          [
           "SA106552"
          ],
          [
           "SA547730"
          ]
         ],
         "hovertemplate": "cancer_type=COAD-US<br>PC1=%{x}<br>PC2=%{y}<br>PC3=%{z}<br>samples=%{customdata[0]}<extra></extra>",
         "legendgroup": "COAD-US",
         "marker": {
          "color": "#19d3f3",
          "symbol": "circle"
         },
         "mode": "markers",
         "name": "COAD-US",
         "scene": "scene",
         "showlegend": true,
         "type": "scatter3d",
         "x": [
          -26.612948849992033,
          -50.45901759895401,
          -58.06786823052295,
          -22.734519553936053,
          -7.714001312887361,
          -7.6803572145484775,
          -3.33377801806747,
          -6.903897829588129,
          -13.139194436703276,
          -8.295192242596148,
          -10.529018573351737,
          -17.508010412666547,
          12.401784166471868,
          18.19017259859416,
          -34.194562278660555,
          -0.5918346439488065,
          -42.74960762701139,
          -48.314808852661805,
          -32.38180335211962,
          -44.004107592830266,
          -7.536464072955199,
          -18.552523744217925,
          -40.17156856829331,
          -10.271798782337436,
          -20.470487413334464,
          2.486784603890865,
          -20.806251769957534,
          -23.436453920367946,
          -28.056552967732603,
          -37.19753220725882,
          -47.9808423465368,
          -25.395564641302197,
          -20.451773690302172,
          -30.29303230105573,
          -29.202893329550008,
          -12.260941129240368,
          -27.998457218128923
         ],
         "y": [
          -3.6476505347418966,
          -6.971334384608023,
          1.9603719097800683,
          -6.666735527324262,
          -7.654221748036127,
          -16.11303308012029,
          -12.603582042011197,
          2.387236736689258,
          -13.71327367885927,
          -13.665860400363194,
          -17.28909055403483,
          1.1548632631456428,
          -14.355797524897003,
          -30.531220774206826,
          -1.3491628331085852,
          -5.694071383726621,
          -0.19748440388527594,
          -0.20205251616321532,
          -4.437954274822188,
          -1.645524684182571,
          -14.394515739566783,
          -5.908956193711732,
          -3.5878737829754113,
          -23.9160913168127,
          -7.646861605361865,
          -28.423699782836685,
          -12.14537843921995,
          -10.819601108021436,
          -11.522481743855037,
          -10.706257240211139,
          3.3739064727124943,
          -6.2916815273298505,
          -17.78507062230395,
          -17.392040281696136,
          -8.9775053985403,
          -9.26685036565395,
          0.7407215915897477
         ],
         "z": [
          -9.289049186158154,
          -43.57984307486904,
          -42.77043362235307,
          -26.77172519103612,
          -6.143341926034196,
          -25.144463695303102,
          -16.320544540112923,
          7.799234929055169,
          -9.784653233985084,
          -2.467415172624093,
          -7.875046769447661,
          -1.9505652343303184,
          -22.03774472487593,
          -28.882405784473075,
          -21.951566474033623,
          -4.192073885265609,
          -12.48795966318251,
          -37.361902336111356,
          -23.728042437594503,
          -23.16299351845078,
          -8.872560055333903,
          -20.170666496790925,
          -16.98217458794362,
          -20.937859647190706,
          -35.75987415687427,
          -10.859628837747,
          -18.07010940263241,
          -16.964780733751017,
          -27.046583942046002,
          -40.27599830110076,
          -35.46694332047723,
          -4.944191216484268,
          -24.394980631791526,
          -33.07307064490807,
          -13.707302436254873,
          -7.337992557886411,
          -14.005283581065115
         ]
        },
        {
         "customdata": [
          [
           "SA494103"
          ],
          [
           "SA494168"
          ],
          [
           "SA191115"
          ],
          [
           "SA494229"
          ],
          [
           "SA494251"
          ],
          [
           "SA192727"
          ],
          [
           "SA192967"
          ],
          [
           "SA494271"
          ],
          [
           "SA194253"
          ],
          [
           "SA195307"
          ],
          [
           "SA494351"
          ],
          [
           "SA199271"
          ],
          [
           "SA200524"
          ],
          [
           "SA201351"
          ],
          [
           "SA201581"
          ],
          [
           "SA494507"
          ],
          [
           "SA202903"
          ],
          [
           "SA203048"
          ],
          [
           "SA203543"
          ],
          [
           "SA203853"
          ],
          [
           "SA494058"
          ],
          [
           "SA494078"
          ],
          [
           "SA188108"
          ],
          [
           "SA494116"
          ],
          [
           "SA189208"
          ],
          [
           "SA494127"
          ],
          [
           "SA190261"
          ],
          [
           "SA191335"
          ],
          [
           "SA494253"
          ],
          [
           "SA494284"
          ],
          [
           "SA194387"
          ],
          [
           "SA195328"
          ],
          [
           "SA195822"
          ],
          [
           "SA494343"
          ],
          [
           "SA494399"
          ],
          [
           "SA494401"
          ],
          [
           "SA200796"
          ],
          [
           "SA201430"
          ],
          [
           "SA201809"
          ],
          [
           "SA202848"
          ],
          [
           "SA539321"
          ],
          [
           "SA195900"
          ]
         ],
         "hovertemplate": "cancer_type=HNSC-US<br>PC1=%{x}<br>PC2=%{y}<br>PC3=%{z}<br>samples=%{customdata[0]}<extra></extra>",
         "legendgroup": "HNSC-US",
         "marker": {
          "color": "#FF6692",
          "symbol": "circle"
         },
         "mode": "markers",
         "name": "HNSC-US",
         "scene": "scene",
         "showlegend": true,
         "type": "scatter3d",
         "x": [
          35.50537840883205,
          -36.66901924365074,
          -2.1455066553775928,
          -10.114763242045248,
          -32.599497582937516,
          -2.718583346369776,
          6.83022315554811,
          -24.492507023675405,
          -7.382806614430915,
          1.9215960989500056,
          -19.778083582646996,
          13.228070990081935,
          -20.37791910822538,
          -2.6494602001528405,
          -1.6813623210053006,
          -5.810806886040236,
          -12.2709526119215,
          -3.280547917279349,
          0.6016487402378603,
          -42.977143746763105,
          -6.231718358059211,
          10.807954728898013,
          3.834213397017354,
          -58.21831478804879,
          -37.44233529369078,
          1.5494708878513785,
          16.333580714996945,
          -35.84320045642079,
          1.809614669331714,
          -21.762608909413107,
          -14.581611170660322,
          16.963719100576505,
          -17.82939232941588,
          -33.04064597595839,
          2.636091730145428,
          -14.081163831018054,
          -8.031924309112725,
          -22.063091483237688,
          -13.12388936248794,
          6.9932243657364115,
          16.59002495897051,
          18.899375098802246
         ],
         "y": [
          -40.674201962344306,
          -3.559432321869862,
          -20.754935523965393,
          -16.29372572221546,
          -15.18004925936743,
          -30.47223401688198,
          -31.374206901909478,
          -13.92572267987655,
          -17.751098728034236,
          -16.251426074591937,
          -22.925226196034664,
          -21.42497797602196,
          -16.096002829260954,
          -30.989041404980128,
          -11.249097385496373,
          -29.072177476215277,
          -11.73742057889052,
          -8.433575760730234,
          -36.02865430305794,
          -2.9589710408122745,
          -20.88744828011396,
          -32.13401982555537,
          -10.613776118167735,
          7.960055598538126,
          -4.762832453261951,
          -25.432146349156895,
          -33.78080449223025,
          4.553096573517751,
          -25.973869960162357,
          -10.356462887076676,
          -3.0913000992551067,
          -38.00912897534318,
          9.050271399347245,
          9.44202573203167,
          -26.105561825578906,
          -22.967404157522136,
          -22.00661505451377,
          1.0481812516180768,
          -1.150367659001349,
          -19.369441106492047,
          -29.227097135154732,
          -34.97127118689761
         ],
         "z": [
          -3.5522855139777394,
          -9.96066880639639,
          -41.558502710900875,
          -9.557881699687123,
          -28.12258798944184,
          -13.069026906574791,
          -25.658757343059385,
          -21.98629808085555,
          -25.44659357662828,
          -19.8203862079319,
          -32.15658168332803,
          -23.584654835752584,
          -11.726738084084204,
          -9.519046544524777,
          -6.973481416663049,
          -9.656970447312794,
          -17.17991878353094,
          -12.38954543099781,
          -12.483169746315324,
          -16.78545007774826,
          -11.528744492239351,
          -14.518629967156047,
          -26.809539033923993,
          -19.89076759961367,
          -20.51297376046517,
          -17.687319828923382,
          -7.881348270870778,
          3.258844868271364,
          -7.663488896494519,
          -8.88892091649606,
          -25.35745612011539,
          -28.736076165111886,
          -18.34961543622192,
          -10.356260479844297,
          -17.767652065589992,
          -18.395133738206585,
          -25.607999954837375,
          -20.435895198277073,
          -8.001518921331233,
          -11.138140812841412,
          -17.87798553319134,
          -12.12886618459878
         ]
        },
        {
         "customdata": [
          [
           "SA445778"
          ],
          [
           "SA445899"
          ],
          [
           "SA446028"
          ],
          [
           "SA446465"
          ],
          [
           "SA448334"
          ],
          [
           "SA448931"
          ],
          [
           "SA449306"
          ],
          [
           "SA450608"
          ],
          [
           "SA450746"
          ],
          [
           "SA451554"
          ],
          [
           "SA513879"
          ],
          [
           "SA452320"
          ],
          [
           "SA452376"
          ],
          [
           "SA513920"
          ],
          [
           "SA453724"
          ],
          [
           "SA454747"
          ],
          [
           "SA454801"
          ],
          [
           "SA455841"
          ],
          [
           "SA456681"
          ],
          [
           "SA458506"
          ],
          [
           "SA444521"
          ],
          [
           "SA444829"
          ],
          [
           "SA445264"
          ],
          [
           "SA445536"
          ],
          [
           "SA446059"
          ],
          [
           "SA447303"
          ],
          [
           "SA447818"
          ],
          [
           "SA518007"
          ],
          [
           "SA448361"
          ],
          [
           "SA448570"
          ],
          [
           "SA449063"
          ],
          [
           "SA450222"
          ],
          [
           "SA451013"
          ],
          [
           "SA451252"
          ],
          [
           "SA451533"
          ],
          [
           "SA452353"
          ],
          [
           "SA453823"
          ],
          [
           "SA454678"
          ],
          [
           "SA454798"
          ],
          [
           "SA456980"
          ],
          [
           "SA458075"
          ],
          [
           "SA458434"
          ],
          [
           "SA513601"
          ],
          [
           "SA514022"
          ],
          [
           "SA513543"
          ],
          [
           "SA514077"
          ],
          [
           "SA551062"
          ]
         ],
         "hovertemplate": "cancer_type=THCA-US<br>PC1=%{x}<br>PC2=%{y}<br>PC3=%{z}<br>samples=%{customdata[0]}<extra></extra>",
         "legendgroup": "THCA-US",
         "marker": {
          "color": "#B6E880",
          "symbol": "circle"
         },
         "mode": "markers",
         "name": "THCA-US",
         "scene": "scene",
         "showlegend": true,
         "type": "scatter3d",
         "x": [
          -4.536259126712689,
          -8.33033004933279,
          3.216594209256411,
          -22.232457381910926,
          2.2038349780938145,
          -50.288003521033346,
          32.51306592943212,
          12.548042466597563,
          33.773389436877764,
          -14.053297520574203,
          -17.217743713397137,
          33.95912250044875,
          -81.19577971660037,
          8.202347081987131,
          -8.772799425481224,
          -19.719821967474765,
          7.236978618682235,
          18.638576721604032,
          -15.849617251750113,
          -13.70748049041382,
          -10.10429092931942,
          16.228602776635668,
          -12.821641217908777,
          -3.6916932413996344,
          -19.510054007255764,
          6.8586062956663145,
          -76.41567718900657,
          -21.924163459350297,
          -9.915454573367185,
          6.970094751061597,
          -27.946681848126367,
          -11.276912619266623,
          -4.3706744345595165,
          14.303491028475598,
          -6.726111813453129,
          7.9084461698750435,
          14.920180045411866,
          -17.47496786221887,
          -2.991002847419583,
          -75.7665800134793,
          -5.781409159497928,
          -2.79470586712484,
          -23.744959948351784,
          18.31504826712099,
          8.424646930462913,
          4.31461665239644,
          -29.001544230297494
         ],
         "y": [
          22.438556532534605,
          -17.336758023261087,
          -13.985197719601057,
          -12.882523792997794,
          -19.173766188251232,
          11.78302275640421,
          -40.18952247380205,
          -30.36509002522115,
          -46.19320390194812,
          2.7971968353158156,
          12.788020733229796,
          -44.93023316490822,
          32.64013267270811,
          -21.655224053890716,
          -20.929382309768133,
          -20.98566524713816,
          -14.313622396576752,
          -23.813965709490365,
          -5.073782369520008,
          -12.254206557457426,
          -13.38737787105559,
          -17.826295985952694,
          -10.692068973689778,
          -18.476251585508578,
          -6.381530150289567,
          -26.657556915582752,
          40.792678221025405,
          -6.90419727691772,
          -5.175379384074913,
          -18.067084124047934,
          -3.8958733223780584,
          -2.625244379313978,
          -16.924193195582575,
          -15.593633374233104,
          -14.097180330705644,
          -30.263212965407938,
          -33.88542530979615,
          -12.935431435612594,
          -28.779626999284012,
          41.98318297986775,
          -31.092740479501295,
          -17.37351149351036,
          -12.227215645738182,
          -32.49786073359303,
          -26.55745721281925,
          -29.373001483852047,
          5.2075210868033315
         ],
         "z": [
          -15.302965340209894,
          -11.323224129203254,
          16.860285090726048,
          -7.188806739913485,
          11.624545489843854,
          -4.2546437389181015,
          4.646873722824301,
          7.759814018176138,
          17.728012252577706,
          8.88641055654271,
          10.492545980213157,
          7.852173037904599,
          -15.161731205721338,
          11.744445771799816,
          -4.747265406883699,
          -9.246960222232804,
          1.952277128655946,
          -1.28861705253131,
          5.360537226060319,
          -3.3563366026349177,
          -3.9971398324516856,
          9.399120226006342,
          4.0815924631295,
          -4.344460001217966,
          20.950458183361313,
          9.319107748577533,
          5.238294973454341,
          -0.25502964185098714,
          -12.614877169147208,
          4.6435840118497715,
          16.066259214310573,
          0.1435166133519867,
          -17.72239917502312,
          -4.702393728336011,
          -3.4976972581737713,
          -10.330532658945337,
          14.767942337566762,
          -9.974770182844823,
          -5.610112132073252,
          6.7028592850064195,
          -17.081264591895124,
          7.2003334584456145,
          5.833631217604627,
          -5.012145358657081,
          -0.5010428664134553,
          3.862312859933747,
          0.7467768282553949
         ]
        },
        {
         "customdata": [
          [
           "SA209137"
          ],
          [
           "SA210843"
          ],
          [
           "SA213387"
          ],
          [
           "SA213642"
          ],
          [
           "SA214090"
          ],
          [
           "SA224647"
          ],
          [
           "SA227089"
          ],
          [
           "SA229532"
          ],
          [
           "SA230633"
          ],
          [
           "SA230964"
          ],
          [
           "SA231359"
          ],
          [
           "SA235957"
          ],
          [
           "SA236844"
          ],
          [
           "SA244508"
          ],
          [
           "SA245139"
          ],
          [
           "SA560614"
          ],
          [
           "SA247488"
          ],
          [
           "SA250087"
          ],
          [
           "SA250663"
          ],
          [
           "SA251496"
          ],
          [
           "SA204546"
          ],
          [
           "SA208440"
          ],
          [
           "SA211341"
          ],
          [
           "SA212393"
          ],
          [
           "SA212726"
          ],
          [
           "SA213217"
          ],
          [
           "SA215371"
          ],
          [
           "SA218331"
          ],
          [
           "SA219165"
          ],
          [
           "SA219639"
          ],
          [
           "SA226253"
          ],
          [
           "SA233266"
          ],
          [
           "SA240128"
          ],
          [
           "SA246522"
          ],
          [
           "SA250273"
          ],
          [
           "SA560606"
          ],
          [
           "SA233294"
          ]
         ],
         "hovertemplate": "cancer_type=KIRC-US<br>PC1=%{x}<br>PC2=%{y}<br>PC3=%{z}<br>samples=%{customdata[0]}<extra></extra>",
         "legendgroup": "KIRC-US",
         "marker": {
          "color": "#FF97FF",
          "symbol": "circle"
         },
         "mode": "markers",
         "name": "KIRC-US",
         "scene": "scene",
         "showlegend": true,
         "type": "scatter3d",
         "x": [
          9.284491836259678,
          -17.111906951695087,
          27.307472895944496,
          23.70508659788994,
          -31.354579759183217,
          0.8089728492931579,
          -40.2853609278978,
          -16.72788320532378,
          -15.64236496501904,
          -5.200508487781812,
          10.166492164216173,
          8.344873331345648,
          27.09431328257912,
          8.131845222480752,
          -48.139966686061136,
          30.377351429914853,
          -5.876808674278745,
          -14.2166309597606,
          -27.62082454479142,
          -25.736078523644093,
          -11.114573781329822,
          -5.280201235308842,
          -14.094263292455201,
          -25.209125477306547,
          -25.84413871519875,
          9.674213780979647,
          29.21501548707406,
          -28.79473327618249,
          -2.199321005526075,
          39.68482745513632,
          -42.05555038603175,
          -0.32831885324319254,
          16.127021621138887,
          -9.005468434088936,
          2.0328802863586315,
          15.061162593701415,
          -4.096544548565295
         ],
         "y": [
          0.32336912016847436,
          -9.09400092019135,
          -18.890913932967504,
          -25.137346984696,
          5.306329513698635,
          -5.74496366103133,
          0.3992985514438661,
          7.421244532038294,
          -12.644040795272653,
          -18.135737188963805,
          -33.07281894752762,
          -13.040970643218827,
          -43.82420812426117,
          -21.7827689221575,
          21.334943971975395,
          -15.164606307788906,
          1.5054474352110518,
          -4.279686014054607,
          -2.666798147319956,
          -8.690188309815413,
          -2.1741723803486948,
          -13.874393572344905,
          0.5575244549507417,
          -11.60671330968384,
          -5.505653448571675,
          -25.593939920077748,
          -11.353741140279705,
          1.3730443352376325,
          -17.475671833455593,
          -13.458927249531262,
          1.6201562036632737,
          -25.090797493907523,
          -7.599330760791167,
          -2.402217146285852,
          0.4350881158083506,
          -16.09140932668533,
          -8.000512888220932
         ],
         "z": [
          27.897236961373604,
          23.290747667105663,
          33.88546028289457,
          34.84361275874785,
          7.436146120500254,
          22.312439857447906,
          16.011781255347003,
          15.32839225771782,
          19.731821018230818,
          34.62919601999334,
          33.48772372632198,
          23.24533175596033,
          28.091498165550263,
          25.573176256450466,
          7.732672767127261,
          41.66796207234742,
          29.791778778329558,
          21.78357010851493,
          20.048376388462202,
          15.34482905393767,
          25.194125031826186,
          26.694746365397638,
          21.83965879582033,
          10.652992804322366,
          21.744768723276596,
          41.31302939774002,
          39.670310716270265,
          8.24548271679384,
          14.71857707663405,
          39.655560431198715,
          11.897369423149886,
          28.09534105495607,
          4.0588476718059,
          22.69149305082803,
          20.72282837976498,
          26.004852259559005,
          30.86847861856785
         ]
        },
        {
         "customdata": [
          [
           "SA254188"
          ],
          [
           "SA254332"
          ],
          [
           "SA254668"
          ],
          [
           "SA494740"
          ],
          [
           "SA253172"
          ],
          [
           "SA253231"
          ],
          [
           "SA254758"
          ],
          [
           "SA255317"
          ],
          [
           "SA255656"
          ],
          [
           "SA495342"
          ],
          [
           "SA494805"
          ],
          [
           "SA494956"
          ],
          [
           "SA495048"
          ],
          [
           "SA495215"
          ],
          [
           "SA495321"
          ],
          [
           "SA495518"
          ],
          [
           "SA495070"
          ],
          [
           "SA495100"
          ],
          [
           "SA495155"
          ],
          [
           "SA495252"
          ],
          [
           "SA495380"
          ],
          [
           "SA514999"
          ],
          [
           "SA515399"
          ],
          [
           "SA515781"
          ],
          [
           "SA516035"
          ],
          [
           "SA514993"
          ],
          [
           "SA521593"
          ],
          [
           "SA521664"
          ],
          [
           "SA521717"
          ],
          [
           "SA521667"
          ],
          [
           "SA534051"
          ]
         ],
         "hovertemplate": "cancer_type=KIRP-US<br>PC1=%{x}<br>PC2=%{y}<br>PC3=%{z}<br>samples=%{customdata[0]}<extra></extra>",
         "legendgroup": "KIRP-US",
         "marker": {
          "color": "#FECB52",
          "symbol": "circle"
         },
         "mode": "markers",
         "name": "KIRP-US",
         "scene": "scene",
         "showlegend": true,
         "type": "scatter3d",
         "x": [
          -26.04893762343409,
          30.027944101745625,
          17.439973825172473,
          65.35046383801316,
          -51.76324518592865,
          49.597362144281114,
          -30.253800151959645,
          -39.306661592537445,
          -28.849017819804597,
          22.98432797383921,
          -4.98018548467281,
          -6.570971474464701,
          -64.23180553094697,
          -35.57140791315776,
          13.291393432628428,
          -49.798186390791194,
          -40.29633044360777,
          -40.20263806217897,
          -66.59949700700217,
          1.6014713120257251,
          -39.9631180388448,
          -63.7587446118227,
          -37.49197443294473,
          -51.284131368839525,
          -14.831020640733954,
          -6.6692640698571966,
          -47.99496749144716,
          -32.99678828851939,
          -35.574964938045184,
          8.355686170421066,
          -50.938143367953536
         ],
         "y": [
          -8.943163975360099,
          -14.385627294871341,
          -8.759096621259026,
          -25.783838416911927,
          16.69231591576179,
          -27.263061074529816,
          5.223073659445022,
          1.1764325244845872,
          13.907108422159023,
          10.851509884787571,
          -21.843926971450724,
          -13.099838557627383,
          16.671559722539556,
          -3.6926424728134917,
          -35.85546218117753,
          14.226615817641902,
          4.159632579493528,
          2.7999738227584303,
          21.474394656456507,
          -23.750774369346594,
          19.45815044433194,
          9.522148403458708,
          3.8000369052210283,
          4.352597334016295,
          -24.92060180262373,
          -20.70389913980918,
          -0.3310551656970285,
          -6.064263837796128,
          25.757161554379,
          -10.133352681021739,
          17.807732442709945
         ],
         "z": [
          34.103673927377386,
          34.59114692823954,
          16.28996291558737,
          10.340153932611447,
          9.779781619057895,
          36.223436126591714,
          3.8175825409144952,
          -0.7822140245325763,
          -2.564939923561703,
          26.03192609648621,
          -18.48629361806879,
          14.402636700144408,
          9.051051802094198,
          0.11187498370134895,
          14.142578180348366,
          -3.6563230446584116,
          8.559768610826936,
          -1.2288231392328275,
          5.317361285687284,
          2.060371371337059,
          8.672566708542277,
          -1.0234080721726613,
          -7.773454666861199,
          -26.0390350549434,
          -6.598123019108232,
          10.540791650694391,
          -35.91485550016057,
          -20.675411804727005,
          -7.243574163372602,
          5.086285469862305,
          -3.7904234009466258
         ]
        },
        {
         "customdata": [
          [
           "SA267454"
          ],
          [
           "SA267658"
          ],
          [
           "SA267718"
          ],
          [
           "SA268117"
          ],
          [
           "SA268333"
          ],
          [
           "SA268465"
          ],
          [
           "SA268678"
          ],
          [
           "SA268889"
          ],
          [
           "SA268957"
          ],
          [
           "SA269167"
          ],
          [
           "SA269629"
          ],
          [
           "SA270088"
          ],
          [
           "SA267260"
          ],
          [
           "SA267307"
          ],
          [
           "SA267880"
          ],
          [
           "SA267949"
          ],
          [
           "SA268027"
          ],
          [
           "SA268432"
          ],
          [
           "SA268591"
          ],
          [
           "SA268750"
          ],
          [
           "SA268834"
          ],
          [
           "SA269251"
          ],
          [
           "SA269323"
          ],
          [
           "SA269383"
          ],
          [
           "SA269680"
          ],
          [
           "SA270040"
          ],
          [
           "SA499894"
          ],
          [
           "SA500054"
          ],
          [
           "SA500148"
          ],
          [
           "SA500397"
          ],
          [
           "SA500499"
          ],
          [
           "SA500699"
          ],
          [
           "SA500769"
          ],
          [
           "SA500830"
          ],
          [
           "SA500100"
          ],
          [
           "SA500643"
          ],
          [
           "SA500737"
          ],
          [
           "SA500759"
          ],
          [
           "SA500797"
          ],
          [
           "SA500820"
          ],
          [
           "SA500918"
          ],
          [
           "SA501060"
          ],
          [
           "SA515972"
          ],
          [
           "SA515104"
          ],
          [
           "SA515277"
          ],
          [
           "SA520782"
          ],
          [
           "SA520910"
          ],
          [
           "SA540506"
          ],
          [
           "SA540527"
          ],
          [
           "SA500238"
          ],
          [
           "SA540960"
          ]
         ],
         "hovertemplate": "cancer_type=LIHC-US<br>PC1=%{x}<br>PC2=%{y}<br>PC3=%{z}<br>samples=%{customdata[0]}<extra></extra>",
         "legendgroup": "LIHC-US",
         "marker": {
          "color": "#636efa",
          "symbol": "circle"
         },
         "mode": "markers",
         "name": "LIHC-US",
         "scene": "scene",
         "showlegend": true,
         "type": "scatter3d",
         "x": [
          -68.08262957509267,
          -95.68272737131875,
          -65.02291745923266,
          -63.98900380648366,
          4.925460645803568,
          -77.80877780172457,
          -6.537637633703995,
          -55.957536487142974,
          -32.444642352926145,
          -47.107628592855534,
          -53.37160530662394,
          -52.87572003926102,
          -68.2119924168814,
          -62.76419476166584,
          -68.09801621912592,
          -95.63896926500348,
          -51.68222536742826,
          -63.38121762772283,
          -33.4046757669952,
          -51.58651869373338,
          -80.24917178083356,
          -71.19612214175157,
          -68.84080863467956,
          -13.503130753272588,
          -43.1913181429153,
          -42.00737977960624,
          -55.97513212695179,
          -71.71691909032582,
          -46.439223176579006,
          -81.33852540470353,
          -69.41946104631047,
          -74.01195414803708,
          -52.86327129144097,
          -84.54647950055283,
          -76.44246895995013,
          -70.85858595861488,
          -59.29249566235845,
          -69.77990052452378,
          -85.64926302859037,
          -45.46927191359093,
          -50.49366001913164,
          -40.822199896212986,
          -70.3988813840712,
          -68.48711272619369,
          -58.14070813053271,
          -37.879735094756136,
          -73.1965664234751,
          -67.40400958215821,
          -51.8330330643238,
          1.6499138577233623,
          -62.98207162977869
         ],
         "y": [
          33.140521192655385,
          44.47779113308773,
          28.49212929437556,
          29.35879487471332,
          -32.605234093770164,
          37.040023204517674,
          -7.055381394546461,
          3.036901746910109,
          -7.7022439424140146,
          15.692873945696826,
          18.14772768644933,
          28.02695099358123,
          33.24209980799414,
          20.08158703813073,
          19.73183961837341,
          42.40784780523755,
          16.636566559002578,
          25.265921815733645,
          8.544160473912754,
          12.318794382053154,
          43.80881618184094,
          16.696185355434334,
          29.222282504297556,
          -12.356524478699177,
          3.8579251040782663,
          6.947283037075587,
          28.39774750251721,
          21.53734930008199,
          17.038381199644345,
          34.45718473911296,
          34.815556271483764,
          21.69450586233333,
          22.801236259316525,
          33.404424568291844,
          30.448979229250835,
          34.77020494466435,
          18.168276033574628,
          30.341706777068723,
          31.716489923129256,
          27.350249645077763,
          12.356116581695177,
          -0.4655219758115839,
          37.571768207722094,
          22.952506011721525,
          23.657403483464865,
          6.803522814882969,
          35.16627413491356,
          27.43189907394658,
          18.77134932624021,
          -12.688778835085687,
          23.527770804463383
         ],
         "z": [
          38.02417327704713,
          11.225588064713564,
          28.953078145872283,
          27.15395481088034,
          1.7373279884112527,
          22.052603261950885,
          9.533020719268654,
          -14.734198947711965,
          7.86332154678954,
          -1.7040149369128164,
          18.304359088503087,
          14.1202785355836,
          12.007763247833086,
          2.510210109487003,
          5.695489674716618,
          13.492729475040306,
          17.973239648872458,
          30.227893325390635,
          22.82720964172182,
          7.845757882539373,
          32.37559996955784,
          -10.597176049848972,
          0.5209092173682557,
          -18.20026183492708,
          1.2246562763662483,
          2.2503956845311777,
          21.673379256928904,
          -7.876295784354017,
          1.812112998246702,
          24.225332801869556,
          23.249046692923446,
          -1.5021355894727102,
          26.27624547050769,
          -3.221758482422512,
          12.694292007712914,
          22.505722953067632,
          14.007985508382413,
          30.657625485939963,
          -12.478972472707248,
          28.122915433525623,
          21.836178589552393,
          -4.986341796115532,
          31.60048388783,
          6.358705817723746,
          28.036322504382195,
          -0.70319208667174,
          20.73143865774041,
          13.015517954513511,
          5.245506828345302,
          24.63166983489112,
          16.135947934171472
         ]
        },
        {
         "customdata": [
          [
           "SA275986"
          ],
          [
           "SA277382"
          ],
          [
           "SA277517"
          ],
          [
           "SA279763"
          ],
          [
           "SA279872"
          ],
          [
           "SA281267"
          ],
          [
           "SA281973"
          ],
          [
           "SA283444"
          ],
          [
           "SA283996"
          ],
          [
           "SA286004"
          ],
          [
           "SA287592"
          ],
          [
           "SA290059"
          ],
          [
           "SA292647"
          ],
          [
           "SA294903"
          ],
          [
           "SA270862"
          ],
          [
           "SA271263"
          ],
          [
           "SA273031"
          ],
          [
           "SA273481"
          ],
          [
           "SA274485"
          ],
          [
           "SA276242"
          ],
          [
           "SA278114"
          ],
          [
           "SA279342"
          ],
          [
           "SA279897"
          ],
          [
           "SA281019"
          ],
          [
           "SA283110"
          ],
          [
           "SA284573"
          ],
          [
           "SA286926"
          ],
          [
           "SA288366"
          ],
          [
           "SA289217"
          ],
          [
           "SA289879"
          ],
          [
           "SA290384"
          ],
          [
           "SA291007"
          ],
          [
           "SA291688"
          ],
          [
           "SA292802"
          ],
          [
           "SA294650"
          ],
          [
           "SA295193"
          ],
          [
           "SA296370"
          ]
         ],
         "hovertemplate": "cancer_type=LUAD-US<br>PC1=%{x}<br>PC2=%{y}<br>PC3=%{z}<br>samples=%{customdata[0]}<extra></extra>",
         "legendgroup": "LUAD-US",
         "marker": {
          "color": "#EF553B",
          "symbol": "circle"
         },
         "mode": "markers",
         "name": "LUAD-US",
         "scene": "scene",
         "showlegend": true,
         "type": "scatter3d",
         "x": [
          26.84999190329647,
          18.778995948586342,
          8.206391175003176,
          -20.301275518768445,
          -13.790372722261948,
          -26.62389001682928,
          36.05157001316225,
          -35.10193629120047,
          -17.7545242646995,
          -53.86281639829406,
          22.79330053726932,
          -30.398347004697175,
          -19.13061194734653,
          -15.321718754062926,
          -12.672694800240906,
          -4.504294789122415,
          -31.053932997862685,
          -22.39541106279174,
          1.0357573696506013,
          -41.1676038089812,
          -25.231563779567168,
          -5.2306773498558945,
          -50.61155505773124,
          -38.486322143947575,
          9.04866431419256,
          -33.03008504455467,
          -15.397907908146827,
          5.782682381261933,
          -1.9914384671877798,
          -7.994362777627544,
          -28.178782727009995,
          -6.495997274152648,
          -30.020325934384193,
          -49.372816379270446,
          3.5040539861590045,
          -17.477540518745435,
          -32.84654758022521
         ],
         "y": [
          -34.53502006984615,
          -22.80436101397483,
          -27.61348408553,
          -1.772193952930864,
          -9.527633813507098,
          -1.6682190558390797,
          -47.50334430651943,
          3.8285075266659367,
          5.025440033908686,
          6.025575064929896,
          -30.818721301683958,
          -10.921537466239297,
          5.036893845977485,
          -16.892250060881874,
          -16.03460307657915,
          -18.066956278416562,
          -0.5616690765298504,
          -15.704109889702014,
          -9.993137596584132,
          4.293431579392349,
          -4.823238401487502,
          -12.384092401400705,
          8.473079416380143,
          9.741477354121988,
          -43.35923859204947,
          -7.823849617806244,
          -16.232513469005358,
          -13.89400189045666,
          -12.195404108427596,
          -10.2197534138265,
          6.137798602707658,
          -4.542033987957346,
          -4.45876979709364,
          0.889304251314886,
          -21.04967393488687,
          -12.557630368480007,
          -17.888219324615367
         ],
         "z": [
          -21.016655002513694,
          -10.547162582910396,
          10.953756754669874,
          13.826670504689314,
          -1.6268931617202653,
          7.786815294693518,
          -32.00789166589173,
          -10.314258249029079,
          8.767121735621952,
          -4.678526564109874,
          23.987326667028682,
          8.391119050831078,
          -7.264334475471155,
          -11.799915398407142,
          -2.8248278955175197,
          -8.013218882861512,
          3.9920789122996716,
          -14.568618474390954,
          -3.0813990741400836,
          -20.310505599872155,
          -8.312543140861388,
          5.468515903571913,
          -14.278053178006084,
          6.9246604267294325,
          -33.28179915462997,
          -9.641255359896519,
          -5.0621001670976495,
          15.872629977970877,
          2.1669723911304537,
          -12.656679968472318,
          12.622713748520631,
          -1.2209815424057278,
          -8.007098438660437,
          -13.977840162605856,
          -18.985197287483047,
          4.511970428281159,
          -13.597052580333832
         ]
        },
        {
         "customdata": [
          [
           "SA503211"
          ],
          [
           "SA503261"
          ],
          [
           "SA303138"
          ],
          [
           "SA305293"
          ],
          [
           "SA305520"
          ],
          [
           "SA305693"
          ],
          [
           "SA306668"
          ],
          [
           "SA503473"
          ],
          [
           "SA307650"
          ],
          [
           "SA503614"
          ],
          [
           "SA503701"
          ],
          [
           "SA312300"
          ],
          [
           "SA313324"
          ],
          [
           "SA313680"
          ],
          [
           "SA503919"
          ],
          [
           "SA315264"
          ],
          [
           "SA315471"
          ],
          [
           "SA317999"
          ],
          [
           "SA504079"
          ],
          [
           "SA503179"
          ],
          [
           "SA298231"
          ],
          [
           "SA300605"
          ],
          [
           "SA301678"
          ],
          [
           "SA503358"
          ],
          [
           "SA304460"
          ],
          [
           "SA306087"
          ],
          [
           "SA307536"
          ],
          [
           "SA503541"
          ],
          [
           "SA307934"
          ],
          [
           "SA308158"
          ],
          [
           "SA503612"
          ],
          [
           "SA503699"
          ],
          [
           "SA309724"
          ],
          [
           "SA310244"
          ],
          [
           "SA310395"
          ],
          [
           "SA310500"
          ],
          [
           "SA311872"
          ],
          [
           "SA503898"
          ],
          [
           "SA503918"
          ],
          [
           "SA503921"
          ],
          [
           "SA313800"
          ],
          [
           "SA315503"
          ],
          [
           "SA315959"
          ],
          [
           "SA317863"
          ],
          [
           "SA504055"
          ],
          [
           "SA320731"
          ],
          [
           "SA306844"
          ]
         ],
         "hovertemplate": "cancer_type=LUSC-US<br>PC1=%{x}<br>PC2=%{y}<br>PC3=%{z}<br>samples=%{customdata[0]}<extra></extra>",
         "legendgroup": "LUSC-US",
         "marker": {
          "color": "#00cc96",
          "symbol": "circle"
         },
         "mode": "markers",
         "name": "LUSC-US",
         "scene": "scene",
         "showlegend": true,
         "type": "scatter3d",
         "x": [
          -21.28694329822197,
          -1.899622222652099,
          -11.872047350160589,
          9.304001181287362,
          27.019805224836695,
          -13.88237878344788,
          0.006047128333560256,
          -3.892719902701351,
          12.353435146401818,
          -1.260907778488148,
          -0.5648999121097417,
          -3.590268350472584,
          5.0554151782459495,
          -14.949868388428392,
          3.5850901720074595,
          0.9649506157478558,
          2.9917600760438448,
          -2.4924037399715484,
          26.922651704697053,
          -27.49501549047856,
          -3.937415885927134,
          7.272475934893762,
          10.92117614015414,
          -36.9017550105614,
          35.27528540495535,
          -1.2719886259886908,
          23.027362494688465,
          16.309138201317733,
          5.39894121401502,
          4.877968756837528,
          -21.185594831399133,
          -4.6430589625814465,
          13.1729461115776,
          -10.362030466910964,
          32.59483983483311,
          5.8340368999912435,
          7.915852135735329,
          2.8033460302184428,
          5.555621112955125,
          -1.0234750200605451,
          52.3671865293973,
          19.247932686662743,
          -17.803085035239157,
          36.92244098829863,
          -8.83239799134929,
          -23.698135650815207,
          -13.419914518310895
         ],
         "y": [
          -17.93864028519964,
          -33.2817595181488,
          -18.837277050630224,
          -31.012402067292054,
          -49.239043632321675,
          -0.9462779170067598,
          -24.512898285471667,
          -17.82744016946605,
          -28.321325794726956,
          -20.14847483829485,
          -33.964509494450915,
          -37.240276372278124,
          -41.71260107462217,
          -27.9848447725692,
          -27.40498661192936,
          -27.05158727710715,
          -7.703512565289847,
          -16.21952428208234,
          -35.37200336774388,
          -5.088939157148486,
          -25.505318131796564,
          -15.527381237871344,
          -36.53181168309915,
          -6.720622733257211,
          -49.67851768036461,
          -10.195886179132081,
          -21.535434810691,
          -14.212615730746558,
          -28.245073703327797,
          -25.781900618305755,
          -4.908506220625572,
          -21.83833045711156,
          -35.652415357425184,
          -16.115039916074533,
          -3.289455953785375,
          -37.959987658210174,
          -21.253206175987177,
          -29.130199830481647,
          -41.96520172314635,
          -28.161621938161094,
          -45.799222195373936,
          -39.65802346768782,
          -1.8230068351276734,
          -55.79272095296806,
          -23.201426724063662,
          -19.13551646494731,
          2.4758733598425833
         ],
         "z": [
          -9.238438479419075,
          -26.118238838717453,
          -7.032012426789929,
          -23.826436466605855,
          -5.206341163534673,
          -21.339313792169655,
          -17.75559704021785,
          -18.173787694952885,
          -15.301986388248725,
          5.008429984540291,
          -21.658204468959518,
          -23.44230166980549,
          -32.3757082686004,
          -16.444109583961172,
          9.274124606955105,
          -14.486317015807279,
          -4.579592695369065,
          -10.158523680852726,
          -21.13835402454763,
          -7.081368108152289,
          -29.41789378661017,
          -19.74980922926362,
          -26.588103714210217,
          -28.63120991793921,
          -15.701348688048094,
          -16.48000505548592,
          -4.106240098856489,
          20.814578004866068,
          -26.60942162076974,
          -19.34041050148198,
          -9.902924414555164,
          -26.785951854819803,
          -28.743582162673853,
          -6.659424210385716,
          4.433628439339036,
          -33.8054821415255,
          -4.602363371482579,
          -5.068312439815675,
          -17.930368717966658,
          -17.436339331807734,
          -39.20460544902508,
          -32.678364575741085,
          -32.80112352821293,
          -18.16801222423693,
          -27.688972109370425,
          -24.339925590613543,
          -12.029645077929365
         ]
        },
        {
         "customdata": [
          [
           "SA518470"
          ],
          [
           "SA518485"
          ],
          [
           "SA350650"
          ],
          [
           "SA359572"
          ],
          [
           "SA518989"
          ],
          [
           "SA519317"
          ],
          [
           "SA519788"
          ],
          [
           "SA520037"
          ],
          [
           "SA518254"
          ],
          [
           "SA518379"
          ],
          [
           "SA518389"
          ],
          [
           "SA518448"
          ],
          [
           "SA518467"
          ],
          [
           "SA518483"
          ],
          [
           "SA519106"
          ],
          [
           "SA519499"
          ],
          [
           "SA519904"
          ],
          [
           "SA520078"
          ],
          [
           "SA520101"
          ],
          [
           "SA520105"
          ]
         ],
         "hovertemplate": "cancer_type=OV-US<br>PC1=%{x}<br>PC2=%{y}<br>PC3=%{z}<br>samples=%{customdata[0]}<extra></extra>",
         "legendgroup": "OV-US",
         "marker": {
          "color": "#ab63fa",
          "symbol": "circle"
         },
         "mode": "markers",
         "name": "OV-US",
         "scene": "scene",
         "showlegend": true,
         "type": "scatter3d",
         "x": [
          -32.81284274414461,
          -3.021253833485514,
          -26.03741970497444,
          -29.35185380170188,
          -24.213839695986657,
          0.3238457807562304,
          56.240491066162406,
          -10.427892436384935,
          -20.023427802214034,
          37.283400546461415,
          -2.595954097290674,
          -1.7546219367108122,
          3.455714277666429,
          1.0648539393060663,
          28.780068227315937,
          -20.53661734071995,
          -7.291323343029768,
          -13.677933637265756,
          -15.795110643032638,
          -7.710694722995386
         ],
         "y": [
          -4.663102921303171,
          -29.64959963442525,
          -15.194002368777232,
          -32.19525385603044,
          -7.069266302979681,
          -33.467655090462216,
          -57.9878683689017,
          -33.70181603282836,
          -9.199554021835887,
          -51.29081849825582,
          -16.040376453688435,
          -37.53019747241239,
          -32.44996859881934,
          -36.41977145944784,
          -39.44046849319128,
          -18.210224919961448,
          -25.928541870371063,
          -17.746618477069596,
          -12.23710993250122,
          -16.88040096565783
         ],
         "z": [
          -22.09722805210036,
          -33.71812385614931,
          -25.280093107975546,
          -46.752668838096284,
          -21.733286511328455,
          -27.349300697938002,
          -32.14702731647935,
          -32.438988195987584,
          -28.181694748411754,
          -43.87399059961009,
          -23.477010951040125,
          -35.66256863103395,
          -32.22236925152347,
          -34.01786151870713,
          -32.11902057629576,
          -27.62057280236531,
          -27.303031899569906,
          -24.167688874851528,
          -18.690973489150785,
          -20.7196212402476
         ]
        },
        {
         "customdata": [
          [
           "SA414571"
          ],
          [
           "SA414677"
          ],
          [
           "SA414731"
          ],
          [
           "SA414744"
          ],
          [
           "SA414930"
          ],
          [
           "SA415032"
          ],
          [
           "SA415262"
          ],
          [
           "SA415950"
          ],
          [
           "SA416083"
          ],
          [
           "SA416401"
          ],
          [
           "SA417142"
          ],
          [
           "SA417676"
          ],
          [
           "SA417790"
          ],
          [
           "SA417841"
          ],
          [
           "SA417859"
          ],
          [
           "SA418289"
          ],
          [
           "SA506887"
          ],
          [
           "SA522399"
          ],
          [
           "SA414401"
          ]
         ],
         "hovertemplate": "cancer_type=PRAD-US<br>PC1=%{x}<br>PC2=%{y}<br>PC3=%{z}<br>samples=%{customdata[0]}<extra></extra>",
         "legendgroup": "PRAD-US",
         "marker": {
          "color": "#FFA15A",
          "symbol": "circle"
         },
         "mode": "markers",
         "name": "PRAD-US",
         "scene": "scene",
         "showlegend": true,
         "type": "scatter3d",
         "x": [
          12.46288188673268,
          15.40750864817182,
          9.07996024638285,
          -6.44235635626123,
          -17.518075565863914,
          21.13424872947764,
          -6.141425060688698,
          2.0746275287892515,
          -22.896465910871157,
          27.825859342599735,
          -28.06772031550553,
          -66.88490998313436,
          7.757528863202249,
          14.444247423372763,
          -5.206194860235068,
          -29.30525984821682,
          5.276572533987672,
          -7.96636514630166,
          -8.155411799464504
         ],
         "y": [
          -23.66817441517238,
          -20.140825617877198,
          -26.341641533474423,
          -19.532368773384004,
          -12.852762970792417,
          -30.79328999324471,
          -26.22738723326635,
          -28.034931907078477,
          -6.663258431001883,
          -30.402976687286305,
          -11.23443090672013,
          25.13366484415167,
          -29.792346089802823,
          -34.8185692626918,
          -22.27069833811294,
          -10.767079795220594,
          -22.389170484868366,
          -18.361065983374907,
          -18.405496179977444
         ],
         "z": [
          22.681814006761776,
          8.712607690677023,
          7.30210394405262,
          3.053813955239948,
          7.244364764845787,
          22.447948051116565,
          7.276481893410996,
          1.8867364897871368,
          15.960346026741052,
          22.203052731824254,
          -3.408461384946193,
          0.707820180014294,
          2.4483068967527,
          13.383580020708674,
          7.0959235282554385,
          -3.877140983072653,
          13.974744789667124,
          -1.8150636572682755,
          4.864002570051152
         ]
        },
        {
         "customdata": [
          [
           "SA420384"
          ],
          [
           "SA422769"
          ],
          [
           "SA423627"
          ],
          [
           "SA426710"
          ],
          [
           "SA427144"
          ],
          [
           "SA428143"
          ],
          [
           "SA431122"
          ],
          [
           "SA419625"
          ],
          [
           "SA422387"
          ],
          [
           "SA422904"
          ],
          [
           "SA424790"
          ],
          [
           "SA426071"
          ],
          [
           "SA428353"
          ],
          [
           "SA428657"
          ]
         ],
         "hovertemplate": "cancer_type=READ-US<br>PC1=%{x}<br>PC2=%{y}<br>PC3=%{z}<br>samples=%{customdata[0]}<extra></extra>",
         "legendgroup": "READ-US",
         "marker": {
          "color": "#19d3f3",
          "symbol": "circle"
         },
         "mode": "markers",
         "name": "READ-US",
         "scene": "scene",
         "showlegend": true,
         "type": "scatter3d",
         "x": [
          -19.213484160214026,
          -26.42302493076197,
          -24.489780823074323,
          0.13641905741661514,
          -20.19754770622955,
          -47.6607962272953,
          -19.632055541232596,
          -17.510804293865487,
          -32.97347512433869,
          -30.57568005197945,
          -38.3813979731431,
          -41.01971427745465,
          -32.090021353841124,
          -42.49650148902788
         ],
         "y": [
          -14.745643447061726,
          -1.4503082066301993,
          -16.64255796373303,
          -22.292992413032945,
          -13.828087010287506,
          -4.3417501439829325,
          -13.98682169547486,
          -3.761270886731111,
          1.1080584957730395,
          -2.3329239701507523,
          -3.276254686998265,
          -12.735691019035345,
          -9.498054577584629,
          1.0895937948471692
         ],
         "z": [
          -16.800647980631734,
          -21.414965091943927,
          -31.46087083108298,
          -29.586764031305513,
          -11.156895847959856,
          -40.48293605296105,
          -24.451632422694523,
          -17.65594481415553,
          -17.118044386107204,
          -12.209036605226435,
          -21.56133764127346,
          -52.7912955563486,
          -25.580399785308224,
          -12.93324822489052
         ]
        },
        {
         "customdata": [
          [
           "SA433463"
          ],
          [
           "SA433988"
          ],
          [
           "SA434348"
          ],
          [
           "SA434417"
          ],
          [
           "SA434477"
          ],
          [
           "SA434525"
          ],
          [
           "SA434831"
          ],
          [
           "SA434996"
          ],
          [
           "SA435224"
          ],
          [
           "SA435287"
          ],
          [
           "SA435572"
          ],
          [
           "SA436373"
          ],
          [
           "SA437006"
          ],
          [
           "SA437192"
          ],
          [
           "SA437249"
          ],
          [
           "SA438092"
          ],
          [
           "SA438272"
          ],
          [
           "SA438378"
          ],
          [
           "SA438657"
          ],
          [
           "SA432539"
          ],
          [
           "SA433133"
          ],
          [
           "SA433364"
          ],
          [
           "SA433418"
          ],
          [
           "SA433847"
          ],
          [
           "SA433958"
          ],
          [
           "SA434306"
          ],
          [
           "SA435017"
          ],
          [
           "SA435509"
          ],
          [
           "SA435905"
          ],
          [
           "SA436508"
          ],
          [
           "SA438509"
          ],
          [
           "SA508574"
          ],
          [
           "SA508988"
          ],
          [
           "SA509993"
          ],
          [
           "SA509149"
          ],
          [
           "SA531152"
          ]
         ],
         "hovertemplate": "cancer_type=SKCM-US<br>PC1=%{x}<br>PC2=%{y}<br>PC3=%{z}<br>samples=%{customdata[0]}<extra></extra>",
         "legendgroup": "SKCM-US",
         "marker": {
          "color": "#FF6692",
          "symbol": "circle"
         },
         "mode": "markers",
         "name": "SKCM-US",
         "scene": "scene",
         "showlegend": true,
         "type": "scatter3d",
         "x": [
          30.633288379317573,
          -6.49561321353561,
          17.199311116072636,
          8.239528188423835,
          13.302990970761762,
          22.878416813690055,
          18.363794528296108,
          0.47588518524754136,
          -12.514176174994127,
          0.9679701676479593,
          -14.800649916343811,
          36.891154353669116,
          -32.98314803777355,
          28.030738570702525,
          28.475701566800407,
          -7.61807242083224,
          -6.3326877301905125,
          23.078630264817054,
          70.16201230291607,
          -5.220189078462015,
          5.27611243631409,
          -42.26914380622979,
          -9.16753512022308,
          33.55885880142623,
          24.829896727646318,
          -2.28620009695006,
          62.485559824942776,
          13.099093805559734,
          12.27523781006836,
          -1.8086941914938741,
          2.605013139218298,
          -20.49083338336693,
          43.81355733137961,
          -10.822371471402427,
          19.062876017847465,
          -20.339014303669334
         ],
         "y": [
          -52.76532319770152,
          -2.263555641238401,
          -47.4187922352993,
          -44.01870391467462,
          -32.15617607320901,
          -39.968784043270695,
          -24.741885751119543,
          -31.88638868083396,
          1.0475344720764748,
          -10.894035547288285,
          -15.413142664593634,
          -51.37903769925095,
          1.2806380191927238,
          -39.99683681980332,
          -43.17382128744991,
          -18.404072766735194,
          -29.23900740696927,
          -28.8294435877655,
          -68.09183604581416,
          -12.960232633111872,
          -23.206460639507284,
          -18.77086997089024,
          -20.18594434261131,
          -37.62162786555113,
          -37.22753213064059,
          -23.593210828824716,
          -57.88747739132235,
          -39.515250175642315,
          -38.26164427984212,
          -18.489510415428736,
          -17.180366967910846,
          -19.152544078376273,
          -32.37466724270428,
          -15.698091320431457,
          -35.484653110564864,
          -21.498924718592285
         ],
         "z": [
          0.12471473700462478,
          -14.461715611818322,
          -7.828080235247416,
          -37.9998038205279,
          -9.777783082634386,
          -24.405123520023412,
          -10.189306850810667,
          -28.08115014377043,
          14.615420905185898,
          -6.885939588868912,
          -17.852056653349614,
          -24.312696982109397,
          -25.887416148720597,
          -15.399353172965998,
          4.168659095815077,
          2.861895478519411,
          -28.819109613842578,
          -7.556755091574664,
          -10.039263041542574,
          -22.84605674819704,
          0.6495933440055918,
          -53.915297350971116,
          -34.75517510625294,
          -16.76599007596208,
          -8.04182257916613,
          -25.50749777662165,
          -4.176630890895342,
          -18.43472038381547,
          -24.022271582051303,
          -38.0844150964591,
          -14.658178073774671,
          -41.91385613516117,
          -6.428294807344856,
          -19.2736669249218,
          -29.977284998578344,
          -33.459671962663826
         ]
        },
        {
         "customdata": [
          [
           "SA459470"
          ],
          [
           "SA460564"
          ],
          [
           "SA461590"
          ],
          [
           "SA514242"
          ],
          [
           "SA463369"
          ],
          [
           "SA465631"
          ],
          [
           "SA466124"
          ],
          [
           "SA514298"
          ],
          [
           "SA514319"
          ],
          [
           "SA469543"
          ],
          [
           "SA471917"
          ],
          [
           "SA473193"
          ],
          [
           "SA474315"
          ],
          [
           "SA476204"
          ],
          [
           "SA480113"
          ],
          [
           "SA514439"
          ],
          [
           "SA484672"
          ],
          [
           "SA484822"
          ],
          [
           "SA488516"
          ],
          [
           "SA489209"
          ],
          [
           "SA489774"
          ],
          [
           "SA490033"
          ],
          [
           "SA459265"
          ],
          [
           "SA460515"
          ],
          [
           "SA460859"
          ],
          [
           "SA461016"
          ],
          [
           "SA514228"
          ],
          [
           "SA462324"
          ],
          [
           "SA462416"
          ],
          [
           "SA468236"
          ],
          [
           "SA514311"
          ],
          [
           "SA471720"
          ],
          [
           "SA473026"
          ],
          [
           "SA514358"
          ],
          [
           "SA514362"
          ],
          [
           "SA475881"
          ],
          [
           "SA476431"
          ],
          [
           "SA478344"
          ],
          [
           "SA478484"
          ],
          [
           "SA480023"
          ],
          [
           "SA480851"
          ],
          [
           "SA482408"
          ],
          [
           "SA514437"
          ],
          [
           "SA484286"
          ]
         ],
         "hovertemplate": "cancer_type=UCEC-US<br>PC1=%{x}<br>PC2=%{y}<br>PC3=%{z}<br>samples=%{customdata[0]}<extra></extra>",
         "legendgroup": "UCEC-US",
         "marker": {
          "color": "#B6E880",
          "symbol": "circle"
         },
         "mode": "markers",
         "name": "UCEC-US",
         "scene": "scene",
         "showlegend": true,
         "type": "scatter3d",
         "x": [
          121.65613846761627,
          -26.503057460578543,
          -41.705572050493,
          -14.228302849607026,
          -2.4422261643423075,
          -17.965111093939704,
          -31.849981890500032,
          4.356439767543027,
          6.54845282521599,
          1.3591045431841913,
          -20.902029523816225,
          -39.32807823307535,
          -57.89156187697673,
          -58.03685790074773,
          108.63155229320431,
          -16.821518461730435,
          -17.96670595009161,
          -50.1989432901075,
          -6.075690604517743,
          -52.753358429625,
          -41.796111648313584,
          27.244604774653375,
          -42.37717921909113,
          -45.86609607559866,
          -36.79964272372873,
          -42.01592423710522,
          -12.624556905753106,
          -58.798799280614006,
          -54.854558465255934,
          -35.36361243851858,
          -35.066106179505255,
          -30.29034318189094,
          -29.263797150821176,
          -57.31238987355606,
          -27.50742943437492,
          -27.97263478858895,
          -6.19081779890485,
          -35.48266926289358,
          -55.66794029028146,
          -63.060851085295674,
          -51.26030608853536,
          -1.1861999055707526,
          -12.738178795793955,
          4.198358724702364
         ],
         "y": [
          -53.3786457991891,
          -4.394141107203897,
          3.34409602895912,
          -19.46078136779386,
          -35.33498726692112,
          -22.19254289127137,
          -8.721715667643693,
          -26.942179202756357,
          -32.41297368649425,
          -22.53930377123716,
          -9.24848820918744,
          -1.0277019369459155,
          39.225084145521436,
          8.816551762602897,
          -40.329295161002364,
          -11.610415691715582,
          -18.79159648554227,
          -5.48398722868793,
          -31.331478015944835,
          4.622982169180595,
          28.26825772107193,
          -46.57164292870364,
          -7.813631593806941,
          -7.895473065079546,
          -1.270255767591675,
          0.5551115085288925,
          -18.862436026188483,
          20.033925736808186,
          30.19842655989008,
          -14.506962065971406,
          -14.400385183718774,
          -11.09600018093678,
          -0.7137608345833596,
          17.04240571711672,
          -20.839399541152183,
          -9.799962237230268,
          -29.336145286465594,
          -14.608235396814601,
          19.611063092232698,
          37.093859551893864,
          5.899714771365919,
          -32.3116145735589,
          -24.244783101521744,
          -27.66428054783583
         ],
         "z": [
          54.2535839119507,
          -25.074172649583996,
          -27.407142891889634,
          -23.174410068721315,
          -52.37059463855623,
          -42.18227943601514,
          -23.316711400817756,
          -33.62508189541885,
          -37.38511527315176,
          -39.78042171577666,
          -36.66929328015699,
          -29.778396347825577,
          -12.608877656153872,
          -33.418925757635506,
          62.44323419973276,
          -43.47578946445878,
          -33.48945141382471,
          -44.170888000255985,
          -45.669178326909034,
          -20.400591656203034,
          -12.634607599160656,
          -59.19925324234582,
          -33.62267783142547,
          -26.541963003878646,
          -28.610990256394732,
          -29.18145568941021,
          -37.14721640342473,
          -8.082387882642134,
          -5.892670255883622,
          -47.16843293037155,
          -45.902333027817505,
          -24.6088378626761,
          -17.973054024829793,
          -34.01840180880821,
          -50.47321105606776,
          -20.786269403682425,
          -43.491438094242774,
          -30.448936683291056,
          -23.67689000099025,
          -11.23234364159274,
          -38.46258090611892,
          -55.99804254948,
          -47.76904260280968,
          -21.859884744017883
         ]
        },
        {
         "customdata": [
          [
           "SA649"
          ],
          [
           "SA3475"
          ],
          [
           "SA3805"
          ],
          [
           "SA5195"
          ],
          [
           "SA3721"
          ],
          [
           "SA1694"
          ],
          [
           "SA5780"
          ],
          [
           "SA491245"
          ],
          [
           "SA3391"
          ],
          [
           "SA5451"
          ],
          [
           "SA3742"
          ],
          [
           "SA3616"
          ],
          [
           "SA3310"
          ],
          [
           "SA4012"
          ],
          [
           "SA1181"
          ],
          [
           "SA4666"
          ],
          [
           "SA5378"
          ],
          [
           "SA1556"
          ],
          [
           "SA3053"
          ],
          [
           "SA2042"
          ],
          [
           "SA4138"
          ],
          [
           "SA4557"
          ],
          [
           "SA5501"
          ]
         ],
         "hovertemplate": "cancer_type=BLCA-US<br>PC1=%{x}<br>PC2=%{y}<br>PC3=%{z}<br>samples=%{customdata[0]}<extra></extra>",
         "legendgroup": "BLCA-US",
         "marker": {
          "color": "#FF97FF",
          "symbol": "circle"
         },
         "mode": "markers",
         "name": "BLCA-US",
         "scene": "scene",
         "showlegend": true,
         "type": "scatter3d",
         "x": [
          -2.984715571474338,
          -25.262342828873084,
          -15.737527974482273,
          -25.63367406991982,
          6.238814559856786,
          35.82113981729967,
          -15.606665446783671,
          5.081448405370006,
          -8.656377509219535,
          -15.640016047153663,
          -70.05268881083539,
          8.99218881918953,
          3.355446666086463,
          -66.50031057474781,
          -12.01182363768684,
          -8.64811181072253,
          -7.408233613869183,
          -26.78140919680971,
          -1.4030307476756043,
          -9.717466153882244,
          -13.78340862487801,
          -12.235186463273457,
          26.11727326131515
         ],
         "y": [
          -16.641189796129535,
          -4.614535356233643,
          -9.26522507379366,
          -8.004055309590536,
          -34.53311788256746,
          -55.13998940018894,
          -24.7749999979556,
          -31.534172517583126,
          -20.20856248816411,
          0.9634822448744917,
          48.53696715753123,
          -33.42908307535388,
          -28.385641715437053,
          30.097768728416682,
          -12.539720390651363,
          -12.045808797777552,
          -10.142655792409137,
          -2.2559883765276276,
          -29.857975516480664,
          -11.057618957181882,
          -17.9817035558194,
          -10.484411566956037,
          -29.73441272665659
         ],
         "z": [
          -7.688488547366718,
          -32.13249508075806,
          -5.932320568322158,
          -20.290446738300915,
          -36.09422902447533,
          -61.71369996607515,
          -20.43950819533341,
          -28.069786896814186,
          -20.562113676118344,
          -12.472162279674714,
          3.9008803914398467,
          -15.505899935415,
          -30.771981727978655,
          -3.6975967423673826,
          -4.583274303043384,
          -17.190828158372508,
          -26.927280752093303,
          -28.17389470881978,
          -29.096674683585164,
          -12.74346887409883,
          -10.053733329725931,
          -18.80830095884259,
          -24.074659888663813
         ]
        },
        {
         "customdata": [
          [
           "SA86108"
          ],
          [
           "SA86119"
          ],
          [
           "SA86126"
          ],
          [
           "SA86170"
          ],
          [
           "SA542383"
          ],
          [
           "SA86131"
          ],
          [
           "SA542384"
          ],
          [
           "SA86239"
          ],
          [
           "SA86302"
          ],
          [
           "SA542385"
          ],
          [
           "SA542386"
          ],
          [
           "SA86314"
          ],
          [
           "SA86338"
          ],
          [
           "SA86347"
          ],
          [
           "SA86383"
          ],
          [
           "SA86450"
          ],
          [
           "SA86476"
          ],
          [
           "SA538975"
          ],
          [
           "SA86545"
          ],
          [
           "SA86551"
          ],
          [
           "SA86569"
          ],
          [
           "SA542165"
          ],
          [
           "SA86594"
          ],
          [
           "SA542167"
          ],
          [
           "SA542169"
          ],
          [
           "SA538977"
          ],
          [
           "SA542387"
          ],
          [
           "SA538980"
          ],
          [
           "SA542175"
          ],
          [
           "SA86768"
          ],
          [
           "SA538983"
          ],
          [
           "SA542179"
          ],
          [
           "SA85244"
          ],
          [
           "SA85298"
          ],
          [
           "SA85340"
          ],
          [
           "SA85506"
          ],
          [
           "SA85535"
          ],
          [
           "SA538985"
          ],
          [
           "SA85553"
          ],
          [
           "SA542187"
          ],
          [
           "SA542391"
          ],
          [
           "SA542392"
          ],
          [
           "SA542393"
          ],
          [
           "SA542394"
          ],
          [
           "SA542189"
          ],
          [
           "SA538992"
          ],
          [
           "SA542395"
          ],
          [
           "SA538995"
          ],
          [
           "SA542396"
          ],
          [
           "SA538998"
          ],
          [
           "SA539000"
          ],
          [
           "SA539002"
          ],
          [
           "SA539004"
          ],
          [
           "SA539006"
          ],
          [
           "SA542193"
          ],
          [
           "SA539010"
          ],
          [
           "SA542199"
          ],
          [
           "SA542201"
          ],
          [
           "SA539012"
          ],
          [
           "SA542207"
          ],
          [
           "SA539014"
          ],
          [
           "SA542397"
          ],
          [
           "SA539019"
          ],
          [
           "SA85710"
          ],
          [
           "SA539021"
          ],
          [
           "SA539023"
          ],
          [
           "SA542209"
          ],
          [
           "SA542217"
          ]
         ],
         "hovertemplate": "cancer_type=CLLE-ES<br>PC1=%{x}<br>PC2=%{y}<br>PC3=%{z}<br>samples=%{customdata[0]}<extra></extra>",
         "legendgroup": "CLLE-ES",
         "marker": {
          "color": "#FECB52",
          "symbol": "circle"
         },
         "mode": "markers",
         "name": "CLLE-ES",
         "scene": "scene",
         "showlegend": true,
         "type": "scatter3d",
         "x": [
          97.27813079515654,
          56.953376352546535,
          131.34443232307189,
          119.39630560217508,
          107.70526873305188,
          82.17527780516113,
          123.54136664650817,
          114.25943768027493,
          120.16974018540213,
          157.84156072270724,
          129.35616016373774,
          137.1584751800409,
          115.55762007453276,
          146.61197459756815,
          117.17610196592595,
          83.33330327149454,
          97.61923553119931,
          192.21261170182578,
          63.10625438577276,
          149.20371070114894,
          102.78613231475131,
          131.37712672553863,
          129.04601475267404,
          126.46435228934479,
          131.76923165160213,
          88.26204357604334,
          96.16559793814255,
          125.9398413246067,
          115.86761217518894,
          165.06358271931944,
          128.63153547483438,
          16.28608708239095,
          153.26741273413796,
          162.61758045797686,
          104.82536592335978,
          136.2919646867046,
          105.81012740326658,
          97.91757102335545,
          115.771478932407,
          93.68497381114248,
          108.18130838554528,
          115.68036394756679,
          131.02377113792582,
          151.30521196935837,
          94.43665090358583,
          123.3150609554724,
          128.38552355700472,
          132.12609125515522,
          117.32118197069464,
          146.79032536278174,
          118.84399906109215,
          163.2367453138331,
          135.4025763942508,
          142.32221615453693,
          85.47639128877509,
          151.07978464695725,
          142.0220089552779,
          143.42227347849493,
          135.33513030498497,
          115.28663557076837,
          129.92436144173368,
          132.23996019266593,
          171.52443561380443,
          157.3433463675581,
          103.9656934564081,
          98.312785446467,
          108.4640316194898,
          108.0288154901756
         ],
         "y": [
          95.27753162816177,
          89.7326714217087,
          77.66814493426742,
          78.41541208825933,
          92.62868805722275,
          98.81646657936979,
          72.80421112983306,
          99.26592174456081,
          71.56048155875705,
          83.40477823259192,
          93.02425084232584,
          69.73554776261722,
          90.58095347776808,
          103.74141725986203,
          105.52631643668306,
          93.23124899319001,
          83.60349449344196,
          117.50955536093237,
          88.57243201188388,
          102.8828890491464,
          97.87751622633569,
          116.22615236590572,
          102.57984636647146,
          109.54193189948144,
          118.87004353139497,
          95.46798299338437,
          96.72584574242654,
          112.30012383083151,
          103.90655612454427,
          99.73631782802339,
          109.38682708905445,
          76.5533645961521,
          112.85744477181646,
          109.93224921562047,
          99.30107297974362,
          108.28847320136137,
          102.37364538765422,
          102.09939339103542,
          99.69153262973548,
          97.04691206760224,
          93.61788854031087,
          104.86257997976956,
          108.32817405465575,
          116.70091522362411,
          96.90516684354546,
          101.99612882266307,
          99.53012845466218,
          114.6583551410797,
          107.81257795623252,
          110.58784182505468,
          101.3278327008873,
          114.45092234256235,
          105.07390767636824,
          112.14900348219602,
          97.18315581365523,
          119.987958297276,
          106.64879733391025,
          109.7915164989933,
          118.86149070290928,
          95.65955386024376,
          107.55423528390132,
          107.538590219622,
          117.23433922404455,
          106.15141506439595,
          105.69463760059071,
          98.3443488947017,
          103.44737098887416,
          102.5258115840956
         ],
         "z": [
          -12.049177917485963,
          -5.3871089276844994,
          -18.68331063138568,
          -26.95406910004964,
          -4.848070588121384,
          -6.837020441346467,
          -18.03116233277389,
          -6.492412276687603,
          9.3708106395818,
          -18.578852086577836,
          -17.86430049210467,
          1.5186649168353175,
          2.8493909811480553,
          0.11003838394211805,
          -13.99409271186141,
          -20.332955658324178,
          -6.025551099912293,
          -18.25500313692007,
          -6.942032226051924,
          -4.582553268935315,
          -8.752224714535632,
          -21.814532060558484,
          -14.821238638777936,
          -24.53901449523288,
          -23.4348318348334,
          -26.13703215407811,
          -18.530055408105323,
          -24.110587771884564,
          -14.846639855773915,
          0.49356310585560165,
          -18.708444614382135,
          -12.418070788920966,
          -7.597506468376174,
          -6.411636974525145,
          -17.166541965490943,
          -13.455431041628506,
          -12.966791473548621,
          -24.832073321065923,
          -24.282661385153848,
          -27.252049669251,
          -12.180111952045868,
          -14.071948572515332,
          -20.835255331308332,
          -8.014747586382942,
          -15.97998931863828,
          -13.836893331774409,
          -25.407435912148376,
          -17.48286123355312,
          -49.916111424284374,
          -11.707658551957806,
          -30.7885730049186,
          -9.655670705790248,
          -31.797698235442734,
          -24.055022623554976,
          -16.90745715831186,
          -25.660791460813478,
          -6.2025391594652115,
          -21.68774789979971,
          -23.569732585112394,
          -23.471889902905534,
          -31.984300359238368,
          -19.139133957740935,
          -12.137786106304251,
          -6.927490567730124,
          -8.558700722502092,
          -13.9227132087703,
          -14.06071729938001,
          -11.299433563222527
         ]
        },
        {
         "customdata": [
          [
           "SA560602"
          ],
          [
           "SA560605"
          ],
          [
           "SA560612"
          ],
          [
           "SA560593"
          ],
          [
           "SA560599"
          ],
          [
           "SA560609"
          ],
          [
           "SA560617"
          ]
         ],
         "hovertemplate": "cancer_type=DLBC-US<br>PC1=%{x}<br>PC2=%{y}<br>PC3=%{z}<br>samples=%{customdata[0]}<extra></extra>",
         "legendgroup": "DLBC-US",
         "marker": {
          "color": "#636efa",
          "symbol": "circle"
         },
         "mode": "markers",
         "name": "DLBC-US",
         "scene": "scene",
         "showlegend": true,
         "type": "scatter3d",
         "x": [
          -37.5337718203575,
          -32.121083157419136,
          -33.54005921413817,
          -39.89519619653662,
          -31.339674314590635,
          -41.57096067858486,
          -33.50608328040198
         ],
         "y": [
          24.050719132125593,
          21.383214299677046,
          21.480154466228996,
          25.350540488448004,
          28.11974026347167,
          24.00509938288032,
          22.649684091402047
         ],
         "z": [
          -55.63599305870758,
          -62.51995688585876,
          -57.176208551766884,
          -49.8431511191757,
          -60.71259645403988,
          -57.05996024162179,
          -59.44801491777991
         ]
        },
        {
         "customdata": [
          [
           "SA528925"
          ],
          [
           "SA528930"
          ],
          [
           "SA528838"
          ],
          [
           "SA528898"
          ],
          [
           "SA528788"
          ],
          [
           "SA528790"
          ],
          [
           "SA528949"
          ]
         ],
         "hovertemplate": "cancer_type=ESAD-UK<br>PC1=%{x}<br>PC2=%{y}<br>PC3=%{z}<br>samples=%{customdata[0]}<extra></extra>",
         "legendgroup": "ESAD-UK",
         "marker": {
          "color": "#EF553B",
          "symbol": "circle"
         },
         "mode": "markers",
         "name": "ESAD-UK",
         "scene": "scene",
         "showlegend": true,
         "type": "scatter3d",
         "x": [
          -21.467197060364395,
          20.183577568128918,
          1.4952989262620215,
          26.626151756935432,
          -53.40332894088622,
          -0.9891956530327278,
          -15.647553415726167
         ],
         "y": [
          1.2947142355982235,
          -22.20108563119773,
          -18.041679535580794,
          -22.41303882013684,
          43.10866792944477,
          -3.159206835116778,
          -7.2197139305647555
         ],
         "z": [
          9.834177962871035,
          -0.9822140375808935,
          -8.900661117993456,
          -22.110377193475227,
          14.447969890976099,
          -4.628207432452099,
          -1.7648333688237525
         ]
        },
        {
         "customdata": [
          [
           "SA556218"
          ],
          [
           "SA556241"
          ],
          [
           "SA556251"
          ],
          [
           "SA556263"
          ],
          [
           "SA556273"
          ],
          [
           "SA556295"
          ],
          [
           "SA556305"
          ],
          [
           "SA556315"
          ],
          [
           "SA556327"
          ],
          [
           "SA556337"
          ],
          [
           "SA556442"
          ],
          [
           "SA556462"
          ],
          [
           "SA556484"
          ],
          [
           "SA556506"
          ],
          [
           "SA556529"
          ],
          [
           "SA556571"
          ],
          [
           "SA556591"
          ],
          [
           "SA556610"
          ],
          [
           "SA556626"
          ],
          [
           "SA556647"
          ],
          [
           "SA556664"
          ],
          [
           "SA556682"
          ],
          [
           "SA556702"
          ],
          [
           "SA556719"
          ],
          [
           "SA556737"
          ],
          [
           "SA556816"
          ],
          [
           "SA556835"
          ],
          [
           "SA556859"
          ],
          [
           "SA556367"
          ],
          [
           "SA556410"
          ],
          [
           "SA556434"
          ],
          [
           "SA556458"
          ],
          [
           "SA556485"
          ],
          [
           "SA556530"
          ],
          [
           "SA556577"
          ],
          [
           "SA556600"
          ],
          [
           "SA556650"
          ],
          [
           "SA556675"
          ],
          [
           "SA556724"
          ],
          [
           "SA556791"
          ],
          [
           "SA556811"
          ],
          [
           "SA556832"
          ],
          [
           "SA556895"
          ]
         ],
         "hovertemplate": "cancer_type=KICH-US<br>PC1=%{x}<br>PC2=%{y}<br>PC3=%{z}<br>samples=%{customdata[0]}<extra></extra>",
         "legendgroup": "KICH-US",
         "marker": {
          "color": "#00cc96",
          "symbol": "circle"
         },
         "mode": "markers",
         "name": "KICH-US",
         "scene": "scene",
         "showlegend": true,
         "type": "scatter3d",
         "x": [
          -27.589908645570308,
          1.9766068706722917,
          -70.88447748298711,
          -77.58774126746262,
          -59.49842804823739,
          -25.436206724902434,
          -49.0979673016612,
          -43.29317358174172,
          -8.192002997100328,
          -28.326878050152466,
          -42.405813117472704,
          -0.16077074126556823,
          -46.47771121529446,
          -25.02567225572661,
          -9.256190105212088,
          -54.12566240400608,
          -63.697661374561974,
          -45.01220567207857,
          -34.236188955347785,
          -27.103159859426064,
          -9.077590757798305,
          -50.217374074890074,
          -75.10833636293425,
          -55.71122460789244,
          -1.4004945172761725,
          -26.390815133798085,
          -39.95887286781515,
          -34.22049948464943,
          -69.32270510884553,
          -22.435148897689285,
          -36.770141696899096,
          -45.51128399057616,
          -5.126386927534272,
          -15.207309114521554,
          -57.8874708837604,
          7.36235873117484,
          -33.683918144887585,
          -4.756255950958464,
          -33.511863307050234,
          -55.651418056565106,
          -21.920364574084388,
          -45.79007743299794,
          -29.365414887474305
         ],
         "y": [
          -2.9925696082827145,
          -20.023226138079323,
          28.121329626834125,
          43.2409345997388,
          13.934465782929454,
          -6.151394093437973,
          11.369863391615187,
          9.748458794164161,
          -7.32849380011068,
          -6.110118269723959,
          5.743915673528338,
          -22.85067251791657,
          8.89716916235712,
          -6.01888655431426,
          -13.987585650568196,
          11.03708712992959,
          19.077913624350835,
          3.564055481552391,
          2.9014394976490494,
          -5.777324619973769,
          -13.444612717204722,
          14.413732818456607,
          33.19670354233319,
          19.785684100822294,
          -30.40020699194403,
          -6.2432541209763315,
          9.054751927981814,
          -4.3114372306363595,
          26.11583815859793,
          -6.0701337986014225,
          4.992098514129764,
          11.22239043871568,
          -19.455189593045205,
          -2.4409446841180444,
          15.943689663567515,
          -25.3040276732859,
          0.15132378300945012,
          -14.06940414732003,
          2.2900479141434302,
          17.693718234196638,
          -3.4917982755314347,
          10.591215992276076,
          -4.222943875486711
         ],
         "z": [
          22.22154851113283,
          44.15231472602001,
          11.534864342361006,
          8.193752979147476,
          3.6420589840107596,
          15.432095247185314,
          4.957919646885399,
          20.086648166335152,
          36.26475891362317,
          17.7586717113554,
          15.878524777294736,
          27.446278427194297,
          12.057451535998856,
          30.43598218455302,
          26.779230634525813,
          3.179363365100763,
          7.573734644315043,
          7.604204547876779,
          24.025665033539198,
          23.944994486025923,
          19.458468862357996,
          13.928960117797565,
          6.559050738690348,
          25.568639357526713,
          16.213286901214794,
          16.68105756365068,
          30.27244608057066,
          9.973872154839995,
          15.59980615725104,
          24.55003999489192,
          18.37180231367542,
          9.87172002564643,
          -12.226418194831725,
          23.69366926479792,
          11.94895268912722,
          28.41148998270129,
          13.402068612846449,
          26.306299392433267,
          24.555734969512425,
          7.0589721383832424,
          24.505478875875397,
          7.221192193245571,
          20.96849114029529
         ]
        },
        {
         "customdata": [
          [
           "SA501427"
          ],
          [
           "SA501431"
          ],
          [
           "SA501435"
          ],
          [
           "SA501439"
          ],
          [
           "SA501452"
          ],
          [
           "SA501456"
          ],
          [
           "SA501460"
          ],
          [
           "SA501464"
          ],
          [
           "SA501477"
          ],
          [
           "SA501480"
          ],
          [
           "SA501491"
          ],
          [
           "SA501499"
          ],
          [
           "SA501503"
          ],
          [
           "SA501514"
          ],
          [
           "SA501517"
          ],
          [
           "SA501523"
          ],
          [
           "SA501531"
          ],
          [
           "SA501564"
          ],
          [
           "SA501535"
          ],
          [
           "SA501540"
          ],
          [
           "SA501571"
          ],
          [
           "SA501575"
          ],
          [
           "SA501579"
          ],
          [
           "SA501583"
          ],
          [
           "SA501587"
          ],
          [
           "SA501591"
          ],
          [
           "SA501595"
          ],
          [
           "SA501599"
          ],
          [
           "SA501607"
          ],
          [
           "SA501623"
          ],
          [
           "SA501631"
          ],
          [
           "SA501637"
          ],
          [
           "SA270398"
          ],
          [
           "SA501639"
          ],
          [
           "SA501645"
          ],
          [
           "SA501647"
          ],
          [
           "SA501424"
          ],
          [
           "SA501432"
          ],
          [
           "SA501436"
          ],
          [
           "SA501440"
          ],
          [
           "SA501445"
          ],
          [
           "SA501449"
          ],
          [
           "SA501453"
          ],
          [
           "SA501457"
          ],
          [
           "SA501461"
          ],
          [
           "SA501465"
          ],
          [
           "SA501476"
          ],
          [
           "SA501481"
          ],
          [
           "SA501490"
          ],
          [
           "SA501494"
          ],
          [
           "SA501498"
          ],
          [
           "SA501502"
          ],
          [
           "SA501507"
          ],
          [
           "SA501511"
          ],
          [
           "SA501526"
          ],
          [
           "SA501534"
          ],
          [
           "SA501562"
          ],
          [
           "SA501572"
          ],
          [
           "SA501578"
          ],
          [
           "SA501576"
          ],
          [
           "SA501582"
          ],
          [
           "SA501586"
          ],
          [
           "SA501590"
          ],
          [
           "SA501606"
          ],
          [
           "SA501610"
          ],
          [
           "SA501614"
          ],
          [
           "SA501618"
          ],
          [
           "SA501622"
          ],
          [
           "SA501626"
          ]
         ],
         "hovertemplate": "cancer_type=LIRI-JP<br>PC1=%{x}<br>PC2=%{y}<br>PC3=%{z}<br>samples=%{customdata[0]}<extra></extra>",
         "legendgroup": "LIRI-JP",
         "marker": {
          "color": "#ab63fa",
          "symbol": "circle"
         },
         "mode": "markers",
         "name": "LIRI-JP",
         "scene": "scene",
         "showlegend": true,
         "type": "scatter3d",
         "x": [
          -38.361328413425696,
          -32.159079263439,
          -68.00340546347758,
          -60.495192010678984,
          -57.71330676506239,
          -41.79918108670557,
          -82.92289413063146,
          -64.55064985465688,
          -47.69465932106561,
          -32.69452207870175,
          -47.52305161687595,
          -45.67449331249998,
          -71.1561600881562,
          -52.70977714292916,
          -49.61695692772051,
          -18.43052701239653,
          -45.96837780365182,
          -66.64318865738107,
          -71.60024783366765,
          -38.680110934926205,
          -23.104884514836016,
          -46.87533204926024,
          -45.445755951624484,
          -34.67676425274886,
          -86.4795771627974,
          -60.4308646930006,
          -55.08170249102225,
          -38.34135928789187,
          -42.04198781729543,
          13.397009605662213,
          44.15210243289874,
          -76.42965899236897,
          -66.96966735154162,
          -30.85664145391407,
          -23.60135455599341,
          23.863652040320215,
          -18.230580519469463,
          -46.609086849930975,
          -6.853737242469147,
          -40.102007551206555,
          -36.48815817588475,
          -10.423554249815377,
          -30.49003077762602,
          -65.86093330754323,
          -11.230676365816219,
          -37.91076106703341,
          -22.13053991656108,
          -17.559248510094257,
          -24.41740463902645,
          12.763074168806854,
          -34.42695032017389,
          -6.163774884198011,
          5.023781879927863,
          -30.374155196614705,
          -12.448450623967016,
          -0.2730861871009164,
          25.12433484706349,
          -77.33066279569789,
          -81.40414964520859,
          3.386275001075666,
          -50.97693278025111,
          -10.450587916630878,
          -29.26537537019201,
          13.487100110063883,
          5.845758537593008,
          7.453685411524344,
          -36.294478625981334,
          3.5238206191370405,
          -18.815197335438633
         ],
         "y": [
          28.63805026848563,
          12.074922557977562,
          22.840689336193442,
          44.189236306856074,
          30.651813382279776,
          33.80138355376517,
          57.91014513347164,
          41.590629735114014,
          42.20276453448646,
          25.79539824230103,
          13.079551361223004,
          36.22924564580854,
          51.02074157897266,
          25.478607457915192,
          40.44087898430222,
          20.3265807832553,
          46.6043702322793,
          47.99835410000844,
          44.461112897078024,
          21.058486598798332,
          28.441090980028,
          26.246579955357486,
          31.57325216206887,
          21.46626799758389,
          57.06006676054056,
          34.07610196999016,
          33.20586678861296,
          26.549899382500854,
          31.626802119671122,
          5.895604659339175,
          -1.2193652805194979,
          54.95055084016,
          54.37703206643501,
          29.89992329650271,
          30.347613610685695,
          -11.499044249862418,
          22.06016261822924,
          30.72367306230194,
          16.00098793752437,
          21.30940473028993,
          29.576445763624186,
          27.611238654337456,
          30.326825653717247,
          42.27665642999571,
          18.310198106849327,
          36.24844374765334,
          21.216095308042526,
          22.444160799340963,
          33.2126843346811,
          -10.581886279440052,
          31.063598602632727,
          16.71232708974816,
          14.500492211714565,
          28.68482972923278,
          6.678787225359424,
          17.712558735153923,
          13.359116953617017,
          57.17265379108133,
          58.7698752956885,
          5.934475166043904,
          19.685513849083318,
          30.302742085018867,
          5.705833147292077,
          3.4904366438727976,
          -23.753329257617313,
          3.9334458437787867,
          20.39967730023022,
          1.462398171723453,
          -0.64644891172689
         ],
         "z": [
          38.16566712057342,
          12.359913352888485,
          5.897273198226788,
          39.384921287781175,
          24.12597786812728,
          34.47415891783312,
          23.855970556118518,
          19.34117863991354,
          54.269793979039385,
          41.22065090120926,
          25.445077635024,
          35.52672059994525,
          25.008907560514285,
          13.69756235502114,
          40.08762739646489,
          40.74454058454542,
          18.669228527132994,
          34.57299998827229,
          22.75707866020972,
          -3.6813965072366965,
          36.69301093273882,
          12.177926784548202,
          32.738952624935386,
          22.096933502013396,
          28.533078038661383,
          26.941797714599446,
          33.928544872247684,
          20.89343750706167,
          46.08274178237911,
          1.0524342058864007,
          17.607642006114546,
          35.45266519049307,
          39.30444758000497,
          42.743920618467655,
          39.39663114509339,
          23.934528324571517,
          31.925536354598506,
          6.268672010268135,
          29.657846434523794,
          16.604534990291352,
          38.15752790044038,
          26.697665799607062,
          49.33724595579162,
          26.288195026531664,
          31.294388366563627,
          38.60570134772824,
          31.955628106982807,
          32.540040983632224,
          28.73790517933857,
          14.440385309171033,
          35.78157052093826,
          6.2802449208791,
          15.038158484234685,
          30.619923297403858,
          -0.7189142297072708,
          23.34962319488572,
          -6.865761202861444,
          22.827971234535372,
          28.045275003802352,
          5.53939643003729,
          -11.650132853064099,
          0.15866756496672152,
          -9.614837117319185,
          -2.4642641404249206,
          -14.757233556752029,
          -13.207840817075642,
          11.802221020883987,
          -6.932293606195885,
          -17.63439772602127
         ]
        },
        {
         "customdata": [
          [
           "SA320974"
          ],
          [
           "SA321048"
          ],
          [
           "SA542137"
          ],
          [
           "SA320956"
          ],
          [
           "SA320878"
          ],
          [
           "SA557677"
          ],
          [
           "SA321021"
          ],
          [
           "SA320902"
          ],
          [
           "SA542140"
          ],
          [
           "SA542046"
          ],
          [
           "SA542143"
          ],
          [
           "SA542149"
          ],
          [
           "SA542053"
          ],
          [
           "SA320920"
          ],
          [
           "SA542152"
          ],
          [
           "SA542129"
          ],
          [
           "SA542049"
          ],
          [
           "SA320866"
          ],
          [
           "SA320824"
          ],
          [
           "SA542034"
          ],
          [
           "SA542111"
          ],
          [
           "SA321106"
          ],
          [
           "SA320938"
          ],
          [
           "SA557665"
          ],
          [
           "SA542155"
          ],
          [
           "SA320830"
          ],
          [
           "SA321030"
          ],
          [
           "SA542075"
          ],
          [
           "SA557689"
          ],
          [
           "SA320908"
          ],
          [
           "SA542105"
          ],
          [
           "SA320884"
          ],
          [
           "SA542040"
          ],
          [
           "SA320992"
          ],
          [
           "SA320944"
          ],
          [
           "SA542021"
          ],
          [
           "SA320968"
          ],
          [
           "SA320848"
          ],
          [
           "SA542027"
          ],
          [
           "SA557668"
          ],
          [
           "SA542120"
          ],
          [
           "SA321103"
          ],
          [
           "SA321004"
          ],
          [
           "SA542030"
          ],
          [
           "SA542108"
          ],
          [
           "SA542114"
          ],
          [
           "SA542101"
          ],
          [
           "SA542054"
          ],
          [
           "SA542117"
          ],
          [
           "SA320914"
          ],
          [
           "SA542123"
          ],
          [
           "SA542134"
          ],
          [
           "SA542058"
          ],
          [
           "SA542069"
          ],
          [
           "SA542062"
          ],
          [
           "SA320926"
          ],
          [
           "SA320854"
          ],
          [
           "SA542063"
          ],
          [
           "SA542024"
          ],
          [
           "SA321057"
          ],
          [
           "SA542126"
          ],
          [
           "SA320872"
          ],
          [
           "SA542072"
          ],
          [
           "SA542078"
          ],
          [
           "SA542043"
          ],
          [
           "SA321066"
          ],
          [
           "SA321023"
          ],
          [
           "SA321032"
          ],
          [
           "SA320896"
          ],
          [
           "SA321119"
          ],
          [
           "SA320962"
          ],
          [
           "SA320980"
          ],
          [
           "SA321041"
          ],
          [
           "SA321137"
          ],
          [
           "SA320998"
          ],
          [
           "SA320986"
          ],
          [
           "SA542132"
          ],
          [
           "SA542146"
          ],
          [
           "SA542064"
          ],
          [
           "SA542093"
          ],
          [
           "SA320818"
          ],
          [
           "SA321128"
          ],
          [
           "SA542158"
          ],
          [
           "SA542018"
          ],
          [
           "SA320950"
          ],
          [
           "SA542160"
          ],
          [
           "SA320890"
          ],
          [
           "SA320842"
          ],
          [
           "SA320836"
          ],
          [
           "SA321050"
          ],
          [
           "SA320932"
          ],
          [
           "SA542084"
          ],
          [
           "SA320860"
          ],
          [
           "SA321012"
          ],
          [
           "SA542087"
          ],
          [
           "SA542082"
          ],
          [
           "SA542090"
          ],
          [
           "SA542096"
          ]
         ],
         "hovertemplate": "cancer_type=MALY-DE<br>PC1=%{x}<br>PC2=%{y}<br>PC3=%{z}<br>samples=%{customdata[0]}<extra></extra>",
         "legendgroup": "MALY-DE",
         "marker": {
          "color": "#FFA15A",
          "symbol": "circle"
         },
         "mode": "markers",
         "name": "MALY-DE",
         "scene": "scene",
         "showlegend": true,
         "type": "scatter3d",
         "x": [
          39.78360087585376,
          51.163067678966826,
          30.925466998179417,
          38.320056390467066,
          53.014880593347655,
          -48.83409616076336,
          20.963823165479035,
          50.818679531940866,
          35.05093880044051,
          65.42001288791586,
          54.50776934866532,
          6.017137191805077,
          53.51947213159123,
          36.74691911728337,
          50.88997153901398,
          50.20385692099609,
          24.116957138805112,
          23.755484804978966,
          17.01509073773076,
          42.029534206397564,
          30.757001216345568,
          52.197954858673185,
          48.31905322665859,
          35.363798342988446,
          55.144155153735,
          12.046844651734816,
          51.15813711774978,
          31.790473910031434,
          62.33127590822313,
          49.17205532675951,
          53.03111031593165,
          33.721658088065396,
          0.5148484229751671,
          51.03109729464702,
          55.420261345667754,
          -0.9341816066944274,
          71.81305839586473,
          50.35303096121821,
          2.9441569307557516,
          26.677332437857427,
          37.657612072461106,
          13.135842189927942,
          -4.199310513166687,
          52.046386700959786,
          39.68431557087689,
          64.91997418864399,
          32.59861695059389,
          46.038137027894365,
          20.613780836030738,
          37.06017884505038,
          48.2747519161655,
          49.3450296406689,
          54.15586181503904,
          30.830130491284358,
          31.664985369985285,
          81.76189648022574,
          72.44764885412907,
          25.489123520913193,
          66.60989140554085,
          70.49320881159,
          29.95006773020656,
          8.371599966314523,
          57.42956696370163,
          -11.532155168771167,
          90.19715544180251,
          48.32812151602986,
          7.997768753012858,
          52.49920004992926,
          39.79137468170613,
          4.038985638328274,
          1.9163077028336766,
          37.73448362270576,
          35.04707000138352,
          60.73725690420168,
          22.491358910960283,
          40.711324286776915,
          -17.0935785779285,
          -8.411887987637932,
          74.53681775281517,
          -1.5999740146179173,
          7.731873876999029,
          50.52309970038125,
          32.62379204363907,
          53.77357642670783,
          57.903910602047404,
          46.613119903138326,
          28.419236949373712,
          6.911570950254371,
          26.503258446497263,
          30.76862492640176,
          -0.7973092831440936,
          -23.03618035148822,
          22.395918844187594,
          33.59376266512621,
          58.567858626594955,
          21.572248882207784,
          32.14284877528153,
          59.511573086937474
         ],
         "y": [
          31.794702853488527,
          16.326428548917807,
          35.08465047810279,
          25.547973233864035,
          46.290319702272704,
          30.794139523186598,
          24.823527938879902,
          7.147347513062669,
          30.628994021815636,
          37.39958885600876,
          27.663506743195374,
          22.94326452534312,
          40.887896093929434,
          18.31597777056125,
          37.36304752611051,
          58.68025388012112,
          27.396886467398836,
          19.72589950053717,
          21.239245151304374,
          13.029988194267764,
          23.955109405029123,
          30.558451030117173,
          40.49122088489343,
          11.250147599463347,
          42.678253344446745,
          16.40122936500457,
          17.011329641155182,
          33.44682662415428,
          41.64697766387509,
          20.619616991366556,
          24.032997161941378,
          17.946253861474982,
          27.848205001602373,
          9.06841072236457,
          28.746532932337736,
          19.009505213117816,
          19.88875788238236,
          7.078678669668257,
          23.22663760525139,
          20.59381572328494,
          31.340418469540047,
          22.703283055764583,
          33.35702565188834,
          23.282696118239187,
          6.41475372958302,
          25.448379633709067,
          48.6298669387404,
          25.29004808951726,
          14.46222012644479,
          8.233247291162987,
          32.68525164183809,
          15.092918755726961,
          39.68483319732415,
          18.881993181111337,
          38.36040599394686,
          45.90074028068672,
          46.19447558819651,
          11.869312028680657,
          39.9466710272577,
          24.73260309747849,
          16.62705061047564,
          22.430066648060734,
          48.693660723050165,
          23.464471584620803,
          50.00122012817169,
          41.110055519037644,
          32.52072373225791,
          39.90198963726715,
          34.888046957213405,
          32.48500892308914,
          24.182814315429347,
          16.67271898069938,
          37.98684781535775,
          50.89380811347546,
          17.968209673001553,
          36.16215496201799,
          55.975878053473004,
          54.498934307695365,
          40.94434484980854,
          25.751827571120167,
          24.117704123305174,
          25.80812698596282,
          21.752879354625637,
          40.49307834039199,
          45.06908799499767,
          22.9650489290642,
          43.63552449592447,
          16.429329587717426,
          10.6832105551319,
          16.112309176991108,
          16.172497628821933,
          34.89463647083678,
          25.202891042136944,
          10.973989511488623,
          48.29038422056814,
          42.460688951086574,
          17.087604479572654,
          52.84151377511616
         ],
         "z": [
          -27.78914810623825,
          -41.239933454849286,
          -28.23894183117289,
          -31.374200274791868,
          -26.87759530838932,
          -23.602287908001973,
          -22.626985748839463,
          -22.935353727934544,
          -38.382805294625065,
          -37.098023995371925,
          -32.1987788457191,
          -29.597524360012788,
          -36.727114676251475,
          -46.92019326491957,
          -28.99273102572964,
          -32.41186794025725,
          -25.123209742498766,
          -22.816565689955098,
          -62.93480790968562,
          -44.32684698733198,
          -29.038777415446926,
          -27.82765622750055,
          -22.208260963366065,
          -43.2809730872857,
          -23.51362600878227,
          -60.91317562013034,
          -49.781834139948785,
          -37.14759857624677,
          -38.118044546602476,
          -47.84141349513272,
          -33.03720689089021,
          -8.52033967575134,
          -36.89347596128337,
          -53.21666531967901,
          -17.980151182799144,
          -40.58059186756839,
          -37.53201729502621,
          -56.2445467755649,
          -58.262782257383115,
          -30.75095782790001,
          -25.32554209347589,
          -43.779487258803954,
          -26.509430406725972,
          -31.078724498140517,
          -61.545527632210074,
          -42.78766334161962,
          -29.148714889277862,
          -37.42764227080865,
          -24.642698784659697,
          -27.456922611739248,
          -43.25892993838041,
          -23.837907848778073,
          -34.95633644914683,
          -38.32080774547786,
          -30.800501806260417,
          -19.58497682272106,
          -27.77756358330736,
          -7.714662486832809,
          -35.94494580121153,
          -28.317808215692438,
          -34.92719261260042,
          -25.30069002579552,
          -27.572586393978174,
          -42.736105333011736,
          -33.9249038092664,
          -20.790420268897396,
          -25.818297945514153,
          -20.43672501440407,
          -20.335169702112896,
          -30.95167030248725,
          -30.787224094073125,
          -50.337845906581094,
          -26.339249622094133,
          -26.83905356921256,
          -49.923539903948935,
          -15.711147400221732,
          -21.596604376263162,
          -24.7389502477429,
          -31.901157293464568,
          -30.311243011487207,
          -60.30625495954888,
          -34.65732773520622,
          -45.694548444461475,
          -29.81279302068492,
          -31.215823639810868,
          -32.69295427974865,
          -28.611658424073976,
          -50.905920658247204,
          -33.5973905706741,
          -25.872138577214496,
          -53.147338158412694,
          -27.231039332970777,
          -46.164903079438425,
          -50.86991458361153,
          -25.490329733730675,
          -30.086233795798744,
          -41.19077658941407,
          -23.616181074210022
         ]
        },
        {
         "customdata": [
          [
           "SA505244"
          ],
          [
           "SA505270"
          ],
          [
           "SA505282"
          ],
          [
           "SA505297"
          ],
          [
           "SA505316"
          ],
          [
           "SA505328"
          ],
          [
           "SA505351"
          ],
          [
           "SA505363"
          ],
          [
           "SA505379"
          ],
          [
           "SA505389"
          ],
          [
           "SA505404"
          ],
          [
           "SA505416"
          ],
          [
           "SA505437"
          ],
          [
           "SA505458"
          ],
          [
           "SA505492"
          ],
          [
           "SA505503"
          ],
          [
           "SA505516"
          ],
          [
           "SA505529"
          ],
          [
           "SA505540"
          ],
          [
           "SA505551"
          ],
          [
           "SA505563"
          ],
          [
           "SA505577"
          ],
          [
           "SA505591"
          ],
          [
           "SA505613"
          ],
          [
           "SA505633"
          ],
          [
           "SA505654"
          ],
          [
           "SA505676"
          ],
          [
           "SA505702"
          ],
          [
           "SA505730"
          ],
          [
           "SA505750"
          ],
          [
           "SA505780"
          ],
          [
           "SA505795"
          ],
          [
           "SA505808"
          ],
          [
           "SA505821"
          ],
          [
           "SA505835"
          ],
          [
           "SA505850"
          ],
          [
           "SA505863"
          ],
          [
           "SA505889"
          ],
          [
           "SA505904"
          ],
          [
           "SA505918"
          ],
          [
           "SA505933"
          ],
          [
           "SA505944"
          ],
          [
           "SA505950"
          ],
          [
           "SA505245"
          ],
          [
           "SA505258"
          ],
          [
           "SA505271"
          ],
          [
           "SA505352"
          ],
          [
           "SA505478"
          ],
          [
           "SA505493"
          ],
          [
           "SA505539"
          ],
          [
           "SA505545"
          ],
          [
           "SA505657"
          ],
          [
           "SA505675"
          ],
          [
           "SA505690"
          ],
          [
           "SA505701"
          ],
          [
           "SA505711"
          ],
          [
           "SA505727"
          ],
          [
           "SA505738"
          ],
          [
           "SA505754"
          ],
          [
           "SA505768"
          ],
          [
           "SA505781"
          ],
          [
           "SA505796"
          ],
          [
           "SA505809"
          ],
          [
           "SA505825"
          ],
          [
           "SA505861"
          ],
          [
           "SA505872"
          ],
          [
           "SA505885"
          ],
          [
           "SA505897"
          ],
          [
           "SA505919"
          ]
         ],
         "hovertemplate": "cancer_type=OV-AU<br>PC1=%{x}<br>PC2=%{y}<br>PC3=%{z}<br>samples=%{customdata[0]}<extra></extra>",
         "legendgroup": "OV-AU",
         "marker": {
          "color": "#19d3f3",
          "symbol": "circle"
         },
         "mode": "markers",
         "name": "OV-AU",
         "scene": "scene",
         "showlegend": true,
         "type": "scatter3d",
         "x": [
          13.518810904756865,
          24.969386347207152,
          26.120368251011374,
          -10.378247113863571,
          6.821897585746413,
          -52.1164669126094,
          -71.22717936543332,
          9.512404130378917,
          37.964776431030735,
          14.280448996427243,
          21.621127136531197,
          -59.1421468918136,
          28.48403983120752,
          28.24105694730894,
          -48.05785338632745,
          -27.57653270719372,
          5.067087048044259,
          -57.96943110886718,
          18.207629445297293,
          -18.57852780347668,
          50.07577812153859,
          -24.26952966503219,
          -72.90117951259597,
          -21.917756076048423,
          -21.733986853322367,
          -26.268657748076635,
          -12.051585692789084,
          -11.293237035967762,
          11.935144614291245,
          -36.471204716991295,
          23.302105802134957,
          -15.522266566204825,
          0.8887999112329873,
          -4.581700901604466,
          -43.25783740439335,
          9.320228634556898,
          -18.832632616429866,
          10.523825332193226,
          -21.208168146789784,
          -18.000130549252752,
          8.60776236188288,
          4.593132297353569,
          -25.182416755359743,
          13.297933176479154,
          -43.71714099679881,
          6.292486936952409,
          6.3345731921653465,
          0.24094428965248246,
          -22.614572088597715,
          -8.171894738030792,
          -15.528121024204664,
          -61.685576052823876,
          -6.1781417649828585,
          23.659865605603212,
          13.940308343056259,
          26.653619931966745,
          14.96987876594082,
          1.4318552890469478,
          39.056725772849454,
          -58.57744891469874,
          -32.10259815007177,
          -19.010800590764234,
          61.9103675117854,
          -38.60788169582529,
          65.97469202103636,
          25.126958945158478,
          17.47373833461961,
          29.99272927352319,
          -24.661262504673772
         ],
         "y": [
          -17.138550741814043,
          -29.997928478645242,
          -30.019162283990628,
          -8.006574021569817,
          -29.315532692539044,
          27.52235746184888,
          14.322202833349792,
          -28.160576187165447,
          -35.62119722459905,
          -22.678293323423503,
          -33.90055740865385,
          10.32735534154926,
          -32.94670755268399,
          -33.845086424246425,
          8.638916354757015,
          -7.511631967485134,
          -21.00070379967062,
          17.334408107481444,
          -21.015035632861686,
          -9.013383453798635,
          -42.400441270873344,
          -10.334024560957731,
          25.407246064961857,
          -7.762639996700182,
          -15.37684787058611,
          2.423697464411195,
          -5.784129229900084,
          -7.370390515237423,
          -20.805126750659035,
          -4.074374163976487,
          -39.37368153703783,
          1.4542337356081192,
          -7.978410632864188,
          -20.017856893405995,
          8.840743641726666,
          -18.488111249193523,
          -6.655873910678493,
          -14.855647480277336,
          -0.37100454910970626,
          -3.1263624841953486,
          -20.55789588011681,
          -8.412843255606374,
          2.0587436867767877,
          -14.097749668787818,
          7.193019928800126,
          -14.832803704522224,
          -26.55371945725696,
          -16.717038328095757,
          -7.9809498767491975,
          -3.4327311462842003,
          13.392432110122286,
          25.644216930561637,
          -10.12448645690482,
          -13.542708950580122,
          -22.069910378390368,
          -20.869095464989613,
          -18.458309341255788,
          -10.513934520640763,
          -28.61037714310424,
          2.66608616768186,
          -5.181321044692365,
          -12.315020612645087,
          -48.98085234217454,
          0.7213245579867891,
          18.83214532543909,
          -15.944519538062304,
          -13.081348059188125,
          -32.11261079352973,
          12.264669189559465
         ],
         "z": [
          -15.422113939331446,
          -5.127469504742465,
          -19.592088245408338,
          -16.83361064930645,
          -29.380273453841145,
          -26.564752194193105,
          -36.639136704364084,
          -17.63703673658469,
          -23.004074918745026,
          -14.411902839413948,
          -6.818789927315236,
          -27.233488249954767,
          -18.252586829130532,
          -7.166611279775289,
          -19.678159131917713,
          -38.59178466283758,
          -12.223312398771816,
          -35.18125560526368,
          -21.054527120909217,
          -20.078782889890082,
          -32.11047973367673,
          -25.990585252785177,
          -29.614526519445704,
          -31.815263178267045,
          -40.839573879653365,
          -35.834067459581426,
          -7.097884252183425,
          -21.007280066457263,
          -15.40026324376853,
          -27.409125669281334,
          -8.830648659526599,
          -12.935324833132466,
          -12.877956455857626,
          -19.519615599538486,
          -16.53653386300611,
          -14.470054976508807,
          -27.475651556534412,
          -4.06939024898945,
          -9.746666897967385,
          -18.923841345306002,
          -4.3923380449264116,
          -16.869102922976296,
          -26.44633570927589,
          -22.182484565534672,
          -32.97246879887548,
          -14.274880942678232,
          -9.96077324148241,
          -22.71702151260583,
          -25.14521095921893,
          -17.02426230140411,
          -16.072087334566863,
          -13.98247440960236,
          -32.140753789631745,
          -20.279354227024065,
          -38.39988845061339,
          -18.013054273517998,
          -15.794594615691816,
          -18.419846325767825,
          -14.758510732734484,
          -40.497124103915624,
          -39.46126428294153,
          -41.179680820667144,
          -23.870690351330513,
          -29.563499163993747,
          -19.603102708180728,
          -17.13495590920314,
          -19.843005156815323,
          5.5765460802741265,
          -13.222557932682538
         ]
        },
        {
         "customdata": [
          [
           "SA407890"
          ],
          [
           "SA407922"
          ],
          [
           "SA407982"
          ],
          [
           "SA528686"
          ],
          [
           "SA408406"
          ],
          [
           "SA411717"
          ],
          [
           "SA408562"
          ],
          [
           "SA408698"
          ],
          [
           "SA411002"
          ],
          [
           "SA408882"
          ],
          [
           "SA410847"
          ],
          [
           "SA410670"
          ],
          [
           "SA409179"
          ],
          [
           "SA518628"
          ],
          [
           "SA409250"
          ],
          [
           "SA409694"
          ],
          [
           "SA412207"
          ],
          [
           "SA409294"
          ],
          [
           "SA409327"
          ],
          [
           "SA409438"
          ],
          [
           "SA409487"
          ],
          [
           "SA528682"
          ],
          [
           "SA410202"
          ],
          [
           "SA409538"
          ],
          [
           "SA410223"
          ],
          [
           "SA410303"
          ],
          [
           "SA410399"
          ],
          [
           "SA410374"
          ],
          [
           "SA410574"
          ],
          [
           "SA411297"
          ],
          [
           "SA410526"
          ],
          [
           "SA409614"
          ],
          [
           "SA518721"
          ],
          [
           "SA518634"
          ],
          [
           "SA409651"
          ],
          [
           "SA410900"
          ],
          [
           "SA410918"
          ],
          [
           "SA410978"
          ],
          [
           "SA410997"
          ],
          [
           "SA411178"
          ],
          [
           "SA411018"
          ],
          [
           "SA408187"
          ],
          [
           "SA411205"
          ],
          [
           "SA411422"
          ],
          [
           "SA528674"
          ],
          [
           "SA411401"
          ],
          [
           "SA411225"
          ],
          [
           "SA528740"
          ],
          [
           "SA410851"
          ],
          [
           "SA410875"
          ],
          [
           "SA411713"
          ],
          [
           "SA409766"
          ],
          [
           "SA410071"
          ],
          [
           "SA410892"
          ],
          [
           "SA410190"
          ],
          [
           "SA411389"
          ],
          [
           "SA518611"
          ],
          [
           "SA411825"
          ],
          [
           "SA412067"
          ],
          [
           "SA411786"
          ],
          [
           "SA411737"
          ],
          [
           "SA528760"
          ],
          [
           "SA411995"
          ],
          [
           "SA528708"
          ],
          [
           "SA411549"
          ],
          [
           "SA518664"
          ],
          [
           "SA518680"
          ],
          [
           "SA518601"
          ],
          [
           "SA518622"
          ],
          [
           "SA518703"
          ],
          [
           "SA518739"
          ],
          [
           "SA518764"
          ],
          [
           "SA518748"
          ],
          [
           "SA518804"
          ],
          [
           "SA518816"
          ]
         ],
         "hovertemplate": "cancer_type=PACA-AU<br>PC1=%{x}<br>PC2=%{y}<br>PC3=%{z}<br>samples=%{customdata[0]}<extra></extra>",
         "legendgroup": "PACA-AU",
         "marker": {
          "color": "#FF6692",
          "symbol": "circle"
         },
         "mode": "markers",
         "name": "PACA-AU",
         "scene": "scene",
         "showlegend": true,
         "type": "scatter3d",
         "x": [
          -11.146014035020281,
          44.05080671147364,
          100.93069581108811,
          96.2632401067769,
          39.28753491851523,
          73.81840936335668,
          44.563019214943225,
          53.79057092675223,
          96.60752982696056,
          46.20410873213415,
          124.16665049806177,
          82.99188190353497,
          58.635069221256025,
          45.25467520735268,
          55.49892083554874,
          68.11941692945597,
          103.26987101653108,
          50.363479086260256,
          69.94221158660389,
          84.6471457051056,
          42.41479526719527,
          61.50738260569032,
          55.87650792177177,
          20.934325682907975,
          53.01867931891243,
          39.34548039512387,
          49.492586096870475,
          62.276110131248004,
          29.1215394899563,
          38.07033305363538,
          38.129461618527586,
          22.38503431824703,
          78.96264649208707,
          107.61280126681393,
          57.25960040746514,
          35.721011728406076,
          82.43510919761042,
          85.60298733936298,
          14.720528123935537,
          75.69631221479774,
          46.51939062699422,
          45.94755938299436,
          36.96260851883595,
          24.94086404419091,
          88.85153045915226,
          54.28407527657864,
          84.73046124172518,
          93.27981596719772,
          56.5560174043991,
          68.37262055721202,
          62.68433604771269,
          106.46622462829163,
          59.4401678587784,
          73.51300882386083,
          93.96373013621036,
          62.05759441565166,
          162.58694751430917,
          53.86875391878714,
          63.409411633844144,
          50.14829732256768,
          73.82994829216474,
          87.2754622901439,
          106.06798354406796,
          71.30666062724072,
          60.65268533663859,
          94.22410869923945,
          112.50166716198594,
          87.82328096096828,
          83.90819434843047,
          114.33175008894128,
          192.3817597917879,
          105.5921865755424,
          192.31701093946268,
          161.16216284060948,
          68.93774618046525
         ],
         "y": [
          27.248983797884613,
          -16.76588055128096,
          -41.54993231899731,
          -22.082097456635736,
          -30.07007590346147,
          -31.873064433189974,
          -29.070891571176322,
          -30.994666989493883,
          -34.32466890895142,
          -32.735470850972305,
          -38.60696705992757,
          -32.83689791253358,
          -26.043585824306124,
          -6.085615737961248,
          -27.534889855842195,
          -30.19540928741573,
          -39.51401120003143,
          -29.393283247992954,
          -36.88647676832482,
          -44.0927108249549,
          -12.134347326860862,
          -26.94496007608961,
          -26.497367975693255,
          -15.722378156622488,
          -32.51269737533521,
          -29.928224271273542,
          -34.519102173060745,
          -43.7932235926879,
          -34.69854204718818,
          -25.4548131500608,
          -23.940269140694205,
          -9.863214552458121,
          -13.36156017795585,
          -21.532450209458194,
          -32.53769798997411,
          -19.26423594961198,
          -38.29828587663453,
          -28.36728332842444,
          -18.942537966963258,
          -37.88378925295885,
          -28.045051917845136,
          -21.51498064921941,
          -21.97984139531291,
          -29.23980663579659,
          -31.60932955360399,
          -26.964915896654325,
          -40.36992785385999,
          -33.73929074674635,
          -29.878265804230654,
          -38.70012718704057,
          -28.47240652278937,
          -20.42784505843359,
          -37.86421556666807,
          -37.21771374185485,
          -38.365270617964306,
          -37.998968096389184,
          -23.984396008771867,
          -20.89760973060281,
          -42.889420983820095,
          -8.370316852023754,
          -30.298546078767938,
          -30.854483556980426,
          -25.59243525599307,
          -38.14821080922915,
          -18.721141417858355,
          -35.03191127057173,
          -22.61581051836026,
          -36.02519285591714,
          -47.65692405082407,
          -27.295499321783897,
          -28.564537928018588,
          -40.7791198108656,
          -30.750696961444532,
          -35.0538834701252,
          -27.725676809967702
         ],
         "z": [
          53.118291753864675,
          64.84241835507838,
          92.71705014135343,
          93.26348852939797,
          60.589239583048744,
          58.84618132121053,
          61.17396130048,
          70.02457668632435,
          96.63728925235874,
          56.04318922191975,
          100.79710525752593,
          79.18690362757089,
          83.16739710896442,
          72.37649188890019,
          71.12107840666673,
          78.3743610581287,
          98.93109596554115,
          44.44226920279372,
          86.0333447066267,
          85.65368018707554,
          64.32816398930457,
          66.49383219848298,
          69.82542744951215,
          57.04253764673748,
          70.81747887831159,
          64.0024507501796,
          63.55695328877871,
          53.871354383750415,
          58.642110928438356,
          50.62697797019865,
          69.53852136682757,
          66.0859898697854,
          78.91157093020087,
          79.61573036204327,
          67.49537646297746,
          31.430634411624496,
          85.7903264015369,
          79.66476897256663,
          36.04165216994758,
          63.42291859888138,
          59.80491605344524,
          51.71883129242655,
          60.78264972396305,
          43.88958928443355,
          76.46678099051593,
          64.22032524655498,
          79.50550286585718,
          85.29280223720339,
          62.14130255550232,
          66.39145558737613,
          66.7032043643111,
          103.67499749389597,
          62.89052395728444,
          60.627276685761544,
          92.8598881476365,
          61.77705865885007,
          110.66934014362108,
          61.388857062764494,
          55.01550146395438,
          64.83670137814175,
          77.82120096856481,
          70.34958051927335,
          94.10355887244923,
          60.89365577562518,
          65.78983838102644,
          87.26032357472283,
          98.40426620831593,
          86.56327161080895,
          90.11617274807709,
          100.7593698454956,
          140.1745773698146,
          81.67634466993431,
          140.91792171283754,
          110.62394805382466,
          76.3434316607476
         ]
        },
        {
         "customdata": [
          [
           "SA507128"
          ],
          [
           "SA507152"
          ],
          [
           "SA507164"
          ],
          [
           "SA507173"
          ],
          [
           "SA507191"
          ],
          [
           "SA507213"
          ],
          [
           "SA507225"
          ],
          [
           "SA507234"
          ],
          [
           "SA507246"
          ],
          [
           "SA507258"
          ],
          [
           "SA507268"
          ],
          [
           "SA507302"
          ],
          [
           "SA507314"
          ],
          [
           "SA507214"
          ],
          [
           "SA507338"
          ],
          [
           "SA507229"
          ],
          [
           "SA507348"
          ],
          [
           "SA507369"
          ],
          [
           "SA507250"
          ],
          [
           "SA507381"
          ],
          [
           "SA507259"
          ],
          [
           "SA507393"
          ],
          [
           "SA507269"
          ],
          [
           "SA507405"
          ],
          [
           "SA507282"
          ],
          [
           "SA507421"
          ],
          [
           "SA507312"
          ],
          [
           "SA507436"
          ],
          [
           "SA507321"
          ],
          [
           "SA507336"
          ],
          [
           "SA507463"
          ],
          [
           "SA507484"
          ],
          [
           "SA507491"
          ],
          [
           "SA507503"
          ],
          [
           "SA507373"
          ],
          [
           "SA507385"
          ],
          [
           "SA507536"
          ],
          [
           "SA507554"
          ],
          [
           "SA507563"
          ],
          [
           "SA507572"
          ],
          [
           "SA507584"
          ],
          [
           "SA507443"
          ],
          [
           "SA507132"
          ],
          [
           "SA507452"
          ],
          [
           "SA507141"
          ],
          [
           "SA507464"
          ],
          [
           "SA507488"
          ],
          [
           "SA507171"
          ],
          [
           "SA507501"
          ]
         ],
         "hovertemplate": "cancer_type=RECA-EU<br>PC1=%{x}<br>PC2=%{y}<br>PC3=%{z}<br>samples=%{customdata[0]}<extra></extra>",
         "legendgroup": "RECA-EU",
         "marker": {
          "color": "#B6E880",
          "symbol": "circle"
         },
         "mode": "markers",
         "name": "RECA-EU",
         "scene": "scene",
         "showlegend": true,
         "type": "scatter3d",
         "x": [
          -29.7195082835215,
          -58.886462527067955,
          -52.54615840406165,
          -49.01062882320718,
          -48.90487149004225,
          -55.99350753199213,
          -34.19903846864801,
          -59.51313058051192,
          -29.663899295213486,
          -63.42638949253914,
          -35.072467566810936,
          -38.45568008023197,
          -44.156538666083954,
          -1.3724851967975114,
          -48.73481177383955,
          -50.43963353924039,
          -45.47233454582032,
          -59.64384369185367,
          -19.43323324327339,
          -38.01918442820459,
          -60.905632395085725,
          -37.18850792609941,
          -69.39598674556254,
          -46.27761832972039,
          -19.863027868338868,
          -50.36179898537995,
          -51.69329693792769,
          -49.49486100552576,
          -48.36822383742918,
          -26.078098437441348,
          -37.109029144764676,
          -1.0899917181745558,
          -62.57439782560487,
          -58.888759340013756,
          -66.65589535897546,
          -64.60912388943392,
          -52.57746425350807,
          -63.98702273400947,
          -32.60472475687733,
          -40.5665963446669,
          -31.17191758321984,
          -31.022759025996606,
          5.745242660544049,
          -49.191833348183025,
          -34.87280505935446,
          -16.342576417456147,
          -75.6415704420909,
          -36.30446612819479,
          -45.78083102547964
         ],
         "y": [
          -0.34944696735028724,
          17.22128325312256,
          25.252499483258806,
          15.950471312090889,
          11.458674149974646,
          9.392741393935067,
          3.881096421112511,
          15.271469987930878,
          -5.463982209200446,
          20.87176535717477,
          5.415537824968578,
          14.790813750239597,
          13.678752859479367,
          -7.767988090533084,
          16.848072796077467,
          44.31919209448899,
          21.80198826051725,
          10.006989028285327,
          4.79169872557763,
          9.227292438312965,
          40.24472171067256,
          6.164157902073523,
          20.674779460587576,
          15.231658225359046,
          5.819012617286722,
          22.21116216878844,
          27.522891177952534,
          21.666822472228056,
          13.858087847229356,
          2.5156932961474285,
          15.175262814571374,
          1.326076150666937,
          16.69766476807127,
          20.2349620970413,
          22.22747226241445,
          29.284488494096216,
          8.942547296234292,
          31.960245078508358,
          2.7881891734480875,
          11.905417867107694,
          -1.375111726770924,
          4.564206913567315,
          -12.81225036954583,
          15.728404906592754,
          16.74347734064152,
          0.6648043440419328,
          31.002541473548163,
          5.099344858343548,
          10.166163620679797
         ],
         "z": [
          2.1632807149101527,
          27.829075379141752,
          -5.215557433620492,
          38.89683060299638,
          35.87446345272897,
          31.170889317769987,
          -0.9983302308922524,
          22.18747892152477,
          18.796012725144298,
          29.256231140189307,
          16.465516568587468,
          44.83717939282833,
          29.856432543982397,
          28.56744210388359,
          21.096610138814487,
          -0.6740458747904888,
          8.98338755082349,
          23.31429107185953,
          15.195191461409145,
          34.84660736369898,
          0.36705453045209135,
          40.9344322558334,
          16.95304195689135,
          35.989582172045026,
          10.108746474550674,
          9.225305104486695,
          -3.9117451242105883,
          34.89314307656595,
          6.074681141499645,
          16.626629150327105,
          42.085715225332784,
          43.04345229691968,
          25.15366470249099,
          33.53306767559213,
          19.26712359482448,
          -6.126005975543864,
          10.433447726192183,
          3.6803932725039887,
          4.689719169816658,
          34.744328807544285,
          15.075990615300766,
          3.143161594264494,
          23.028506788059815,
          27.1233325766085,
          4.336425006791437,
          14.277371517100033,
          22.57085269765302,
          37.15781761203435,
          28.413893620427373
         ]
        },
        {
         "customdata": [
          [
           "SA554224"
          ],
          [
           "SA554241"
          ],
          [
           "SA554313"
          ],
          [
           "SA554351"
          ],
          [
           "SA554370"
          ],
          [
           "SA554406"
          ],
          [
           "SA560590"
          ],
          [
           "SA554538"
          ],
          [
           "SA554562"
          ],
          [
           "SA554605"
          ],
          [
           "SA554627"
          ],
          [
           "SA554650"
          ],
          [
           "SA554674"
          ],
          [
           "SA554697"
          ],
          [
           "SA554721"
          ],
          [
           "SA554739"
          ],
          [
           "SA554785"
          ],
          [
           "SA554807"
          ],
          [
           "SA554830"
          ],
          [
           "SA554852"
          ],
          [
           "SA553714"
          ],
          [
           "SA553777"
          ],
          [
           "SA553852"
          ],
          [
           "SA553891"
          ],
          [
           "SA554033"
          ],
          [
           "SA554054"
          ],
          [
           "SA554204"
          ],
          [
           "SA554247"
          ],
          [
           "SA554319"
          ],
          [
           "SA554379"
          ],
          [
           "SA554424"
          ],
          [
           "SA554446"
          ],
          [
           "SA554466"
          ],
          [
           "SA555030"
          ]
         ],
         "hovertemplate": "cancer_type=SARC-US<br>PC1=%{x}<br>PC2=%{y}<br>PC3=%{z}<br>samples=%{customdata[0]}<extra></extra>",
         "legendgroup": "SARC-US",
         "marker": {
          "color": "#FF97FF",
          "symbol": "circle"
         },
         "mode": "markers",
         "name": "SARC-US",
         "scene": "scene",
         "showlegend": true,
         "type": "scatter3d",
         "x": [
          1.658312017376192,
          2.934832954736194,
          19.33133308151263,
          22.72582782236109,
          -7.054746829547009,
          59.882621087922125,
          -21.22718338016571,
          50.15534114646683,
          7.093905137828427,
          -47.93360887702241,
          7.412475534254602,
          -18.72770010047568,
          -55.99600954696637,
          -6.774180740944196,
          -7.372631208073235,
          -3.915504011468888,
          2.7798856989683665,
          -27.389594917266564,
          28.415909415311656,
          2.972605594236196,
          67.20846773808043,
          15.42533090855467,
          3.006279643211702,
          -61.93403548799105,
          61.880329877673724,
          14.677401892639285,
          34.570775021399406,
          3.9947444783277333,
          35.58738886868647,
          -27.777753480753706,
          -48.07329127829611,
          11.381070927990251,
          -24.196328850683447,
          50.15410684816822
         ],
         "y": [
          -28.592263830893877,
          -38.40980890260862,
          -37.61613339165636,
          -31.924525913376,
          -25.033982475699734,
          -70.88423055904066,
          -15.282587887081718,
          -40.23253778063946,
          -27.763331746711042,
          10.021825525501512,
          -36.94274309285905,
          -22.1778411474769,
          12.603311323122483,
          -27.54969187940063,
          -19.618769007583175,
          -37.91939883764744,
          -33.275115048151605,
          8.049834541773233,
          -45.693156863158585,
          -23.614607256848025,
          -72.23356817937598,
          -32.551903926366236,
          -41.01571060224455,
          1.9280119837185914,
          -55.66701654658897,
          -31.59693797149269,
          -45.26505450254554,
          -23.399963150175353,
          -31.46732913511664,
          -15.585840305719739,
          8.898138521502618,
          -32.10333897489303,
          -27.666382124140718,
          -45.146320902265025
         ],
         "z": [
          17.707167426824928,
          -10.29905276379613,
          6.723649915633402,
          17.889070164025775,
          -4.55868377002106,
          -0.20084055895507108,
          -4.810632988198014,
          -6.176301345336886,
          -9.244114875962886,
          -4.4498632044096285,
          -7.175827010735094,
          -22.692462969006424,
          -24.169972925029025,
          -20.76573518729464,
          -10.375125214000802,
          -16.58293090682415,
          -16.938264483701012,
          -9.60648789686739,
          -21.08235203352549,
          -10.948442785357587,
          -8.592242142338401,
          9.782544833003087,
          -12.242410610733398,
          -38.08095368790763,
          -9.472931760969571,
          1.6738500258702829,
          3.57705603043642,
          15.923002066359512,
          -11.665992093483391,
          -38.39924238255492,
          -23.9877610241081,
          0.013588507547149067,
          -48.27013801034755,
          -0.32515793446875046
         ]
        },
        {
         "customdata": [
          [
           "SA511976"
          ],
          [
           "SA511242"
          ],
          [
           "SA443604"
          ],
          [
           "SA441075"
          ],
          [
           "SA441165"
          ],
          [
           "SA443468"
          ],
          [
           "SA510473"
          ],
          [
           "SA512610"
          ],
          [
           "SA510551"
          ],
          [
           "SA510861"
          ],
          [
           "SA441363"
          ],
          [
           "SA442786"
          ],
          [
           "SA511174"
          ],
          [
           "SA512309"
          ],
          [
           "SA511945"
          ],
          [
           "SA510451"
          ],
          [
           "SA443714"
          ],
          [
           "SA439921"
          ],
          [
           "SA440471"
          ],
          [
           "SA443864"
          ],
          [
           "SA512902"
          ],
          [
           "SA512386"
          ],
          [
           "SA442206"
          ],
          [
           "SA440047"
          ],
          [
           "SA441129"
          ],
          [
           "SA513126"
          ],
          [
           "SA511031"
          ],
          [
           "SA511841"
          ],
          [
           "SA443538"
          ]
         ],
         "hovertemplate": "cancer_type=STAD-US<br>PC1=%{x}<br>PC2=%{y}<br>PC3=%{z}<br>samples=%{customdata[0]}<extra></extra>",
         "legendgroup": "STAD-US",
         "marker": {
          "color": "#FECB52",
          "symbol": "circle"
         },
         "mode": "markers",
         "name": "STAD-US",
         "scene": "scene",
         "showlegend": true,
         "type": "scatter3d",
         "x": [
          -16.376705940242633,
          -18.79492109639709,
          14.870887482241768,
          17.208585377146747,
          -20.840473428748332,
          -22.508464636688633,
          86.22322895504564,
          -12.662062357461469,
          -8.752867065956053,
          16.80676181588509,
          7.11854317101639,
          -33.74995122274201,
          -4.938043013265212,
          -2.8616647378926716,
          -9.498202235719694,
          -13.210950904326355,
          -27.779934845882526,
          10.035021539905044,
          16.34135419630879,
          47.107791406035055,
          -24.117370113782652,
          3.1370066556683884,
          14.384098891313853,
          7.979588538298312,
          48.53619780566956,
          33.078611579103686,
          0.18099887660718886,
          23.83825707346915,
          -1.6902452798089165
         ],
         "y": [
          -9.373061207549105,
          0.7700675028896493,
          -32.83502362112366,
          -39.78655796590854,
          -11.167751926508384,
          10.467156662010522,
          -50.65822323322237,
          11.76613781584459,
          -3.2802323208018516,
          -7.0619276995113855,
          -15.673799102944272,
          -12.655240632016937,
          -4.311453886224304,
          2.009074246170202,
          0.7345302935986288,
          4.794428089862558,
          -12.658131055985955,
          -35.88848767732006,
          -27.926961425566667,
          -49.19725226974208,
          10.075483304304797,
          -13.184705497643316,
          -30.20761705208121,
          7.210547817249083,
          -51.66990250509421,
          -8.45390378425888,
          -13.53108789597871,
          -22.776924329724142,
          -9.12743820981821
         ],
         "z": [
          13.080599769293544,
          0.1456131256927096,
          -1.416802014233089,
          -1.6787088144563393,
          2.8298120103135393,
          10.13363459737972,
          38.58961656269121,
          0.34649893089206485,
          5.2308339094415635,
          35.09599247437672,
          13.170531594413216,
          -20.407655282847156,
          6.0777954577367135,
          16.5632105372252,
          11.82360743042398,
          17.454952807278605,
          -29.100266848794234,
          -33.57970892013668,
          6.693852445618893,
          -4.78948561439102,
          -1.552920165526673,
          -6.540783504429121,
          -15.033628175491723,
          11.304530969057653,
          2.932764219082157,
          -1.7060445490881064,
          -2.5753779644039843,
          -11.04921718108987,
          -1.160509024434779
         ]
        }
       ],
       "layout": {
        "legend": {
         "title": {
          "text": "cancer_type"
         },
         "tracegroupgap": 0
        },
        "margin": {
         "t": 60
        },
        "scene": {
         "domain": {
          "x": [
           0,
           1
          ],
          "y": [
           0,
           1
          ]
         },
         "xaxis": {
          "title": {
           "text": "PC1"
          }
         },
         "yaxis": {
          "title": {
           "text": "PC2"
          }
         },
         "zaxis": {
          "title": {
           "text": "PC3"
          }
         }
        },
        "template": {
         "data": {
          "bar": [
           {
            "error_x": {
             "color": "#2a3f5f"
            },
            "error_y": {
             "color": "#2a3f5f"
            },
            "marker": {
             "line": {
              "color": "#E5ECF6",
              "width": 0.5
             },
             "pattern": {
              "fillmode": "overlay",
              "size": 10,
              "solidity": 0.2
             }
            },
            "type": "bar"
           }
          ],
          "barpolar": [
           {
            "marker": {
             "line": {
              "color": "#E5ECF6",
              "width": 0.5
             },
             "pattern": {
              "fillmode": "overlay",
              "size": 10,
              "solidity": 0.2
             }
            },
            "type": "barpolar"
           }
          ],
          "carpet": [
           {
            "aaxis": {
             "endlinecolor": "#2a3f5f",
             "gridcolor": "white",
             "linecolor": "white",
             "minorgridcolor": "white",
             "startlinecolor": "#2a3f5f"
            },
            "baxis": {
             "endlinecolor": "#2a3f5f",
             "gridcolor": "white",
             "linecolor": "white",
             "minorgridcolor": "white",
             "startlinecolor": "#2a3f5f"
            },
            "type": "carpet"
           }
          ],
          "choropleth": [
           {
            "colorbar": {
             "outlinewidth": 0,
             "ticks": ""
            },
            "type": "choropleth"
           }
          ],
          "contour": [
           {
            "colorbar": {
             "outlinewidth": 0,
             "ticks": ""
            },
            "colorscale": [
             [
              0,
              "#0d0887"
             ],
             [
              0.1111111111111111,
              "#46039f"
             ],
             [
              0.2222222222222222,
              "#7201a8"
             ],
             [
              0.3333333333333333,
              "#9c179e"
             ],
             [
              0.4444444444444444,
              "#bd3786"
             ],
             [
              0.5555555555555556,
              "#d8576b"
             ],
             [
              0.6666666666666666,
              "#ed7953"
             ],
             [
              0.7777777777777778,
              "#fb9f3a"
             ],
             [
              0.8888888888888888,
              "#fdca26"
             ],
             [
              1,
              "#f0f921"
             ]
            ],
            "type": "contour"
           }
          ],
          "contourcarpet": [
           {
            "colorbar": {
             "outlinewidth": 0,
             "ticks": ""
            },
            "type": "contourcarpet"
           }
          ],
          "heatmap": [
           {
            "colorbar": {
             "outlinewidth": 0,
             "ticks": ""
            },
            "colorscale": [
             [
              0,
              "#0d0887"
             ],
             [
              0.1111111111111111,
              "#46039f"
             ],
             [
              0.2222222222222222,
              "#7201a8"
             ],
             [
              0.3333333333333333,
              "#9c179e"
             ],
             [
              0.4444444444444444,
              "#bd3786"
             ],
             [
              0.5555555555555556,
              "#d8576b"
             ],
             [
              0.6666666666666666,
              "#ed7953"
             ],
             [
              0.7777777777777778,
              "#fb9f3a"
             ],
             [
              0.8888888888888888,
              "#fdca26"
             ],
             [
              1,
              "#f0f921"
             ]
            ],
            "type": "heatmap"
           }
          ],
          "heatmapgl": [
           {
            "colorbar": {
             "outlinewidth": 0,
             "ticks": ""
            },
            "colorscale": [
             [
              0,
              "#0d0887"
             ],
             [
              0.1111111111111111,
              "#46039f"
             ],
             [
              0.2222222222222222,
              "#7201a8"
             ],
             [
              0.3333333333333333,
              "#9c179e"
             ],
             [
              0.4444444444444444,
              "#bd3786"
             ],
             [
              0.5555555555555556,
              "#d8576b"
             ],
             [
              0.6666666666666666,
              "#ed7953"
             ],
             [
              0.7777777777777778,
              "#fb9f3a"
             ],
             [
              0.8888888888888888,
              "#fdca26"
             ],
             [
              1,
              "#f0f921"
             ]
            ],
            "type": "heatmapgl"
           }
          ],
          "histogram": [
           {
            "marker": {
             "pattern": {
              "fillmode": "overlay",
              "size": 10,
              "solidity": 0.2
             }
            },
            "type": "histogram"
           }
          ],
          "histogram2d": [
           {
            "colorbar": {
             "outlinewidth": 0,
             "ticks": ""
            },
            "colorscale": [
             [
              0,
              "#0d0887"
             ],
             [
              0.1111111111111111,
              "#46039f"
             ],
             [
              0.2222222222222222,
              "#7201a8"
             ],
             [
              0.3333333333333333,
              "#9c179e"
             ],
             [
              0.4444444444444444,
              "#bd3786"
             ],
             [
              0.5555555555555556,
              "#d8576b"
             ],
             [
              0.6666666666666666,
              "#ed7953"
             ],
             [
              0.7777777777777778,
              "#fb9f3a"
             ],
             [
              0.8888888888888888,
              "#fdca26"
             ],
             [
              1,
              "#f0f921"
             ]
            ],
            "type": "histogram2d"
           }
          ],
          "histogram2dcontour": [
           {
            "colorbar": {
             "outlinewidth": 0,
             "ticks": ""
            },
            "colorscale": [
             [
              0,
              "#0d0887"
             ],
             [
              0.1111111111111111,
              "#46039f"
             ],
             [
              0.2222222222222222,
              "#7201a8"
             ],
             [
              0.3333333333333333,
              "#9c179e"
             ],
             [
              0.4444444444444444,
              "#bd3786"
             ],
             [
              0.5555555555555556,
              "#d8576b"
             ],
             [
              0.6666666666666666,
              "#ed7953"
             ],
             [
              0.7777777777777778,
              "#fb9f3a"
             ],
             [
              0.8888888888888888,
              "#fdca26"
             ],
             [
              1,
              "#f0f921"
             ]
            ],
            "type": "histogram2dcontour"
           }
          ],
          "mesh3d": [
           {
            "colorbar": {
             "outlinewidth": 0,
             "ticks": ""
            },
            "type": "mesh3d"
           }
          ],
          "parcoords": [
           {
            "line": {
             "colorbar": {
              "outlinewidth": 0,
              "ticks": ""
             }
            },
            "type": "parcoords"
           }
          ],
          "pie": [
           {
            "automargin": true,
            "type": "pie"
           }
          ],
          "scatter": [
           {
            "fillpattern": {
             "fillmode": "overlay",
             "size": 10,
             "solidity": 0.2
            },
            "type": "scatter"
           }
          ],
          "scatter3d": [
           {
            "line": {
             "colorbar": {
              "outlinewidth": 0,
              "ticks": ""
             }
            },
            "marker": {
             "colorbar": {
              "outlinewidth": 0,
              "ticks": ""
             }
            },
            "type": "scatter3d"
           }
          ],
          "scattercarpet": [
           {
            "marker": {
             "colorbar": {
              "outlinewidth": 0,
              "ticks": ""
             }
            },
            "type": "scattercarpet"
           }
          ],
          "scattergeo": [
           {
            "marker": {
             "colorbar": {
              "outlinewidth": 0,
              "ticks": ""
             }
            },
            "type": "scattergeo"
           }
          ],
          "scattergl": [
           {
            "marker": {
             "colorbar": {
              "outlinewidth": 0,
              "ticks": ""
             }
            },
            "type": "scattergl"
           }
          ],
          "scattermapbox": [
           {
            "marker": {
             "colorbar": {
              "outlinewidth": 0,
              "ticks": ""
             }
            },
            "type": "scattermapbox"
           }
          ],
          "scatterpolar": [
           {
            "marker": {
             "colorbar": {
              "outlinewidth": 0,
              "ticks": ""
             }
            },
            "type": "scatterpolar"
           }
          ],
          "scatterpolargl": [
           {
            "marker": {
             "colorbar": {
              "outlinewidth": 0,
              "ticks": ""
             }
            },
            "type": "scatterpolargl"
           }
          ],
          "scatterternary": [
           {
            "marker": {
             "colorbar": {
              "outlinewidth": 0,
              "ticks": ""
             }
            },
            "type": "scatterternary"
           }
          ],
          "surface": [
           {
            "colorbar": {
             "outlinewidth": 0,
             "ticks": ""
            },
            "colorscale": [
             [
              0,
              "#0d0887"
             ],
             [
              0.1111111111111111,
              "#46039f"
             ],
             [
              0.2222222222222222,
              "#7201a8"
             ],
             [
              0.3333333333333333,
              "#9c179e"
             ],
             [
              0.4444444444444444,
              "#bd3786"
             ],
             [
              0.5555555555555556,
              "#d8576b"
             ],
             [
              0.6666666666666666,
              "#ed7953"
             ],
             [
              0.7777777777777778,
              "#fb9f3a"
             ],
             [
              0.8888888888888888,
              "#fdca26"
             ],
             [
              1,
              "#f0f921"
             ]
            ],
            "type": "surface"
           }
          ],
          "table": [
           {
            "cells": {
             "fill": {
              "color": "#EBF0F8"
             },
             "line": {
              "color": "white"
             }
            },
            "header": {
             "fill": {
              "color": "#C8D4E3"
             },
             "line": {
              "color": "white"
             }
            },
            "type": "table"
           }
          ]
         },
         "layout": {
          "annotationdefaults": {
           "arrowcolor": "#2a3f5f",
           "arrowhead": 0,
           "arrowwidth": 1
          },
          "autotypenumbers": "strict",
          "coloraxis": {
           "colorbar": {
            "outlinewidth": 0,
            "ticks": ""
           }
          },
          "colorscale": {
           "diverging": [
            [
             0,
             "#8e0152"
            ],
            [
             0.1,
             "#c51b7d"
            ],
            [
             0.2,
             "#de77ae"
            ],
            [
             0.3,
             "#f1b6da"
            ],
            [
             0.4,
             "#fde0ef"
            ],
            [
             0.5,
             "#f7f7f7"
            ],
            [
             0.6,
             "#e6f5d0"
            ],
            [
             0.7,
             "#b8e186"
            ],
            [
             0.8,
             "#7fbc41"
            ],
            [
             0.9,
             "#4d9221"
            ],
            [
             1,
             "#276419"
            ]
           ],
           "sequential": [
            [
             0,
             "#0d0887"
            ],
            [
             0.1111111111111111,
             "#46039f"
            ],
            [
             0.2222222222222222,
             "#7201a8"
            ],
            [
             0.3333333333333333,
             "#9c179e"
            ],
            [
             0.4444444444444444,
             "#bd3786"
            ],
            [
             0.5555555555555556,
             "#d8576b"
            ],
            [
             0.6666666666666666,
             "#ed7953"
            ],
            [
             0.7777777777777778,
             "#fb9f3a"
            ],
            [
             0.8888888888888888,
             "#fdca26"
            ],
            [
             1,
             "#f0f921"
            ]
           ],
           "sequentialminus": [
            [
             0,
             "#0d0887"
            ],
            [
             0.1111111111111111,
             "#46039f"
            ],
            [
             0.2222222222222222,
             "#7201a8"
            ],
            [
             0.3333333333333333,
             "#9c179e"
            ],
            [
             0.4444444444444444,
             "#bd3786"
            ],
            [
             0.5555555555555556,
             "#d8576b"
            ],
            [
             0.6666666666666666,
             "#ed7953"
            ],
            [
             0.7777777777777778,
             "#fb9f3a"
            ],
            [
             0.8888888888888888,
             "#fdca26"
            ],
            [
             1,
             "#f0f921"
            ]
           ]
          },
          "colorway": [
           "#636efa",
           "#EF553B",
           "#00cc96",
           "#ab63fa",
           "#FFA15A",
           "#19d3f3",
           "#FF6692",
           "#B6E880",
           "#FF97FF",
           "#FECB52"
          ],
          "font": {
           "color": "#2a3f5f"
          },
          "geo": {
           "bgcolor": "white",
           "lakecolor": "white",
           "landcolor": "#E5ECF6",
           "showlakes": true,
           "showland": true,
           "subunitcolor": "white"
          },
          "hoverlabel": {
           "align": "left"
          },
          "hovermode": "closest",
          "mapbox": {
           "style": "light"
          },
          "paper_bgcolor": "white",
          "plot_bgcolor": "#E5ECF6",
          "polar": {
           "angularaxis": {
            "gridcolor": "white",
            "linecolor": "white",
            "ticks": ""
           },
           "bgcolor": "#E5ECF6",
           "radialaxis": {
            "gridcolor": "white",
            "linecolor": "white",
            "ticks": ""
           }
          },
          "scene": {
           "xaxis": {
            "backgroundcolor": "#E5ECF6",
            "gridcolor": "white",
            "gridwidth": 2,
            "linecolor": "white",
            "showbackground": true,
            "ticks": "",
            "zerolinecolor": "white"
           },
           "yaxis": {
            "backgroundcolor": "#E5ECF6",
            "gridcolor": "white",
            "gridwidth": 2,
            "linecolor": "white",
            "showbackground": true,
            "ticks": "",
            "zerolinecolor": "white"
           },
           "zaxis": {
            "backgroundcolor": "#E5ECF6",
            "gridcolor": "white",
            "gridwidth": 2,
            "linecolor": "white",
            "showbackground": true,
            "ticks": "",
            "zerolinecolor": "white"
           }
          },
          "shapedefaults": {
           "line": {
            "color": "#2a3f5f"
           }
          },
          "ternary": {
           "aaxis": {
            "gridcolor": "white",
            "linecolor": "white",
            "ticks": ""
           },
           "baxis": {
            "gridcolor": "white",
            "linecolor": "white",
            "ticks": ""
           },
           "bgcolor": "#E5ECF6",
           "caxis": {
            "gridcolor": "white",
            "linecolor": "white",
            "ticks": ""
           }
          },
          "title": {
           "x": 0.05
          },
          "xaxis": {
           "automargin": true,
           "gridcolor": "white",
           "linecolor": "white",
           "ticks": "",
           "title": {
            "standoff": 15
           },
           "zerolinecolor": "white",
           "zerolinewidth": 2
          },
          "yaxis": {
           "automargin": true,
           "gridcolor": "white",
           "linecolor": "white",
           "ticks": "",
           "title": {
            "standoff": 15
           },
           "zerolinecolor": "white",
           "zerolinewidth": 2
          }
         }
        }
       }
      }
     },
     "metadata": {},
     "output_type": "display_data"
    }
   ],
   "source": [
    "fig = px.scatter_3d(pca_df, x='PC1', y='PC2', z='PC3', color='cancer_type', hover_data=['samples'])\n",
    "fig.show()"
   ]
  },
  {
   "cell_type": "markdown",
   "metadata": {},
   "source": [
    "#### The plot shows that the most types of cancer are not clearly separated, except for the couple of them. This means that the PCA of the dimentionality of transcription levels of the genes are not the best way to distinguish between the types of cancer. It can be used to distinguish the limited number of types of cancer, but not all of them."
   ]
  }
 ],
 "metadata": {
  "kernelspec": {
   "display_name": "base",
   "language": "python",
   "name": "python3"
  },
  "language_info": {
   "codemirror_mode": {
    "name": "ipython",
    "version": 3
   },
   "file_extension": ".py",
   "mimetype": "text/x-python",
   "name": "python",
   "nbconvert_exporter": "python",
   "pygments_lexer": "ipython3",
   "version": "3.10.13"
  },
  "orig_nbformat": 4
 },
 "nbformat": 4,
 "nbformat_minor": 2
}
